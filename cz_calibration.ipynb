{
 "cells": [
  {
   "cell_type": "code",
   "execution_count": 55,
   "metadata": {},
   "outputs": [],
   "source": [
    "import calibration as _cal \n",
    "import numpy as np\n",
    "import matplotlib.pyplot as plt\n",
    "from importlib import reload\n",
    "from numpy.linalg import matrix_power\n",
    "from scipy.linalg import expm, expm_frechet\n",
    "import pygsti\n",
    "from pygsti.modelmembers.operations import create_from_unitary_mx"
   ]
  },
  {
   "cell_type": "code",
   "execution_count": 56,
   "metadata": {},
   "outputs": [],
   "source": [
    "def PauliMatrix(i):\n",
    "    if i == 0:\n",
    "        return np.array([[1, 0], [0, 1]])\n",
    "    elif i == 1:\n",
    "        return np.array([[0, 1], [1, 0]])\n",
    "    elif i == 2:\n",
    "        return np.array([[0, -1j], [1j, 0]])\n",
    "    elif i == 3:\n",
    "        return np.array([[1, 0], [0, -1]])\n",
    "    else:\n",
    "        raise ValueError(\"i must be 0, 1, 2, or 3.\")\n",
    "\n",
    "def PauliTensor(i, j):\n",
    "    return np.kron(PauliMatrix(i), PauliMatrix(j))\n",
    "\n",
    "def PauliMatrix2Q(n):\n",
    "    i = n // 4\n",
    "    j = n % 4\n",
    "    return PauliTensor(i, j)\n"
   ]
  },
  {
   "cell_type": "code",
   "execution_count": 57,
   "metadata": {},
   "outputs": [],
   "source": [
    "def make_cz_generator(xstate):\n",
    "    error_gen = -(1j/2)*sum([xstate[i-1]*PauliMatrix2Q(i) for i in range(16) if i != 0])\n",
    "    target_gen = -(1j/2)*(- (np.pi/2)*PauliMatrix2Q(0)  \n",
    "                          + (np.pi/2)*PauliTensor(3, 0) \n",
    "                          + (np.pi/2)*PauliTensor(0, 3) \n",
    "                          - (np.pi/2)*PauliTensor(3, 3))\n",
    "    return error_gen + target_gen\n",
    "    \n",
    "def make_cz_unitary(xstate):\n",
    "    return expm(make_cz_generator(xstate))"
   ]
  },
  {
   "cell_type": "code",
   "execution_count": 58,
   "metadata": {},
   "outputs": [],
   "source": [
    "xstate = np.zeros(15)\n",
    "cz = make_cz_unitary(xstate)"
   ]
  },
  {
   "cell_type": "code",
   "execution_count": 60,
   "metadata": {},
   "outputs": [],
   "source": [
    "all_single_qubit_prep_strings = ['0', '1', '+', '-', 'r', 'l']\n",
    "all_single_qubit_meas_strings = ['0', '1', '+', '-', 'r', 'l']\n",
    "all_two_qubit_prep_strings = [p1 + p2 for p1 in all_single_qubit_prep_strings for p2 in all_single_qubit_prep_strings]\n",
    "all_two_qubit_meas_strings = [m1 + m2 for m1 in all_single_qubit_meas_strings for m2 in all_single_qubit_meas_strings]\n",
    "\n",
    "all_sp_op_strings = ['I.X', 'I.XX', 'I.XXX', \n",
    "                     'I.Y', 'I.YY', 'I.YYY',\n",
    "                     'I.Z', 'I.ZZ', 'I.ZZZ',\n",
    "                     'X.I', 'XX.I', 'XXX.I',\n",
    "                     'Y.I', 'YY.I', 'YYY.I',\n",
    "                     'Z.I', 'ZZ.I', 'ZZZ.I']\n",
    "\n",
    "U_rx = expm(-1j*np.pi/4*PauliMatrix(1))\n",
    "U_ry = expm(-1j*np.pi/4*PauliMatrix(2))\n",
    "U_rz = expm(-1j*np.pi/4*PauliMatrix(3))\n",
    "\n",
    "def prep_string_to_vec(prep_string):\n",
    "    prep_comps = []\n",
    "    for i in range(2):\n",
    "        if prep_string[i] == '0':\n",
    "            prep_comps.append(np.array([1, 0]))\n",
    "        elif prep_string[i] == '1':\n",
    "            prep_comps.append(np.array([0, 1]))\n",
    "        elif prep_string[i] == '+':\n",
    "            prep_comps.append((1/np.sqrt(2))*np.array([1, 1]))\n",
    "        elif prep_string[i] == '-':\n",
    "            prep_comps.append((1/np.sqrt(2))*np.array([1, -1]))\n",
    "        elif prep_string[i] == 'r':\n",
    "            prep_comps.append((1/np.sqrt(2))*np.array([1, 1j]))\n",
    "        elif prep_string[i] == 'l':\n",
    "            prep_comps.append((1/np.sqrt(2))*np.array([1, -1j]))\n",
    "        else:\n",
    "            raise ValueError(\"prep_string must be a valid prep string.\")\n",
    "    return np.kron(prep_comps[0], prep_comps[1])\n",
    "\n",
    "def meas_string_to_vec(meas_string):\n",
    "    prep_vec = prep_string_to_vec(meas_string)\n",
    "    return np.conj(prep_vec).T\n",
    "\n",
    "def make_single_qubit_sp_op(sp_op_string):\n",
    "    if sp_op_string == 'I':\n",
    "        return np.eye(2)\n",
    "    elif sp_op_string == 'X':\n",
    "        return U_rx\n",
    "    elif sp_op_string == 'XX':\n",
    "        return U_rx@U_rx\n",
    "    elif sp_op_string == 'XXX':\n",
    "        return U_rx@U_rx@U_rx\n",
    "    elif sp_op_string == 'Y':\n",
    "        return U_ry\n",
    "    elif sp_op_string == 'YY':\n",
    "        return U_ry@U_ry\n",
    "    elif sp_op_string == 'YYY':\n",
    "        return U_ry@U_ry@U_ry\n",
    "    elif sp_op_string == 'Z':\n",
    "        return U_rz\n",
    "    elif sp_op_string == 'ZZ':\n",
    "        return U_rz@U_rz\n",
    "    elif sp_op_string == 'ZZZ':\n",
    "        return U_rz@U_rz@U_rz\n",
    "    else:\n",
    "        raise ValueError(\"sp_op_string must be a valid sp_op string.\")\n",
    "\n",
    "def sp_op_string_to_matrix(sp_op_string):\n",
    "    # split into two parts at '.'\n",
    "    parts = sp_op_string.split('.')\n",
    "    p0 = make_single_qubit_sp_op(parts[0])\n",
    "    p1 = make_single_qubit_sp_op(parts[1])\n",
    "    return np.kron(p0, p1)\n",
    "\n",
    "def observation_definition(sp_op, prep, meas, depth):\n",
    "    obs_def = {}\n",
    "    obs_def['sp_op'] = sp_op_string_to_matrix(sp_op)\n",
    "    obs_def['prep'] = prep_string_to_vec(prep)\n",
    "    obs_def['meas'] = meas_string_to_vec(meas)\n",
    "    obs_def['depth'] = depth\n",
    "    return obs_def"
   ]
  },
  {
   "cell_type": "code",
   "execution_count": 69,
   "metadata": {},
   "outputs": [],
   "source": [
    "def make_process_unitary(xstate, sp_op, d):\n",
    "    u_cz = make_cz_unitary(xstate)\n",
    "    proc_u = matrix_power(sp_op@u_cz, d)\n",
    "    return proc_u\n",
    "\n",
    "def observation_probability(xstate, obs_def):\n",
    "    sp_op = obs_def['sp_op']\n",
    "    d = obs_def['depth']\n",
    "    proc_u = make_process_unitary(xstate, sp_op, d)\n",
    "    prep = obs_def['prep']\n",
    "    meas = obs_def['meas']\n",
    "    return abs(meas@proc_u@prep)**2\n",
    "\n",
    "def observation_jacobian(xstate, obs_def, epsilon=1e-8):\n",
    "    sp_op = obs_def['sp_op']\n",
    "    d = obs_def['depth']\n",
    "    prep = obs_def['prep']\n",
    "    meas = obs_def['meas']\n",
    "    n = len(xstate)\n",
    "    jacobian = np.zeros((4, n))\n",
    "    for i in range(n):\n",
    "        xstate_p = xstate.copy()\n",
    "        xstate_p[i] += epsilon\n",
    "        xstate_m = xstate.copy()\n",
    "        xstate_m[i] -= epsilon\n",
    "        jacobian[:, i] = (observation_probability(xstate_p, obs_def) - observation_probability(xstate_m, obs_def))/(2*epsilon)\n",
    "    return jacobian"
   ]
  },
  {
   "cell_type": "code",
   "execution_count": 71,
   "metadata": {},
   "outputs": [],
   "source": [
    "def observation_fisher_matrix(xstate, obs_def):\n",
    "    sp_op = obs_def['sp_op']\n",
    "    d = obs_def['depth']\n",
    "    prep = obs_def['prep']\n",
    "    meas = obs_def['meas']\n",
    "    p = observation_probability(xstate, obs_def)\n",
    "    jacobian = observation_jacobian(xstate, obs_def)\n",
    "    if p == 0:\n",
    "        return np.zeros((15, 15))\n",
    "    elif p == 1:\n",
    "        return np.zeros((15, 15))\n",
    "    else:\n",
    "        return 1/(p*(1-p))*np.outer(jacobian, jacobian)\n",
    "    \n",
    "def observation_mutual_info(xstate, P_covar, obs_def):\n",
    "    P_covar_inv = np.linalg.inv(P_covar)\n",
    "    fisher = observation_fisher_matrix(xstate, obs_def)\n",
    "    return 0.5*np.log(np.linalg.det(P_covar@fisher@P_covar_inv))"
   ]
  },
  {
   "cell_type": "code",
   "execution_count": 72,
   "metadata": {},
   "outputs": [
    {
     "name": "stdout",
     "output_type": "stream",
     "text": [
      "0.25\n"
     ]
    }
   ],
   "source": [
    "xstate = np.zeros(15)\n",
    "obs_def = observation_definition('I.X', '+0', '00', 1)\n",
    "print(observation_probability(xstate, obs_def))"
   ]
  },
  {
   "cell_type": "code",
   "execution_count": 73,
   "metadata": {},
   "outputs": [
    {
     "data": {
      "text/plain": [
       "array([ 7.99999990e+00, -1.08212392e-16,  6.16297582e-33,  0.00000000e+00,\n",
       "        0.00000000e+00,  0.00000000e+00,  0.00000000e+00,  0.00000000e+00,\n",
       "        0.00000000e+00,  0.00000000e+00,  0.00000000e+00,  0.00000000e+00,\n",
       "        0.00000000e+00,  0.00000000e+00,  0.00000000e+00,  0.00000000e+00,\n",
       "        0.00000000e+00,  0.00000000e+00,  0.00000000e+00,  0.00000000e+00,\n",
       "        0.00000000e+00,  0.00000000e+00,  0.00000000e+00,  0.00000000e+00,\n",
       "        0.00000000e+00,  0.00000000e+00,  0.00000000e+00,  0.00000000e+00,\n",
       "        0.00000000e+00,  0.00000000e+00,  0.00000000e+00,  0.00000000e+00,\n",
       "        0.00000000e+00,  0.00000000e+00,  0.00000000e+00,  0.00000000e+00,\n",
       "        0.00000000e+00,  0.00000000e+00,  0.00000000e+00,  0.00000000e+00,\n",
       "        0.00000000e+00,  0.00000000e+00,  0.00000000e+00,  0.00000000e+00,\n",
       "        0.00000000e+00,  0.00000000e+00,  0.00000000e+00,  0.00000000e+00,\n",
       "        0.00000000e+00,  0.00000000e+00,  0.00000000e+00,  0.00000000e+00,\n",
       "        0.00000000e+00,  0.00000000e+00,  0.00000000e+00,  0.00000000e+00,\n",
       "        0.00000000e+00,  0.00000000e+00,  0.00000000e+00,  0.00000000e+00])"
      ]
     },
     "execution_count": 73,
     "metadata": {},
     "output_type": "execute_result"
    }
   ],
   "source": [
    "np.linalg.eigvals(observation_fisher_matrix(xstate, obs_def))"
   ]
  },
  {
   "cell_type": "code",
   "execution_count": null,
   "metadata": {},
   "outputs": [],
   "source": []
  }
 ],
 "metadata": {
  "kernelspec": {
   "display_name": "ErrorGenerators",
   "language": "python",
   "name": "python3"
  },
  "language_info": {
   "codemirror_mode": {
    "name": "ipython",
    "version": 3
   },
   "file_extension": ".py",
   "mimetype": "text/x-python",
   "name": "python",
   "nbconvert_exporter": "python",
   "pygments_lexer": "ipython3",
   "version": "3.10.11"
  }
 },
 "nbformat": 4,
 "nbformat_minor": 2
}
