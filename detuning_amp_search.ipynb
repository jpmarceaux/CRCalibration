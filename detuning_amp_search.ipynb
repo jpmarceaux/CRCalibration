{
 "cells": [
  {
   "cell_type": "code",
   "execution_count": 1,
   "metadata": {},
   "outputs": [],
   "source": [
    "import numpy as np\n",
    "import matplotlib.pyplot as plt\n",
    "from importlib import reload\n",
    "from numpy.linalg import matrix_power\n",
    "from scipy.linalg import expm, expm_frechet\n",
    "import scipy"
   ]
  },
  {
   "cell_type": "code",
   "execution_count": 2,
   "metadata": {},
   "outputs": [],
   "source": [
    "def PauliMatrix(i):\n",
    "    if i == 0:\n",
    "        return np.array([[1, 0], [0, 1]])\n",
    "    elif i == 1:\n",
    "        return np.array([[0, 1], [1, 0]])\n",
    "    elif i == 2:\n",
    "        return np.array([[0, -1j], [1j, 0]])\n",
    "    elif i == 3:\n",
    "        return np.array([[1, 0], [0, -1]])\n",
    "    else:\n",
    "        raise ValueError(\"i must be 0, 1, 2, or 3.\")\n",
    "\n",
    "def PauliTensor(i, j):\n",
    "    return np.kron(PauliMatrix(i), PauliMatrix(j))"
   ]
  },
  {
   "cell_type": "code",
   "execution_count": 19,
   "metadata": {},
   "outputs": [],
   "source": [
    "def xgate_model(detuning):\n",
    "    \"\"\"\n",
    "    xstate = (Delta, Omega, phi)\n",
    "    \"\"\"\n",
    "    return expm(-(1j/2)*\n",
    "                (detuning*PauliMatrix(3) + (np.pi/2)*PauliMatrix(1))\n",
    "            )\n",
    "\n",
    "def ygate_model(detuning):\n",
    "    \"\"\"\n",
    "    xstate = (Delta, Omega, phi)\n",
    "    \"\"\"\n",
    "    return expm(-(1j/2)*\n",
    "                (detuning*PauliMatrix(3) + (np.pi/2)*PauliMatrix(2))\n",
    "            )\n",
    "\n",
    "def multiply_sequence(sequence, Xdef, Ydef):\n",
    "    \"\"\"Multiply a sequence of X and Y gates together.\"\"\"\n",
    "    circ = np.eye(2)\n",
    "    for c in sequence:\n",
    "        if c == 'X':\n",
    "            circ = Xdef@circ\n",
    "        elif c == 'Y':\n",
    "            circ = Ydef@circ\n",
    "        else:\n",
    "            raise ValueError(\"sequence must only contain 'X' and 'Y' characters.\")\n",
    "    return circ\n",
    "\n",
    "def probability(detuning, d, circ_def):\n",
    "    # assume a convention where the gates go from left to right in the string\n",
    "    Xgate = xgate_model(detuning)\n",
    "    Ygate = ygate_model(detuning)\n",
    "    germ, prep, meas = circ_def\n",
    "    prep_unitary = multiply_sequence(prep, Xgate, Ygate)\n",
    "    germ_unitary = multiply_sequence(germ, Xgate, Ygate)\n",
    "    meas_unitary = multiply_sequence(meas, Xgate, Ygate)\n",
    "    circ_unitary = meas_unitary@np.linalg.matrix_power(germ_unitary, d)@prep_unitary\n",
    "    prob = abs(circ_unitary[0, 0])**2\n",
    "    return prob\n",
    "\n",
    "def probability_grad(detuning, d, circ_def, epsilon=1e-6):\n",
    "    # calculate with finite difference\n",
    "    if type(detuning) == list:\n",
    "        detuning = detuning[0]\n",
    "    p0 = probability(detuning-epsilon, d, circ_def)\n",
    "    p1 = probability(detuning+epsilon, d, circ_def)\n",
    "    return (p1-p0)/(2*epsilon)\n",
    "    "
   ]
  },
  {
   "cell_type": "code",
   "execution_count": 20,
   "metadata": {},
   "outputs": [],
   "source": [
    "def edesign_probability(detuning, edesign):\n",
    "    probs = dict()\n",
    "    for idx, d in enumerate(edesign.keys()):\n",
    "        probs[d] = []\n",
    "        for circ_def in edesign[d]:\n",
    "            probs[d].append( probability(detuning, d, circ_def) )\n",
    "    return probs\n",
    "\n",
    "def edesign_gradients(detuning, edesign):\n",
    "    prob_grads = dict()\n",
    "    for idx, d in enumerate(edesign.keys()):\n",
    "        prob_grads[d] = []\n",
    "        for circ_def in edesign[d]:\n",
    "            prob_grads[d].append( probability_grad(detuning, d, circ_def) )\n",
    "    return prob_grads\n",
    "\n",
    "def edesign_observation(detuning, edesign, num_shots=1000):\n",
    "    probs = edesign_probability(detuning, edesign)\n",
    "    emperical_dists = dict()\n",
    "    for d in edesign.keys():\n",
    "        emperical_dists[d] = []\n",
    "        for prob in probs[d]:\n",
    "            emperical_dists[d].append(np.random.binomial(num_shots, prob))\n",
    "    return emperical_dists"
   ]
  },
  {
   "cell_type": "code",
   "execution_count": 21,
   "metadata": {},
   "outputs": [],
   "source": [
    "def fisher_information_matrix(xstate, edesign):\n",
    "    ed_probs = edesign_probability(xstate, edesign)\n",
    "    ed_grads = edesign_gradients(xstate, edesign)\n",
    "    probs = [value for sublist in ed_probs.values() for value in sublist]\n",
    "    grads = [value for sublist in ed_grads.values() for value in sublist]\n",
    "    fisher_info = np.zeros((len(xstate), len(xstate)))\n",
    "    for idx, p in enumerate(probs):\n",
    "        if p == 0:\n",
    "            fisher_info += np.zeros((len(xstate), len(xstate)))\n",
    "        else:\n",
    "            fisher_info += np.outer(grads[idx], grads[idx])/p\n",
    "    return fisher_info\n",
    "\n",
    "def score_fisher_information_matrix(fmat, clip=1e-19):\n",
    "    evals = np.linalg.eigvals(fmat)\n",
    "    # clip \n",
    "    evals = np.clip(evals, clip, float('inf'))\n",
    "    if np.any(evals <= 0):\n",
    "        print(evals, np.clip(evals, clip, np.max(evals)))\n",
    "    return np.sum(np.log(evals))"
   ]
  },
  {
   "cell_type": "code",
   "execution_count": 40,
   "metadata": {},
   "outputs": [],
   "source": [
    "def find_minimial_circuits_fixed_depth(xestimate, d, num_circs, germ_list, prep_list, meas_list):\n",
    "    \"\"\"Find the minimal circuits for a fixed depth.\"\"\"\n",
    "    all_circuits = dict()\n",
    "    for germ in germ_list:\n",
    "        for prep in prep_list:\n",
    "            for meas in meas_list:\n",
    "                all_circuits[(germ, prep, meas)] = prep + germ*d + meas\n",
    "    \n",
    "    minimal_circuits = []\n",
    "    total_fisher_info = np.zeros((len(xestimate), len(xestimate)))\n",
    "    for r in range(num_circs):\n",
    "        scores = {}\n",
    "        for circ_def, circ in all_circuits.items():\n",
    "            if circ_def in minimal_circuits:\n",
    "                continue\n",
    "            I_circ = fisher_information_matrix(xestimate, {d: [circ_def]})\n",
    "            new_fisher = total_fisher_info + I_circ\n",
    "            score = score_fisher_information_matrix(new_fisher) \n",
    "            scores[circ_def] = score\n",
    "        best_circ_def = max(scores, key=scores.get)\n",
    "        minimal_circuits.append(best_circ_def)\n",
    "        total_fisher_info += fisher_information_matrix(xestimate, {d: [best_circ_def]})\n",
    "    if np.linalg.matrix_rank(total_fisher_info) < len(xestimate):\n",
    "        Warning( np.linalg.matrix_rank(total_fisher_info) )\n",
    "    return minimal_circuits"
   ]
  },
  {
   "cell_type": "code",
   "execution_count": 38,
   "metadata": {},
   "outputs": [],
   "source": [
    "def list_best_experiments(xestimate, d, germ_list, prep_list, meas_list, num_best=5):\n",
    "    all_circuits = dict()\n",
    "    for germ in germ_list:\n",
    "        for prep in prep_list:\n",
    "            for meas in meas_list:\n",
    "                all_circuits[(germ, prep, meas)] = prep + germ*d + meas\n",
    "\n",
    "    # return num_best best experiments\n",
    "    scored_circuits = dict()\n",
    "    for circ_def in all_circuits.keys():\n",
    "        scored_circuits[circ_def] = score_fisher_information_matrix(fisher_information_matrix(xestimate, {d: [circ_def]}))\n",
    "    return sorted(scored_circuits.items(), key=lambda x: x[1], reverse=True)[:num_best]\n",
    "    "
   ]
  },
  {
   "cell_type": "code",
   "execution_count": 39,
   "metadata": {},
   "outputs": [],
   "source": [
    "all_state_preps = ['', 'Y', 'YY', 'YYY', 'X', 'XXX']\n",
    "all_measurements = ['', 'Y', 'YY', 'YYY', 'X', 'XXX']\n",
    "germ_list = ['X', 'Y', 'XX', 'YY', 'XY', 'XXY', 'XYX', 'XXYY', 'YYXXXYYXXXXYY']"
   ]
  },
  {
   "cell_type": "code",
   "execution_count": 42,
   "metadata": {},
   "outputs": [
    {
     "name": "stdout",
     "output_type": "stream",
     "text": [
      "[(('XXYY', 'YYY', 'Y'), 70.60877719744526), (('XYX', 'X', 'YYY'), 16.78458418690677), (('XYX', 'YYY', 'X'), 16.52198908860993), (('XY', 'YY', 'XXX'), 16.448752243420316), (('XXYY', 'XXX', 'X'), 15.95923354606351)]\n",
      "[('XXYY', 'YYY', 'Y'), ('X', '', ''), ('X', '', 'Y'), ('X', '', 'YY'), ('X', '', 'YYY')]\n",
      "[(('XXYY', 'Y', 'Y'), 16.888357036658824), (('XXYY', 'X', 'X'), 16.888357036658824), (('XY', 'X', 'YY'), 16.207682276167596), (('XXY', '', 'YY'), 15.968327100998309), (('XXY', 'Y', 'Y'), 15.968327100998309)]\n",
      "[('XXYY', 'Y', 'Y'), ('XXYY', 'X', 'X'), ('XY', 'X', 'YY'), ('XXY', '', 'YY'), ('XXY', 'Y', 'Y')]\n",
      "[(('XXYY', 'YYY', 'Y'), 67.71493923157261), (('XYX', 'X', 'YYY'), 17.10678057251156), (('XYX', 'YYY', 'X'), 16.944223969776804), (('XYX', 'Y', 'XXX'), 16.253840522056155), (('XYX', 'XXX', 'Y'), 16.09137930046001)]\n",
      "[('XXYY', 'YYY', 'Y'), ('X', '', ''), ('X', '', 'Y'), ('X', '', 'YY'), ('X', '', 'YYY')]\n",
      "[(('XXYY', 'Y', 'Y'), 18.27465139794993), (('XXYY', 'X', 'X'), 18.27465139794993), (('XY', 'YY', 'XXX'), 16.9569286244405), (('XXYY', 'YYY', 'YYY'), 16.88835703683004), (('XXYY', 'XXX', 'XXX'), 16.88835703683004)]\n",
      "[('XXYY', 'Y', 'Y'), ('XXYY', 'X', 'X'), ('XY', 'YY', 'XXX'), ('XXYY', 'YYY', 'YYY'), ('XXYY', 'XXX', 'XXX')]\n"
     ]
    }
   ],
   "source": [
    "depths = [1, 2, 3, 4]\n",
    "for d in depths:\n",
    "    print(list_best_experiments([0], d, germ_list, all_state_preps, all_measurements))\n",
    "    print(find_minimial_circuits_fixed_depth([0], d, 5, germ_list, all_state_preps, all_measurements))"
   ]
  },
  {
   "cell_type": "code",
   "execution_count": 44,
   "metadata": {},
   "outputs": [
    {
     "name": "stdout",
     "output_type": "stream",
     "text": [
      "[('XXYY', 'Y', 'Y'), ('XXYY', 'X', 'X'), ('XXYY', 'YYY', 'YYY'), ('XXYY', 'XXX', 'XXX'), ('XY', 'X', 'YY'), ('XXY', 'YY', ''), ('XXY', '', 'YY'), ('XXY', 'Y', 'Y')]\n",
      "[('XXYY', 'Y', 'Y'), ('XXYY', 'X', 'X'), ('XXYY', 'YYY', 'YYY'), ('XXYY', 'XXX', 'XXX'), ('XY', 'YY', 'XXX'), ('XXY', 'Y', 'Y'), ('XXY', 'YY', ''), ('XXY', '', 'YY')]\n",
      "[('XXYY', 'Y', 'Y'), ('XXYY', 'X', 'X'), ('XXYY', 'YYY', 'YYY'), ('XXYY', 'XXX', 'XXX'), ('XY', 'X', 'YY'), ('XXY', 'Y', 'Y'), ('XXY', 'YY', ''), ('XXY', '', 'YY')]\n",
      "[('XXYY', 'Y', 'Y'), ('XXYY', 'X', 'X'), ('XXYY', 'YYY', 'YYY'), ('XXYY', 'XXX', 'XXX'), ('XY', 'YY', 'XXX'), ('XXY', 'Y', 'Y'), ('XXY', 'YY', ''), ('XXY', '', 'YY')]\n"
     ]
    }
   ],
   "source": [
    "depths = [8, 16, 32, 64]\n",
    "for d in depths:\n",
    "    print(find_minimial_circuits_fixed_depth([0], d, 8, germ_list, all_state_preps, all_measurements))"
   ]
  },
  {
   "cell_type": "code",
   "execution_count": null,
   "metadata": {},
   "outputs": [],
   "source": []
  }
 ],
 "metadata": {
  "kernelspec": {
   "display_name": "ErrorGenerators",
   "language": "python",
   "name": "python3"
  },
  "language_info": {
   "codemirror_mode": {
    "name": "ipython",
    "version": 3
   },
   "file_extension": ".py",
   "mimetype": "text/x-python",
   "name": "python",
   "nbconvert_exporter": "python",
   "pygments_lexer": "ipython3",
   "version": "3.10.11"
  }
 },
 "nbformat": 4,
 "nbformat_minor": 2
}
