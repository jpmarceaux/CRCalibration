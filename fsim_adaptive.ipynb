{
 "cells": [
  {
   "cell_type": "code",
   "execution_count": 6,
   "metadata": {},
   "outputs": [],
   "source": [
    "import calibration as _cal \n",
    "import numpy as np\n",
    "import matplotlib.pyplot as plt\n",
    "from importlib import reload\n",
    "from numpy.linalg import matrix_power\n",
    "from scipy.linalg import expm, expm_frechet"
   ]
  },
  {
   "cell_type": "code",
   "execution_count": 7,
   "metadata": {},
   "outputs": [
    {
     "data": {
      "text/plain": [
       "<module 'calibration' from '/home/jpmarceaux/VSProjects/CRCalibration/calibration.py'>"
      ]
     },
     "execution_count": 7,
     "metadata": {},
     "output_type": "execute_result"
    }
   ],
   "source": [
    "reload(_cal)"
   ]
  },
  {
   "cell_type": "code",
   "execution_count": 8,
   "metadata": {},
   "outputs": [],
   "source": [
    "def PauliMatrix(i):\n",
    "    if i == 0:\n",
    "        return np.array([[1, 0], [0, 1]])\n",
    "    elif i == 1:\n",
    "        return np.array([[0, 1], [1, 0]])\n",
    "    elif i == 2:\n",
    "        return np.array([[0, -1j], [1j, 0]])\n",
    "    elif i == 3:\n",
    "        return np.array([[1, 0], [0, -1]])\n",
    "    else:\n",
    "        raise ValueError(\"i must be 0, 1, 2, or 3.\")\n",
    "\n",
    "def PauliTensor(i, j):\n",
    "    return np.kron(PauliMatrix(i), PauliMatrix(j))"
   ]
  },
  {
   "cell_type": "code",
   "execution_count": 9,
   "metadata": {},
   "outputs": [],
   "source": [
    "def modelFsim(theta, phi, chi):\n",
    "    # equation 12 in https://arxiv.org/pdf/2209.11207.pdf\n",
    "    return np.array([[np.exp(-1j*phi)*np.cos(theta), -1j * np.exp(1j*chi) * np.sin(theta)],\n",
    "                     [-1j * np.exp(-1j*chi) * np.sin(theta), np.exp(1j*phi)*np.cos(theta)]])\n",
    "\n",
    "def modelFsimDeriv(theta, phi, chi):\n",
    "    Dtheta = np.array([[-np.exp(-1j*phi)*np.sin(theta), -1j * np.exp(1j*chi) * np.cos(theta)],\n",
    "                        [-1j * np.exp(-1j*chi) * np.cos(theta), -np.exp(1j*phi)*np.sin(theta)]])\n",
    "    Dphi = np.array([[-1j*np.exp(-1j*phi)*np.cos(theta), 0], \n",
    "                    [0, 1j*np.exp(1j*phi)*np.cos(theta)]])\n",
    "    Dchi = np.array([[0, np.exp(1j*chi)*np.sin(theta)], \n",
    "                    [-np.exp(-1j*chi)*np.sin(theta), 0]])\n",
    "    return np.array([Dtheta, Dphi, Dchi])"
   ]
  },
  {
   "cell_type": "code",
   "execution_count": 10,
   "metadata": {},
   "outputs": [],
   "source": [
    "PREP_DICT = {\n",
    "    '0' : np.array([[1], [0]]),\n",
    "    '1' : np.array([[0], [1]]),\n",
    "    '+': np.array([[1], [1]])/np.sqrt(2),\n",
    "    '-': np.array([[1], [-1]])/np.sqrt(2),\n",
    "    'r': np.array([[1], [1j]])/np.sqrt(2),\n",
    "    'l': np.array([[1], [-1j]])/np.sqrt(2),\n",
    "}\n",
    "MEAS_DICT = {\n",
    "    '0' : np.array([[1, 0]]),\n",
    "    '1' : np.array([[0, 1]]),\n",
    "    '+': np.array([[1, 1]])/np.sqrt(2),\n",
    "    '-': np.array([[1, -1]])/np.sqrt(2),\n",
    "    'r': np.array([[1, -1j]])/np.sqrt(2),\n",
    "    'l': np.array([[1, 1j]])/np.sqrt(2),\n",
    "}"
   ]
  },
  {
   "cell_type": "code",
   "execution_count": 6,
   "metadata": {},
   "outputs": [],
   "source": [
    "def probability(xstate, d, circ_def):\n",
    "    Fsim = modelFsim(*xstate)\n",
    "    prep, meas, omega = circ_def\n",
    "    S = expm(-1j * omega * PauliMatrix(3))\n",
    "    Fsim = modelFsim(*xstate)\n",
    "    meas = MEAS_DICT[meas]\n",
    "    prep = PREP_DICT[prep]\n",
    "    probs = np.abs(meas@matrix_power(S@Fsim, d)@S@prep)**2\n",
    "    # assert imaginary part is zero\n",
    "    assert np.allclose(np.imag(probs), 0)\n",
    "    return probs.real\n",
    "\n",
    "def sp_prod_grad(xstate, d, omega):\n",
    "    S = expm(-1j * omega * PauliMatrix(3))\n",
    "    Fsim = modelFsim(*xstate)\n",
    "    FsimDeriv = modelFsimDeriv(*xstate)\n",
    "    grad = np.zeros(FsimDeriv.shape, dtype=np.complex128)\n",
    "    for i in range(len(xstate)):\n",
    "        for j in range(d):\n",
    "            grad[i] += matrix_power(S@Fsim, j)@S@FsimDeriv[i]@matrix_power(S@Fsim, d-j-1)@S\n",
    "    return grad\n",
    "\n",
    "def probability_gradient(xstate, d, circ_def):\n",
    "    Fsim = modelFsim(*xstate)\n",
    "    prob_grads = np.zeros((1, len(xstate)), dtype=np.complex128)\n",
    "    prep, meas, omega = circ_def\n",
    "    S = expm(-1j * omega * PauliMatrix(3))\n",
    "    grad = sp_prod_grad(xstate, d, omega)\n",
    "    sp_prod = matrix_power(S@Fsim, d)@S\n",
    "    prep = PREP_DICT[prep]\n",
    "    meas = MEAS_DICT[meas]\n",
    "    for k in range(len(xstate)):\n",
    "        prob_grads[0, k] = meas@sp_prod@prep * np.conjugate(meas@grad[k]@prep) + \\\n",
    "                            meas@grad[k]@prep * np.conjugate(meas@sp_prod@prep)\n",
    "    # assert imaginary part is zero\n",
    "    assert np.allclose(np.imag(prob_grads), 0)\n",
    "    return np.real(prob_grads)\n",
    "\n"
   ]
  },
  {
   "cell_type": "code",
   "execution_count": 7,
   "metadata": {},
   "outputs": [],
   "source": [
    "def edesign_probability(xstate, d, circ_defs):\n",
    "    Fsim = modelFsim(*xstate)\n",
    "    probs = np.zeros(len(circ_defs))\n",
    "    for idx, (prep, meas, omega) in enumerate(circ_defs):\n",
    "        probs[idx] = probability(xstate, d, circ_defs[idx])\n",
    "    return probs\n",
    "\n",
    "def edesign_probability_gradient(xstate, d, circ_defs):\n",
    "    prob_grads = np.zeros((len(circ_defs), len(xstate)), dtype=np.complex128)\n",
    "    for idx, (prep, meas, omega) in enumerate(circ_defs):\n",
    "        prob_grads[idx] = probability_gradient(xstate, d, circ_defs[idx])\n",
    "    return prob_grads"
   ]
  },
  {
   "cell_type": "code",
   "execution_count": 8,
   "metadata": {},
   "outputs": [],
   "source": [
    "def circuit_fisher_matrix(xstate, d, circ_def):\n",
    "    prob = probability(xstate, d, circ_def)\n",
    "    prob_grads = probability_gradient(xstate, d, circ_def)\n",
    "    if prob == 0:\n",
    "        return np.zeros((len(xstate), len(xstate)))\n",
    "    else:\n",
    "        return (1/prob) * np.outer(prob_grads, prob_grads)\n",
    "\n",
    "def edesign_fisher_matrix(xstate, d, circ_defs):\n",
    "    total_fisher_matrix = np.zeros((len(xstate), len(xstate)))\n",
    "    for circ_def in circ_defs:\n",
    "        total_fisher_matrix += circuit_fisher_matrix(xstate, d, circ_def)\n",
    "    return total_fisher_matrix"
   ]
  },
  {
   "cell_type": "code",
   "execution_count": 9,
   "metadata": {},
   "outputs": [],
   "source": [
    "def original_edesign(omega):\n",
    "    return (\n",
    "        [('+', '0', omega), \n",
    "         ('r', '0', omega)]\n",
    "    )"
   ]
  },
  {
   "cell_type": "code",
   "execution_count": 35,
   "metadata": {},
   "outputs": [
    {
     "data": {
      "text/plain": [
       "array([[2.00000000e+00, 6.16297582e-33, 6.16297582e-33],\n",
       "       [6.16297582e-33, 7.49879891e-33, 7.49879891e-33],\n",
       "       [6.16297582e-33, 7.49879891e-33, 7.49879891e-33]])"
      ]
     },
     "execution_count": 35,
     "metadata": {},
     "output_type": "execute_result"
    }
   ],
   "source": [
    "edesign_fisher_matrix(np.array([np.pi/2, 0, 0]), 1, original_edesign(0.6))"
   ]
  },
  {
   "cell_type": "code",
   "execution_count": 11,
   "metadata": {},
   "outputs": [],
   "source": [
    "def score_fisher_matrix(fmat):\n",
    "    eigvals= np.linalg.eigvals(fmat)\n",
    "    eigvals = np.clip(eigvals, 10**-40, None)\n",
    "    return np.sum(np.log(eigvals))\n",
    "\n",
    "def find_optimal_edesign(num_circs, xstate, d, all_circs):\n",
    "    total_fisher_mat = np.zeros((len(xstate), len(xstate)))\n",
    "    all_fisher_mats = [circuit_fisher_matrix(xstate, d, circ_def) for circ_def in all_circs]\n",
    "    optimal_circs = []\n",
    "    for i in range(num_circs):\n",
    "        best_score = -np.inf\n",
    "        best_idx = None\n",
    "        for j in range(len(all_circs)):\n",
    "            if all_circs[j] not in optimal_circs:\n",
    "                score = score_fisher_matrix(total_fisher_mat + all_fisher_mats[j])\n",
    "                if score > best_score:\n",
    "                    best_score = score\n",
    "                    best_idx = j\n",
    "        total_fisher_mat += all_fisher_mats[best_idx]\n",
    "        optimal_circs.append(all_circs[best_idx])\n",
    "    return optimal_circs"
   ]
  },
  {
   "cell_type": "code",
   "execution_count": 13,
   "metadata": {},
   "outputs": [],
   "source": [
    "def edesign_observation(xstate, d, edesign, num_shots):\n",
    "    probs = edesign_probability(xstate, d, edesign)\n",
    "    return np.array([np.random.binomial(num_shots, probs[i])/num_shots for i in range(len(edesign))])"
   ]
  },
  {
   "cell_type": "code",
   "execution_count": 14,
   "metadata": {},
   "outputs": [],
   "source": [
    "from scipy.stats import multivariate_normal"
   ]
  },
  {
   "cell_type": "code",
   "execution_count": 15,
   "metadata": {},
   "outputs": [],
   "source": [
    "class KalmanFilter:\n",
    "    def __init__(self, xinitial, Pinitial, Q=None, record_history=True) -> None:\n",
    "        self.x = xinitial\n",
    "        self.P = Pinitial\n",
    "        if Q is None:\n",
    "            self.Q = np.zeros((len(xinitial), len(xinitial)))\n",
    "        else:\n",
    "            self.Q = Q\n",
    "        if record_history:\n",
    "            self.history = {'x': [self.x], 'P': [self.P]}\n",
    "\n",
    "    def predict(self):\n",
    "        # TODO : implmenet controls\n",
    "        self.x = self.x\n",
    "        self.P = self.P + self.Q\n",
    "\n",
    "    def update(self, observation, d, circ_defs, R, iterative=False, max_iter=100, tol=1e-6):\n",
    "        if not iterative:\n",
    "            jacobian = edesign_probability_gradient(self.x, d, circ_defs)\n",
    "            prediction = edesign_probability_gradient(self.x, d, circ_defs)\n",
    "            S = jacobian@self.P@jacobian.T + R\n",
    "            K = self.P@jacobian.T@np.linalg.inv(S)\n",
    "            self.x = self.x + K@(observation - prediction)\n",
    "            print(self.x)\n",
    "            self.P = self.P - K@jacobian@self.P\n",
    "        elif iterative:\n",
    "            for i in range(max_iter):\n",
    "                jacobian = edesign_probability_gradient(self.x, d, circ_defs)\n",
    "                prediction = edesign_probability(self.x, d, circ_defs)\n",
    "                S = jacobian@self.P@jacobian.T + R\n",
    "                K = self.P@jacobian.T@np.linalg.inv(S)\n",
    "                self.x = self.x + K@(observation - prediction)\n",
    "                if np.linalg.norm(K@(observation - prediction)) < tol:\n",
    "                    break\n",
    "            self.P = self.P - K@jacobian@self.P\n",
    "        else: \n",
    "            raise ValueError(\"iterative must be True or False\")\n",
    "        if hasattr(self, 'history'):\n",
    "            self.history['x'].append(self.x)\n",
    "            self.history['P'].append(self.P)\n",
    "\n",
    "    def plot_rms_history(self, xtrue, ax=None):\n",
    "        if ax is None:\n",
    "            fig, ax = plt.subplots(1, 1, figsize=(10, 5))\n",
    "        rms_history = np.zeros(len(self.history['x']))\n",
    "        for idx, x in enumerate(self.history['x']):\n",
    "            rms_history[idx] = np.linalg.norm(x - xtrue)\n",
    "        ax.plot(rms_history)\n",
    "        ax.set_xlabel('Iteration')\n",
    "        ax.set_ylabel('RMS Error')\n",
    "\n",
    "    def plot_expected_innovations(self, edesign, xtrue, ax=None):\n",
    "        if ax is None:\n",
    "            fig, ax = plt.subplots(1, 1, figsize=(10, 5))\n",
    "        ds = list(edesign.keys())\n",
    "        num_circ_defs = len(edesign[ds[0]])\n",
    "        innovations = np.zeros((num_circ_defs, len(ds)))\n",
    "        for idx, d in enumerate(ds):\n",
    "            innovations[:, idx] = edesign_probability(xtrue, d, edesign[d]) - edesign_probability(self.x, d, edesign[d])\n",
    "        ax.plot(ds, innovations.T)\n",
    "        ax.set_xlabel('Depth')\n",
    "        ax.set_ylabel('Innovation')\n",
    "\n",
    "    def run(self, observations, d, circ_defs, R):\n",
    "        for observation in observations:\n",
    "            self.predict()\n",
    "            self.update(observation, d, circ_defs, R)\n",
    "            if hasattr(self, 'history'):\n",
    "                self.history['x'].append(self.x)\n",
    "                self.history['P'].append(self.P)\n",
    "        return self.x, self.P"
   ]
  },
  {
   "cell_type": "code",
   "execution_count": 25,
   "metadata": {},
   "outputs": [],
   "source": [
    "def R_worst_case(num_circ_defs, num_shots):\n",
    "    return (0.25/num_shots)*np.eye(num_circ_defs)\n",
    "\n",
    "def depth_function(Pcovar):\n",
    "    return 1+int(0.5/np.sqrt(np.trace(Pcovar)))"
   ]
  },
  {
   "cell_type": "code",
   "execution_count": 26,
   "metadata": {},
   "outputs": [
    {
     "data": {
      "text/plain": [
       "1.1370938416283942"
      ]
     },
     "execution_count": 26,
     "metadata": {},
     "output_type": "execute_result"
    }
   ],
   "source": [
    "inital_error = np.linalg.norm(xinitial - state0)\n",
    "inital_error"
   ]
  },
  {
   "cell_type": "code",
   "execution_count": 27,
   "metadata": {},
   "outputs": [],
   "source": [
    "from tqdm import tqdm"
   ]
  },
  {
   "cell_type": "code",
   "execution_count": 28,
   "metadata": {},
   "outputs": [],
   "source": [
    "num_updates = 4\n",
    "num_iterations = 100\n",
    "iteration_eps = 1e-4\n",
    "num_depths = 8"
   ]
  },
  {
   "cell_type": "code",
   "execution_count": 29,
   "metadata": {},
   "outputs": [],
   "source": [
    "num_omega = 4\n",
    "all_circs = [(p, m, omega) for p in PREP_DICT for m in MEAS_DICT for omega in np.linspace(0, 2*np.pi, num_omega)]\n",
    "edesign = find_optimal_edesign(4, np.array([np.pi/2+0.1, 0, 0]), 4, all_circs)"
   ]
  },
  {
   "cell_type": "code",
   "execution_count": 30,
   "metadata": {},
   "outputs": [],
   "source": [
    "state0 = np.array([0.01, 0.2, 0.4])\n",
    "num_circ_defs = 10\n",
    "Pinitial = (1/3)*np.eye(3)\n",
    "xinitial = np.random.multivariate_normal(state0, Pinitial)\n",
    "num_shots = 1000\n",
    "num_circ_defs = 2\n",
    "R = R_worst_case(len(all_circs), num_shots)"
   ]
  },
  {
   "cell_type": "code",
   "execution_count": 31,
   "metadata": {},
   "outputs": [
    {
     "name": "stderr",
     "output_type": "stream",
     "text": [
      "  0%|          | 0/8 [00:00<?, ?it/s]"
     ]
    },
    {
     "name": "stdout",
     "output_type": "stream",
     "text": [
      "1\n"
     ]
    },
    {
     "name": "stderr",
     "output_type": "stream",
     "text": [
      " 12%|█▎        | 1/8 [00:00<00:06,  1.08it/s]/tmp/ipykernel_4583/419912228.py:5: ComplexWarning: Casting complex values to real discards the imaginary part\n",
      "  return 1+int(0.5/np.sqrt(np.trace(Pcovar)))\n"
     ]
    },
    {
     "name": "stdout",
     "output_type": "stream",
     "text": [
      "3\n"
     ]
    },
    {
     "name": "stderr",
     "output_type": "stream",
     "text": [
      " 25%|██▌       | 2/8 [00:01<00:04,  1.27it/s]"
     ]
    },
    {
     "name": "stdout",
     "output_type": "stream",
     "text": [
      "5\n"
     ]
    },
    {
     "name": "stderr",
     "output_type": "stream",
     "text": [
      " 38%|███▊      | 3/8 [00:02<00:04,  1.01it/s]"
     ]
    },
    {
     "name": "stdout",
     "output_type": "stream",
     "text": [
      "7\n"
     ]
    },
    {
     "name": "stderr",
     "output_type": "stream",
     "text": [
      " 50%|█████     | 4/8 [00:04<00:05,  1.36s/it]"
     ]
    },
    {
     "name": "stdout",
     "output_type": "stream",
     "text": [
      "10\n"
     ]
    },
    {
     "name": "stderr",
     "output_type": "stream",
     "text": [
      " 62%|██████▎   | 5/8 [00:08<00:06,  2.09s/it]"
     ]
    },
    {
     "name": "stdout",
     "output_type": "stream",
     "text": [
      "12\n"
     ]
    },
    {
     "name": "stderr",
     "output_type": "stream",
     "text": [
      " 75%|███████▌  | 6/8 [00:17<00:09,  4.70s/it]"
     ]
    },
    {
     "name": "stdout",
     "output_type": "stream",
     "text": [
      "13\n"
     ]
    },
    {
     "name": "stderr",
     "output_type": "stream",
     "text": [
      " 88%|████████▊ | 7/8 [00:31<00:07,  7.53s/it]"
     ]
    },
    {
     "name": "stdout",
     "output_type": "stream",
     "text": [
      "13\n"
     ]
    },
    {
     "name": "stderr",
     "output_type": "stream",
     "text": [
      "100%|██████████| 8/8 [00:34<00:00,  4.27s/it]\n"
     ]
    }
   ],
   "source": [
    "kf = KalmanFilter(xinitial, Pinitial, record_history=True)\n",
    "total_edesign = []\n",
    "observation = np.array([])\n",
    "for i in tqdm(range(num_depths)):\n",
    "    d = depth_function(kf.P)\n",
    "    print(d)\n",
    "    edesign = all_circs\n",
    "    observation = edesign_observation(state0, d, edesign, num_shots)\n",
    "    R = R_worst_case(len(all_circs), num_shots)\n",
    "    kf.update(observation, d, edesign, R, iterative=True, max_iter=num_iterations, tol=iteration_eps)"
   ]
  },
  {
   "cell_type": "code",
   "execution_count": 32,
   "metadata": {},
   "outputs": [
    {
     "data": {
      "text/plain": [
       "0.07692307692307693"
      ]
     },
     "execution_count": 32,
     "metadata": {},
     "output_type": "execute_result"
    }
   ],
   "source": [
    "1/d"
   ]
  },
  {
   "cell_type": "code",
   "execution_count": 33,
   "metadata": {},
   "outputs": [
    {
     "data": {
      "text/plain": [
       "0.05453775120379759"
      ]
     },
     "execution_count": 33,
     "metadata": {},
     "output_type": "execute_result"
    }
   ],
   "source": [
    "final_error = np.linalg.norm(kf.x - state0)\n",
    "final_error"
   ]
  },
  {
   "cell_type": "code",
   "execution_count": 34,
   "metadata": {},
   "outputs": [
    {
     "data": {
      "image/png": "[encoded data removed]",
      "text/plain": [
       "<Figure size 1000x500 with 1 Axes>"
      ]
     },
     "metadata": {},
     "output_type": "display_data"
    }
   ],
   "source": [
    "kf.plot_rms_history(state0)"
   ]
  },
  {
   "cell_type": "code",
   "execution_count": 554,
   "metadata": {},
   "outputs": [],
   "source": [
    "from scipy.linalg import sqrtm"
   ]
  },
  {
   "cell_type": "code",
   "execution_count": 555,
   "metadata": {},
   "outputs": [
    {
     "data": {
      "text/plain": [
       "(25.633177572988032+0j)"
      ]
     },
     "execution_count": 555,
     "metadata": {},
     "output_type": "execute_result"
    }
   ],
   "source": [
    "1/np.sqrt(np.trace(kf.P))"
   ]
  },
  {
   "cell_type": "code",
   "execution_count": 556,
   "metadata": {},
   "outputs": [
    {
     "data": {
      "text/plain": [
       "(25.300216835089854521+0j)"
      ]
     },
     "execution_count": 556,
     "metadata": {},
     "output_type": "execute_result"
    }
   ],
   "source": [
    "1/np.trace(sqrtm(kf.P))"
   ]
  },
  {
   "cell_type": "code",
   "execution_count": 557,
   "metadata": {},
   "outputs": [
    {
     "data": {
      "text/plain": [
       "256"
      ]
     },
     "execution_count": 557,
     "metadata": {},
     "output_type": "execute_result"
    }
   ],
   "source": [
    "2**8"
   ]
  },
  {
   "cell_type": "code",
   "execution_count": 558,
   "metadata": {},
   "outputs": [
    {
     "data": {
      "text/plain": [
       "0.00390625"
      ]
     },
     "execution_count": 558,
     "metadata": {},
     "output_type": "execute_result"
    }
   ],
   "source": [
    "1/2**8"
   ]
  },
  {
   "cell_type": "code",
   "execution_count": 559,
   "metadata": {},
   "outputs": [
    {
     "data": {
      "text/plain": [
       "array([0.0093324 +0.j, 0.19978712+0.j, 0.48143751+0.j])"
      ]
     },
     "execution_count": 559,
     "metadata": {},
     "output_type": "execute_result"
    }
   ],
   "source": [
    "kf.x"
   ]
  },
  {
   "cell_type": "code",
   "execution_count": 560,
   "metadata": {},
   "outputs": [
    {
     "data": {
      "text/plain": [
       "array([0.01, 0.2 , 0.4 ])"
      ]
     },
     "execution_count": 560,
     "metadata": {},
     "output_type": "execute_result"
    }
   ],
   "source": [
    "state0"
   ]
  },
  {
   "cell_type": "code",
   "execution_count": null,
   "metadata": {},
   "outputs": [],
   "source": []
  }
 ],
 "metadata": {
  "kernelspec": {
   "display_name": "ErrorGenerators",
   "language": "python",
   "name": "python3"
  },
  "language_info": {
   "codemirror_mode": {
    "name": "ipython",
    "version": 3
   },
   "file_extension": ".py",
   "mimetype": "text/x-python",
   "name": "python",
   "nbconvert_exporter": "python",
   "pygments_lexer": "ipython3",
   "version": "3.10.11"
  }
 },
 "nbformat": 4,
 "nbformat_minor": 2
}
