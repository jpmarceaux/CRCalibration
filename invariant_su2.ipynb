{
 "cells": [
  {
   "cell_type": "code",
   "execution_count": 2,
   "metadata": {},
   "outputs": [],
   "source": [
    "import numpy as np\n",
    "import matplotlib.pyplot as plt\n",
    "from importlib import reload\n",
    "from numpy.linalg import matrix_power\n",
    "from scipy.linalg import expm, expm_frechet\n",
    "import scipy\n",
    "from tqdm import tqdm"
   ]
  },
  {
   "cell_type": "code",
   "execution_count": 3,
   "metadata": {},
   "outputs": [],
   "source": [
    "def PauliMatrix(i):\n",
    "    if i == 0:\n",
    "        return np.array([[1, 0], [0, 1]])\n",
    "    elif i == 1:\n",
    "        return np.array([[0, 1], [1, 0]])\n",
    "    elif i == 2:\n",
    "        return np.array([[0, -1j], [1j, 0]])\n",
    "    elif i == 3:\n",
    "        return np.array([[1, 0], [0, -1]])\n",
    "    else:\n",
    "        raise ValueError(\"i must be 0, 1, 2, or 3.\")\n",
    "\n",
    "def PauliTensor(i, j):\n",
    "    return np.kron(PauliMatrix(i), PauliMatrix(j))"
   ]
  },
  {
   "cell_type": "markdown",
   "metadata": {},
   "source": [
    "Geometric model \n",
    "\n",
    "$$\n",
    "    X(x) = \\exp( - \\tfrac{i}{2} ( \\Delta \\sigma_Z + \\Omega \\sigma_X))\n",
    "$$\n",
    "\n",
    "$$\n",
    "    Y(x) = \\exp( - \\tfrac{i}{2} ( \\Delta \\sigma_Z + \\Omega (\\cos \\phi \\sigma_Y + \\sin \\phi \\sigma_X)) )\n",
    "$$"
   ]
  },
  {
   "cell_type": "code",
   "execution_count": 41,
   "metadata": {},
   "outputs": [],
   "source": [
    "xpi2 = expm(-1j * np.pi / 4 * PauliMatrix(1))\n",
    "ypi2 = expm(-1j * np.pi / 4 * PauliMatrix(2))\n",
    "zpi2 = expm(-1j * np.pi / 4 * PauliMatrix(3))"
   ]
  },
  {
   "cell_type": "code",
   "execution_count": 180,
   "metadata": {},
   "outputs": [
    {
     "name": "stdout",
     "output_type": "stream",
     "text": [
      "0 a\n",
      "1 b\n"
     ]
    }
   ],
   "source": [
    "for x, idx in enumerate(['a', 'b']):\n",
    "    print(x, idx)"
   ]
  },
  {
   "cell_type": "code",
   "execution_count": 232,
   "metadata": {},
   "outputs": [],
   "source": [
    "gate_set = {\n",
    "    'I' : PauliMatrix(0),\n",
    "    'X' : xpi2, \n",
    "    'Y' : ypi2,\n",
    "    'Z' : zpi2\n",
    "}\n",
    "\n",
    "\n",
    "def circuit_to_unitary(circ, U):\n",
    "    circ_unitary = np.eye(2)\n",
    "    for gate in circ:\n",
    "        if gate in gate_set:\n",
    "            circ_unitary = gate_set[gate] @ circ_unitary\n",
    "        elif gate == 'U':\n",
    "            circ_unitary = U @ circ_unitary\n",
    "        else:\n",
    "            raise ValueError(\"Gate not in gate set\")\n",
    "    return circ_unitary\n",
    "\n",
    "def circuit_grad_U(circ, U):\n",
    "    grad = np.zeros((3, 2, 2), dtype=complex)\n",
    "    # build the gradient of the circuit\n",
    "    for idx, gate in enumerate(circ):\n",
    "        if gate == 'U':\n",
    "            grad_comp = np.array([np.eye(2)]*3, dtype=complex)\n",
    "            for idx2, g in enumerate(circ):\n",
    "                if idx != idx2:\n",
    "                    for l in range(3):\n",
    "                        if g in gate_set:\n",
    "                            grad_comp[l] = gate_set[gate] @ grad_comp\n",
    "                        elif g == 'U':\n",
    "                            grad_comp[l] = U @ grad_comp[l]\n",
    "                        else:\n",
    "                            raise ValueError(\"Gate not in gate set\")\n",
    "                elif idx == idx2:\n",
    "                    grad_comp[0] = -(1j/2)*PauliMatrix(1) @ U @ grad_comp[0]\n",
    "                    grad_comp[1] = -(1j/2)*PauliMatrix(2) @ U @ grad_comp[1]\n",
    "                    grad_comp[2] = -(1j/2)*PauliMatrix(3) @ U @ grad_comp[2]\n",
    "            grad += grad_comp\n",
    "    return grad\n",
    "\n",
    "\n",
    "                    \n",
    "\n",
    "    #         for i in range(3):\n",
    "    #             grad[i] = gate_set[gate] @ grad[i]\n",
    "    #     elif gate == 'U':\n",
    "    #         grad[0] = PauliMatrix(1) @ U @ grad[0]\n",
    "    #         grad[1] = PauliMatrix(2) @ U @ grad[1]\n",
    "    #         grad[2] = PauliMatrix(3) @ U @ grad[2]\n",
    "    #     else:\n",
    "    #         raise ValueError(\"Gate not in gate set\")\n",
    "    # return grad"
   ]
  },
  {
   "cell_type": "code",
   "execution_count": 233,
   "metadata": {},
   "outputs": [],
   "source": [
    "circ = 'U'"
   ]
  },
  {
   "cell_type": "code",
   "execution_count": 234,
   "metadata": {},
   "outputs": [
    {
     "data": {
      "text/plain": [
       "array([[0.70710678+0.j        , 0.        -0.70710678j],\n",
       "       [0.        -0.70710678j, 0.70710678+0.j        ]])"
      ]
     },
     "execution_count": 234,
     "metadata": {},
     "output_type": "execute_result"
    }
   ],
   "source": [
    "circuit_to_unitary(circ, xpi2)"
   ]
  },
  {
   "cell_type": "code",
   "execution_count": 235,
   "metadata": {},
   "outputs": [],
   "source": [
    "circ_grad = circuit_grad_U(circ, xpi2)"
   ]
  },
  {
   "cell_type": "code",
   "execution_count": 236,
   "metadata": {},
   "outputs": [
    {
     "data": {
      "text/plain": [
       "array([[[-0.35355339+0.j        ,  0.        -0.35355339j],\n",
       "        [ 0.        -0.35355339j, -0.35355339+0.j        ]],\n",
       "\n",
       "       [[ 0.        +0.35355339j, -0.35355339+0.j        ],\n",
       "        [ 0.35355339+0.j        ,  0.        -0.35355339j]],\n",
       "\n",
       "       [[ 0.        -0.35355339j, -0.35355339+0.j        ],\n",
       "        [ 0.35355339+0.j        ,  0.        +0.35355339j]]])"
      ]
     },
     "execution_count": 236,
     "metadata": {},
     "output_type": "execute_result"
    }
   ],
   "source": [
    "circ_grad"
   ]
  },
  {
   "cell_type": "code",
   "execution_count": 220,
   "metadata": {},
   "outputs": [],
   "source": [
    "evec = 0.01*np.random.rand(3)\n",
    "egen = -(1j/2)*(evec[0]*PauliMatrix(1) + evec[1]*PauliMatrix(2) + evec[2]*PauliMatrix(3))\n",
    "error = expm(egen)"
   ]
  },
  {
   "cell_type": "code",
   "execution_count": 221,
   "metadata": {},
   "outputs": [
    {
     "data": {
      "text/plain": [
       "array([[ 9.99991403e-01-0.00354791j, -9.00182459e-04-0.00194827j],\n",
       "       [ 9.00182459e-04-0.00194827j,  9.99991403e-01+0.00354791j]])"
      ]
     },
     "execution_count": 221,
     "metadata": {},
     "output_type": "execute_result"
    }
   ],
   "source": [
    "error"
   ]
  },
  {
   "cell_type": "code",
   "execution_count": 225,
   "metadata": {},
   "outputs": [],
   "source": [
    "u_circ_error = circuit_to_unitary(circ, error@xpi2)\n",
    "u_circ_target = circuit_to_unitary(circ, xpi2)\n",
    "u_grad = circuit_grad_U(circ, xpi2)\n",
    "linearized = evec[0]*u_grad[0] + evec[1]*u_grad[1] + evec[2]*u_grad[2]"
   ]
  },
  {
   "cell_type": "code",
   "execution_count": 230,
   "metadata": {},
   "outputs": [
    {
     "data": {
      "text/plain": [
       "array([[ 0.99861568-0.00186965j, -0.00314094-0.00137574j],\n",
       "       [ 0.00314094-0.00137574j,  0.99861568+0.00186965j]])"
      ]
     },
     "execution_count": 230,
     "metadata": {},
     "output_type": "execute_result"
    }
   ],
   "source": [
    "expm(linearized)"
   ]
  },
  {
   "cell_type": "code",
   "execution_count": 231,
   "metadata": {},
   "outputs": [
    {
     "data": {
      "text/plain": [
       "array([[ 9.99991403e-01-0.00354791j, -9.00182459e-04-0.00194827j],\n",
       "       [ 9.00182459e-04-0.00194827j,  9.99991403e-01+0.00354791j]])"
      ]
     },
     "execution_count": 231,
     "metadata": {},
     "output_type": "execute_result"
    }
   ],
   "source": [
    "error"
   ]
  },
  {
   "cell_type": "code",
   "execution_count": 227,
   "metadata": {},
   "outputs": [
    {
     "data": {
      "text/plain": [
       "array([[ 0.70572307-0.00187222j, -0.00314527-0.70847833j],\n",
       "       [ 0.00314527-0.70847833j,  0.70572307+0.00187222j]])"
      ]
     },
     "execution_count": 227,
     "metadata": {},
     "output_type": "execute_result"
    }
   ],
   "source": [
    "error@xpi2 "
   ]
  },
  {
   "cell_type": "code",
   "execution_count": 228,
   "metadata": {},
   "outputs": [
    {
     "data": {
      "text/plain": [
       "array([[ 0.70515851+0.00090019j, -0.00354792-0.70710678j],\n",
       "       [ 0.00354792-0.70710678j,  0.70515851-0.00090019j]])"
      ]
     },
     "execution_count": 228,
     "metadata": {},
     "output_type": "execute_result"
    }
   ],
   "source": [
    "xpi2 + linearized@xpi2"
   ]
  },
  {
   "cell_type": "markdown",
   "metadata": {},
   "source": [
    "# circuit definition\n",
    "circuit = (x1, x2, x3, x4, ..., xN)"
   ]
  },
  {
   "cell_type": "code",
   "execution_count": 7,
   "metadata": {},
   "outputs": [],
   "source": [
    "def multiply_sequence(sequence):\n",
    "    \"\"\"Multiply a sequence of unitaries.\"\"\"\n",
    "    U = np.eye(2)\n",
    "    for x in sequence:\n",
    "        U = su2_model(x)@U\n",
    "    return U\n",
    "\n",
    "\n",
    "def probability(circ):\n",
    "    # assume a convention where the gates go from left to right in the string\n",
    "    U = multiply_sequence(circ)\n",
    "    return np.abs(meas@u@prep)**2\n",
    "\n",
    "def unitary_grad(xstate, d, circ):\n",
    "    U = multiply_sequence(circ)\n",
    "    grad = np.zeros(3)\n",
    "    for i in range(3):\n",
    "        xstate_plus = xstate.copy()\n",
    "        xstate_plus[i] += d\n",
    "        xstate_minus = xstate.copy()\n",
    "        xstate_minus[i] -= d\n",
    "        U_plus = su2_model(xstate_plus)@U\n",
    "        U_minus = su2_model(xstate_minus)@U\n",
    "        grad[i] = np.trace((U_plus - U_minus)/(2*d)@U.conj().T)\n",
    "    return grad\n",
    "\n",
    "def make_random_circ_def(length, prep_length=3, meas_length=3):\n",
    "    germ_part = ''.join(np.random.choice(['X', 'Y'], length))\n",
    "    prep_part = ''.join(np.random.choice(['X', 'Y'], prep_length))\n",
    "    meas_part = ''.join(np.random.choice(['X', 'Y'], meas_length))\n",
    "    return (germ_part, prep_part, meas_part)\n",
    "\n",
    "def probability_grad_check(num_xstates=10, num_circuits=10, epsilon=1e-8, delta=1e-5):\n",
    "    \"\"\"Check that the gradient of the probability function is correct.\"\"\"\n",
    "    xstates = np.random.rand(num_xstates, 3)\n",
    "    for xstate in xstates:\n",
    "        for _ in range(num_circuits):\n",
    "            d = np.random.randint(1, 2)\n",
    "            circ_def = make_random_circ_def(np.random.randint(1, 10))\n",
    "            grad = probability_grad(xstate, d, circ_def)\n",
    "            dx0 = np.array([epsilon, 0, 0])\n",
    "            dx1 = np.array([0, epsilon, 0])\n",
    "            dx2 = np.array([0, 0, epsilon])\n",
    "            prob_dx0m = probability(xstate - dx0, d, circ_def)\n",
    "            prob_dx1m = probability(xstate - dx1, d, circ_def)\n",
    "            prob_dx2m = probability(xstate - dx2, d, circ_def)\n",
    "            prob_dx0 = probability(xstate + dx0, d, circ_def)\n",
    "            prob_dx1 = probability(xstate + dx1, d, circ_def)\n",
    "            prob_dx2 = probability(xstate + dx2, d, circ_def)\n",
    "            grad_dx0 = (prob_dx0 - prob_dx0m)/(2*epsilon)\n",
    "            grad_dx1 = (prob_dx1 - prob_dx1m)/(2*epsilon)\n",
    "            grad_dx2 = (prob_dx2 - prob_dx2m)/(2*epsilon)\n",
    "            assert np.allclose(grad, np.array([grad_dx0, grad_dx1, grad_dx2]), atol=delta), f\"Analytic grad {grad} does not match numerical grad {np.array([grad_dx0, grad_dx1, grad_dx2])} for xstate {xstate}, d {d}, and circ_def {circ_def}.\"\n"
   ]
  },
  {
   "cell_type": "code",
   "execution_count": 8,
   "metadata": {},
   "outputs": [],
   "source": [
    "probability_grad_check()"
   ]
  },
  {
   "cell_type": "markdown",
   "metadata": {},
   "source": [
    "Experiment design and fisher information\n",
    "\n",
    "Edesign is a dictionary { d : (germ, prep, meas) }\n",
    "\n",
    "Fisher information of an edesign is the fisher information of the circuits \n",
    "\n",
    "$$\n",
    "    [I(\\theta| \\mathcal{E})]_{i,j} = \\sum_{n} \\frac{1}{P(n|\\theta, \\mathcal{E})} \\left( \\frac{\\partial }{\\partial \\theta_i}P(n|\\theta, \\mathcal{E})  \\right) \\left( \\frac{\\partial }{\\partial \\theta_j}P(n|\\theta, \\mathcal{E})  \\right) \n",
    "$$\n",
    "\n",
    "I'll use the fisher information score\n",
    "\n",
    "$$\n",
    "    S(I) = \\log |I'| = \\sum_j \\log \\lambda'_j(I)\n",
    "$$\n",
    "after clipping the eigenvalues to the range $[\\epsilon, \\infty]$ for small $\\epsilon$. To score new circuits, I'll use\n",
    "$$\n",
    "    S(I_\\text{prior tot} + I_\\text{new}) - S(I_\\text{prior tot})\n",
    "$$"
   ]
  },
  {
   "cell_type": "code",
   "execution_count": 9,
   "metadata": {},
   "outputs": [],
   "source": [
    "def edesign_probability(xstate, edesign):\n",
    "    probs = dict()\n",
    "    for idx, d in enumerate(edesign.keys()):\n",
    "        probs[d] = []\n",
    "        for circ_def in edesign[d]:\n",
    "            probs[d].append( probability(xstate, d, circ_def) )\n",
    "    return probs\n",
    "\n",
    "def edesign_gradients(xstate, edesign):\n",
    "    prob_grads = dict()\n",
    "    for idx, d in enumerate(edesign.keys()):\n",
    "        prob_grads[d] = []\n",
    "        for circ_def in edesign[d]:\n",
    "            prob_grads[d].append( probability_grad(xstate, d, circ_def) )\n",
    "    return prob_grads\n",
    "\n",
    "def edesign_observation(xstate, edesign, num_shots=1000):\n",
    "    probs = edesign_probability(xstate, edesign)\n",
    "    emperical_dists = dict()\n",
    "    for d in edesign.keys():\n",
    "        emperical_dists[d] = []\n",
    "        for prob in probs[d]:\n",
    "            emperical_dists[d].append(np.random.binomial(num_shots, prob))\n",
    "    return emperical_dists"
   ]
  },
  {
   "cell_type": "markdown",
   "metadata": {},
   "source": [
    "## make a Kalman filter"
   ]
  },
  {
   "cell_type": "code",
   "execution_count": 10,
   "metadata": {},
   "outputs": [],
   "source": [
    "from filterpy.kalman import UnscentedKalmanFilter, MerweScaledSigmaPoints"
   ]
  },
  {
   "cell_type": "code",
   "execution_count": 11,
   "metadata": {},
   "outputs": [],
   "source": [
    "from filterpy.kalman import unscented_transform\n",
    "from numpy import eye, zeros, dot, isscalar, outer\n",
    "from copy import deepcopy"
   ]
  },
  {
   "cell_type": "code",
   "execution_count": 12,
   "metadata": {},
   "outputs": [],
   "source": [
    "class KalmanFilter:\n",
    "    def __init__(self, xinitial, Pinitial, Q=None, record_history=True) -> None:\n",
    "        self.x = xinitial\n",
    "        self.P = Pinitial\n",
    "        if Q is None:\n",
    "            self.Q = np.zeros((len(xinitial), len(xinitial)))\n",
    "        else:\n",
    "            self.Q = Q\n",
    "        if record_history:\n",
    "            self.history = {'x': [self.x], 'P': [self.P]}\n",
    "\n",
    "    def predict(self):\n",
    "        # TODO : implmenet controls\n",
    "        self.x = self.x\n",
    "        self.P = self.P + self.Q\n",
    "\n",
    "    def update(self, observation, edesign, r):\n",
    "        jacobian_list = []\n",
    "        prediction_list = []\n",
    "        for d in edesign.keys():\n",
    "            for circ_def in edesign[d]:\n",
    "                jacobian = probability_grad(self.x, d, circ_def)\n",
    "                prediction = probability(self.x, d, circ_def)\n",
    "                jacobian_list.append(jacobian)\n",
    "                prediction_list.append(prediction)\n",
    "        total_jac = np.vstack(jacobian_list)\n",
    "        total_pred = np.vstack(prediction_list).flatten()\n",
    "        S = total_jac@self.P@total_jac.T + np.diag(r*np.ones(len(total_pred)))\n",
    "        K = self.P@total_jac.T@np.linalg.inv(S)\n",
    "        self.x = self.x + K@(observation - total_pred)\n",
    "        self.P = self.P - K@total_jac@self.P\n",
    "        if hasattr(self, 'history'):\n",
    "            self.history['x'].append(self.x)\n",
    "            self.history['P'].append(self.P)\n",
    "\n",
    "    def iterated_update(self, observation, edesign, r, max_iter=10, tol=1e-4, return_iterations=False):\n",
    "        if return_iterations:\n",
    "            iterations = [self.x]\n",
    "        R = np.diag(r*np.ones(len(observation))) \n",
    "        for i in range(max_iter):\n",
    "            jac_list = []\n",
    "            pred_list = []\n",
    "            for d in edesign.keys():\n",
    "                for circ_def in edesign[d]:\n",
    "                    jac = probability_grad(self.x, d, circ_def)\n",
    "                    pred = probability(self.x, d, circ_def)\n",
    "                    jac_list.append(jac)\n",
    "                    pred_list.append(pred)\n",
    "            total_jac = np.vstack(jac_list)\n",
    "            if tol == \"R-dependent\":\n",
    "                tol = np.sqrt(np.trace(total_jac.T @ R @ total_jac))\n",
    "            total_pred = np.vstack(pred_list).flatten()\n",
    "            S = total_jac@self.P@total_jac.T + R\n",
    "            K = self.P@total_jac.T@np.linalg.inv(S)\n",
    "            new_x = self.x + K@(observation - total_pred)\n",
    "            if return_iterations:\n",
    "                iterations.append(new_x)\n",
    "            update_mag = np.linalg.norm(new_x - self.x)\n",
    "            self.x = new_x\n",
    "            if update_mag < tol:\n",
    "                break\n",
    "        self.P = self.P - K@total_jac@self.P\n",
    "        if hasattr(self, 'history'):\n",
    "            self.history['x'].append(self.x)\n",
    "            self.history['P'].append(self.P)\n",
    "        if i == max_iter - 1:\n",
    "            print(f\"WARNING: Max iterations reached without convergence with tolerance {tol}.\")\n",
    "        if return_iterations:\n",
    "            return np.array(iterations)\n",
    "        \n",
    "    def plot_rms_history(self, xtrue, ax=None):\n",
    "        if ax is None:\n",
    "            fig, ax = plt.subplots(1, 1, figsize=(10, 5))\n",
    "        rms_history = np.zeros(len(self.history['x']))\n",
    "        expected_errors = np.zeros(len(self.history['x']))\n",
    "        for idx, x in enumerate(self.history['x']):\n",
    "            rms_history[idx] = np.linalg.norm(x - xtrue)\n",
    "            expected_errors[idx] = np.sqrt(np.trace(self.history['P'][idx]))\n",
    "        ax.plot(rms_history)\n",
    "        # add error bars based on expected errors\n",
    "        ax.errorbar(np.arange(len(rms_history)), rms_history, yerr=expected_errors, fmt='none', ecolor='r')\n",
    "        ax.set_xlabel('Iteration')\n",
    "        ax.set_ylabel('RMS Error')\n",
    "\n",
    "    def plot_residual_history(self, xtrue, axs=None):\n",
    "        # plot the theta, phi, chi resuduals against xtrue\n",
    "        if axs is None:\n",
    "            fig, axs = plt.subplots(1, 3, figsize=(15, 5))\n",
    "        residuals = np.zeros((len(self.history['x']), 3))\n",
    "        for idx, x in enumerate(self.history['x']):\n",
    "            residuals[idx] = x - xtrue\n",
    "        axs[0].plot(residuals[:, 0])\n",
    "        axs[0].set_xlabel('Update index')\n",
    "        axs[0].set_ylabel('Theta Residual')\n",
    "        axs[1].plot(residuals[:, 1])\n",
    "        axs[1].set_xlabel('Update index')\n",
    "        axs[1].set_ylabel('Phi Residual')\n",
    "        axs[2].plot(residuals[:, 2])\n",
    "        axs[2].set_xlabel('Update index')\n",
    "        axs[2].set_ylabel('Chi Residual')\n",
    "        "
   ]
  },
  {
   "cell_type": "code",
   "execution_count": null,
   "metadata": {},
   "outputs": [],
   "source": [
    "class MLEstimator:\n",
    "    \"\"\"\n",
    "    using local gradient descent\n",
    "    \"\"\"\n",
    "    def __init__(self, xinitial, Pinitial, Q=None, record_history=True) -> None:\n",
    "        self.x = xinitial\n",
    "        self.P = Pinitial\n",
    "        if Q is None:\n",
    "            self.Q = np.zeros((len(xinitial), len(xinitial)))\n",
    "        else:\n",
    "            self.Q = Q\n",
    "        if record_history:\n",
    "            self.history = {'x': [self.x], 'P': [self.P]}\n",
    "\n",
    "    def estimate(edesign, observations, seed)"
   ]
  },
  {
   "cell_type": "code",
   "execution_count": 13,
   "metadata": {},
   "outputs": [],
   "source": [
    "def fx(x, dt, u=None):\n",
    "    if u is None:\n",
    "        u = np.zeros(len(x))\n",
    "    return x + u\n",
    "\n",
    "def hx(x, edesign):\n",
    "    return edesign_probability(x, edesign)\n",
    "def vector_from_dict(d):\n",
    "    # join the arrays in the dictionary into a single array\n",
    "    return np.array([value for sublist in d.values() for value in sublist])\n",
    "\n",
    "class MyUKF(UnscentedKalmanFilter):\n",
    "    def __init__(self, num_params, edesign, num_shots):\n",
    "        self.edesign = edesign\n",
    "        self.dt=1\n",
    "\n",
    "        # calculate number of circuits\n",
    "        num_circs = 0\n",
    "        for d in edesign.keys():\n",
    "            num_circs += len(edesign[d])\n",
    "        self.num_circs = num_circs\n",
    "        self.R = (0.25/num_shots)*np.eye(num_circs)\n",
    "\n",
    "        self.points = MerweScaledSigmaPoints(num_params, alpha=1e-3, beta=2, kappa=0)\n",
    "        super().__init__(num_params, num_circs, dt=1, hx=self.hx, fx=self.fx, points=self.points)\n",
    "\n",
    "    def fx(self, x, dt, u=None):\n",
    "        if u is None:\n",
    "            u = np.zeros(len(x))\n",
    "        return x + u\n",
    "\n",
    "    def hx(self, x, d):\n",
    "        return np.array(edesign_probability(x, {d: self.edesign[d]})[d]).flatten()\n",
    "\n",
    "    def check_consistency_at_d(self, d):\n",
    "        \"\"\"Check that the experiment design at depth d is consistent for the sigma points.\"\"\"\n",
    "        pass\n",
    "\n",
    "\n",
    "        \n",
    "    def update(self, observations, num_shots, UT=None, hx=None, max_iter=10, tol=1e-3, **hx_args):\n",
    "        \"\"\"\n",
    "        Update the UKF with the given measurements. On return,\n",
    "        self.x and self.P contain the new mean and covariance of the filter.\n",
    "\n",
    "        update one generation at a time\n",
    "\n",
    "        Parameters\n",
    "        ----------\n",
    "\n",
    "        z : numpy.array of shape (dim_z)\n",
    "            measurement vector\n",
    "\n",
    "        R : numpy.array((dim_z, dim_z)), optional\n",
    "            Measurement noise. If provided, overrides self.R for\n",
    "            this function call.\n",
    "\n",
    "        UT : function(sigmas, Wm, Wc, noise_cov), optional\n",
    "            Optional function to compute the unscented transform for the sigma\n",
    "            points passed through hx. Typically the default function will\n",
    "            work - you can use x_mean_fn and z_mean_fn to alter the behavior\n",
    "            of the unscented transform.\n",
    "\n",
    "        hx : callable h(x, **hx_args), optional\n",
    "            Measurement function. If not provided, the default\n",
    "            function passed in during construction will be used.\n",
    "\n",
    "        **hx_args : keyword argument\n",
    "            arguments to be passed into h(x) after x -> h(x, **hx_args)\n",
    "        \"\"\"\n",
    "\n",
    "\n",
    "        if hx is None:\n",
    "            hx = self.hx\n",
    "\n",
    "        if UT is None:\n",
    "            UT = unscented_transform\n",
    "\n",
    "        # elif isscalar(R):\n",
    "        #     R = eye(self._dim_z) * R\n",
    "\n",
    "        for d in self.edesign.keys():\n",
    "            counts = np.array(observations[d])\n",
    "            z = counts/num_shots\n",
    "            alpha_vec = (counts + np.ones(len(counts)))/(num_shots + len(counts))\n",
    "            #R = np.diag(alpha_vec*(1-alpha_vec)/(num_shots + len(counts) +1))\n",
    "            R = (0.25/num_shots)*np.eye(len(counts))\n",
    "\n",
    "            for i in range(max_iter):\n",
    "                # pass prior sigmas through h(x) to get measurement sigmas\n",
    "                # the shape of sigmas_h will vary if the shape of z varies, so\n",
    "                # recreate each time\n",
    "                sigmas_h = []\n",
    "                for s in self.sigmas_f:\n",
    "                    sigmas_h.append(hx(s, d))\n",
    "\n",
    "                self.sigmas_h = np.atleast_2d(sigmas_h)\n",
    "\n",
    "                # mean and covariance of prediction passed through unscented transform\n",
    "                zp, self.S = UT(self.sigmas_h, self.Wm, self.Wc, R, self.z_mean, self.residual_z)\n",
    "                self.SI = self.inv(self.S)\n",
    "\n",
    "                # compute cross variance of the state and the measurements\n",
    "                Pxz = self.cross_variance(self.x, zp, self.sigmas_f, self.sigmas_h)\n",
    "                # print(self.sigmas_f, self.sigmas_h)\n",
    "\n",
    "                # print(np.linalg.norm(Pxz), np.linalg.norm(self.S), np.linalg.norm(self.SI))\n",
    "\n",
    "                self.K = dot(Pxz, self.SI)        # Kalman gain\n",
    "                self.y = self.residual_z(z, zp)   # residual\n",
    "\n",
    "\n",
    "                x_new = self.x + dot(self.K, self.y)\n",
    "                # phase unwrapping on x[2]\n",
    "                x_new[2] = np.unwrap([x_new[2]])\n",
    "                if np.linalg.norm(x_new - self.x) < tol:\n",
    "                    break\n",
    "                else:\n",
    "                    self.x = x_new\n",
    "                    self.compute_process_sigmas(self.dt, self.fx)\n",
    "                    #if i == max_iter - 1:\n",
    "                    #    print(f\"WARNING: Max iterations reached without convergence with tolerance {tol}.\")\n",
    "            self.x = x_new\n",
    "            self.P = self.P - self.K@self.S@self.K.T\n",
    "\n",
    "            # save measurement and posterior state\n",
    "            self.x_post = self.x.copy()\n",
    "            self.z = deepcopy(z)\n",
    "            self.P_post = self.P.copy()\n",
    "\n",
    "        # set to None to force recompute\n",
    "        self._log_likelihood = None\n",
    "        self._likelihood = None\n",
    "        self._mahalanobis = None\n",
    "\n",
    "\n",
    "    # def control_update(self, observations, num_shots, UT=None, hx=None, max_iter=10, tol=1e-3, **hx_args):\n",
    "    #     \"\"\"\n",
    "    #     Update the UKF with the given measurements. On return,\n",
    "    #     self.x and self.P contain the new mean and covariance of the filter.\n",
    "\n",
    "    #     update one generation at a time\n",
    "\n",
    "    #     Parameters\n",
    "    #     ----------\n",
    "\n",
    "    #     z : numpy.array of shape (dim_z)\n",
    "    #         measurement vector\n",
    "\n",
    "    #     R : numpy.array((dim_z, dim_z)), optional\n",
    "    #         Measurement noise. If provided, overrides self.R for\n",
    "    #         this function call.\n",
    "\n",
    "    #     UT : function(sigmas, Wm, Wc, noise_cov), optional\n",
    "    #         Optional function to compute the unscented transform for the sigma\n",
    "    #         points passed through hx. Typically the default function will\n",
    "    #         work - you can use x_mean_fn and z_mean_fn to alter the behavior\n",
    "    #         of the unscented transform.\n",
    "\n",
    "    #     hx : callable h(x, **hx_args), optional\n",
    "    #         Measurement function. If not provided, the default\n",
    "    #         function passed in during construction will be used.\n",
    "\n",
    "    #     **hx_args : keyword argument\n",
    "    #         arguments to be passed into h(x) after x -> h(x, **hx_args)\n",
    "    #     \"\"\"\n",
    "\n",
    "\n",
    "    #     if hx is None:\n",
    "    #         hx = self.hx\n",
    "\n",
    "    #     if UT is None:\n",
    "    #         UT = unscented_transform\n",
    "\n",
    "    #     # elif isscalar(R):\n",
    "    #     #     R = eye(self._dim_z) * R\n",
    "\n",
    "    #     for d in self.edesign.keys():\n",
    "    #         counts = np.array(observations[d])\n",
    "    #         z = counts/num_shots\n",
    "    #         alpha_vec = (counts + np.ones(len(counts)))/(num_shots + len(counts))\n",
    "    #         #R = np.diag(alpha_vec*(1-alpha_vec)/(num_shots + len(counts) +1))\n",
    "    #         R = (0.25/num_shots)*np.eye(len(counts))\n",
    "\n",
    "    #         for i in range(max_iter):\n",
    "    #             # pass prior sigmas through h(x) to get measurement sigmas\n",
    "    #             # the shape of sigmas_h will vary if the shape of z varies, so\n",
    "    #             # recreate each time\n",
    "    #             sigmas_h = []\n",
    "    #             for s in self.sigmas_f:\n",
    "    #                 sigmas_h.append(hx(s, d))\n",
    "\n",
    "    #             self.sigmas_h = np.atleast_2d(sigmas_h)\n",
    "\n",
    "    #             # mean and covariance of prediction passed through unscented transform\n",
    "    #             zp, self.S = UT(self.sigmas_h, self.Wm, self.Wc, R, self.z_mean, self.residual_z)\n",
    "    #             self.SI = self.inv(self.S)\n",
    "\n",
    "    #             # compute cross variance of the state and the measurements\n",
    "    #             Pxz = self.cross_variance(self.x, zp, self.sigmas_f, self.sigmas_h)\n",
    "    #             # print(self.sigmas_f, self.sigmas_h)\n",
    "\n",
    "    #             # print(np.linalg.norm(Pxz), np.linalg.norm(self.S), np.linalg.norm(self.SI))\n",
    "\n",
    "    #             self.K = dot(Pxz, self.SI)        # Kalman gain\n",
    "    #             self.y = self.residual_z(z, zp)   # residual\n",
    "\n",
    "\n",
    "    #             u = -dot(self.K, self.y)\n",
    "    #             x_new = self.x + dot(self.K, self.y)\n",
    "    #             # phase unwrapping on x[2]\n",
    "    #             if np.linalg.norm(x_new - self.x) < tol:\n",
    "    #                 break\n",
    "    #             else:\n",
    "    #                 self.x = x_new\n",
    "    #                 self.update()\n",
    "    #                 #if i == max_iter - 1:\n",
    "    #                 #    print(f\"WARNING: Max iterations reached without convergence with tolerance {tol}.\")\n",
    "    #         self.x = x_new\n",
    "    #         self.P = self.P - self.K@self.S@self.K.T\n",
    "\n",
    "    #         # save measurement and posterior state\n",
    "    #         self.x_post = self.x.copy()\n",
    "    #         self.z = deepcopy(z)\n",
    "    #         self.P_post = self.P.copy()\n",
    "\n",
    "        \n",
    "    #     # set to None to force recompute\n",
    "    #     self._log_likelihood = None\n",
    "    #     self._likelihood = None\n",
    "    #     self._mahalanobis = None\n",
    "    #     u = - self.x \n",
    "    #     self.x = np.zeros(len(self.x))\n",
    "    #     return u\n"
   ]
  },
  {
   "cell_type": "markdown",
   "metadata": {},
   "source": [
    "## Circuit selection"
   ]
  },
  {
   "cell_type": "code",
   "execution_count": 14,
   "metadata": {},
   "outputs": [],
   "source": [
    "def fisher_information_matrix(xstate, edesign):\n",
    "    ed_probs = edesign_probability(xstate, edesign)\n",
    "    ed_grads = edesign_gradients(xstate, edesign)\n",
    "    probs = [value for sublist in ed_probs.values() for value in sublist]\n",
    "    grads = [value for sublist in ed_grads.values() for value in sublist]\n",
    "    fisher_info = np.zeros((len(xstate), len(xstate)))\n",
    "    for idx, p in enumerate(probs):\n",
    "        if p == 0:\n",
    "            fisher_info += np.zeros((len(xstate), len(xstate)))\n",
    "        else:\n",
    "            fisher_info += np.outer(grads[idx], grads[idx])/p\n",
    "    return fisher_info\n",
    "\n",
    "def score_fisher_information_matrix(fmat, clip=1e-19):\n",
    "    evals = np.linalg.eigvals(fmat)\n",
    "    # clip \n",
    "    evals = np.clip(evals, clip, float('inf'))\n",
    "    if np.any(evals <= 0):\n",
    "        print(evals, np.clip(evals, clip, np.max(evals)))\n",
    "    return np.sum(np.log(evals))"
   ]
  },
  {
   "cell_type": "code",
   "execution_count": 15,
   "metadata": {},
   "outputs": [],
   "source": [
    "def find_minimial_circuits_fixed_depth(xestimate, d, num_circs, germ_list, prep_list, meas_list):\n",
    "    \"\"\"Find the minimal circuits for a fixed depth.\"\"\"\n",
    "    all_circuits = dict()\n",
    "    for germ in germ_list:\n",
    "        for prep in prep_list:\n",
    "            for meas in meas_list:\n",
    "                all_circuits[(germ, prep, meas)] = prep + germ*d + meas\n",
    "    \n",
    "    minimal_circuits = []\n",
    "    total_fisher_info = np.zeros((len(xestimate), len(xestimate)))\n",
    "    for r in range(num_circs):\n",
    "        scores = {}\n",
    "        for circ_def, circ in all_circuits.items():\n",
    "            if circ_def in minimal_circuits:\n",
    "                continue\n",
    "            I_circ = fisher_information_matrix(xestimate, {d: [circ_def]})\n",
    "            new_fisher = total_fisher_info + I_circ\n",
    "            score = score_fisher_information_matrix(new_fisher) \n",
    "            scores[circ_def] = score\n",
    "        best_circ_def = max(scores, key=scores.get)\n",
    "        minimal_circuits.append(best_circ_def)\n",
    "        total_fisher_info += fisher_information_matrix(xestimate, {d: [best_circ_def]})\n",
    "    if np.linalg.matrix_rank(total_fisher_info) < len(xestimate):\n",
    "        Warning( np.linalg.matrix_rank(total_fisher_info) )\n",
    "    return minimal_circuits"
   ]
  },
  {
   "cell_type": "code",
   "execution_count": 16,
   "metadata": {},
   "outputs": [],
   "source": [
    "all_state_preps = ['', 'Y', 'YY', 'YYY', 'X', 'XXX']\n",
    "all_measurements = ['', 'Y', 'YY', 'YYY', 'X', 'XXX']\n",
    "germ_list = ['X', 'Y', 'XX', 'YY', 'XY', 'XXY', 'XYX']\n",
    "\n",
    "reduced_germ_list = ['X', 'Y', 'XY']\n",
    "reduced_state_preps = ['', 'X']\n",
    "reduced_measurements = ['YYY', 'XXX']"
   ]
  },
  {
   "cell_type": "code",
   "execution_count": 17,
   "metadata": {},
   "outputs": [],
   "source": [
    "def make_complete_experiment_design(depths):\n",
    "    edesign = {}\n",
    "    for d in depths:\n",
    "        edesign[d] = []\n",
    "        for prep in all_state_preps:\n",
    "            for germ in germ_list:\n",
    "                for meas in all_measurements:\n",
    "                    edesign[d].append((germ*d, prep, meas))\n",
    "    return edesign\n",
    "\n",
    "def make_minimal_experiment_design(xestimate, depths, num_circs, germ_list, prep_list, meas_list):\n",
    "    edesign = {}\n",
    "    for d in depths:\n",
    "        edesign[d] = find_minimial_circuits_fixed_depth(xestimate, d, num_circs, germ_list, prep_list, meas_list)\n",
    "    return edesign\n",
    "\n",
    "def make_reduced_edeisgn(depths):\n",
    "    reduced_edesign = {}\n",
    "    for d in depths:\n",
    "        reduced_edesign[d] = []\n",
    "        for prep in all_state_preps:\n",
    "            for germ in reduced_germ_list:\n",
    "                for meas in all_measurements:\n",
    "                    reduced_edesign[d].append((germ*d, prep, meas))\n",
    "    return reduced_edesign"
   ]
  },
  {
   "cell_type": "code",
   "execution_count": 18,
   "metadata": {},
   "outputs": [],
   "source": [
    "custom_circuit_list = [\n",
    "    ('X', '', ''), \n",
    "    ('X', '', 'X'), \n",
    "    ('Y', '', ''), \n",
    "    ('Y', '', 'Y'), \n",
    "    ('XX', 'X', ''),\n",
    "    ('XX', 'X', 'X'),\n",
    "    ('XYX', '', ''),\n",
    "    ('XYX', '', 'X')\n",
    "]\n",
    "\n",
    "def make_custom_experiment_design(depths):\n",
    "    edesign = {}\n",
    "    for d in depths:\n",
    "        edesign[d] = custom_circuit_list\n",
    "    return edesign"
   ]
  },
  {
   "cell_type": "markdown",
   "metadata": {},
   "source": [
    "## Evaluating fisher information"
   ]
  },
  {
   "cell_type": "code",
   "execution_count": 19,
   "metadata": {},
   "outputs": [],
   "source": [
    "depths = [1, 2, 4, 8, 16, 32]"
   ]
  },
  {
   "cell_type": "code",
   "execution_count": 20,
   "metadata": {},
   "outputs": [],
   "source": [
    "edesign_complete = make_complete_experiment_design(depths)"
   ]
  },
  {
   "cell_type": "code",
   "execution_count": 21,
   "metadata": {},
   "outputs": [],
   "source": [
    "target_state = np.array([0, 0, 0])\n",
    "covar = 0.01\n",
    "true_state = target_state + np.random.normal(0, covar, 3)"
   ]
  },
  {
   "cell_type": "code",
   "execution_count": 22,
   "metadata": {},
   "outputs": [],
   "source": [
    "edesign_mini = make_minimal_experiment_design(true_state, depths, 10, germ_list, all_state_preps, all_measurements)"
   ]
  },
  {
   "cell_type": "code",
   "execution_count": 23,
   "metadata": {},
   "outputs": [
    {
     "data": {
      "text/plain": [
       "{1: [('XXY', 'X', 'XXX'),\n",
       "  ('YY', 'YYY', 'Y'),\n",
       "  ('XYX', 'XXX', 'Y'),\n",
       "  ('XYX', 'X', 'YYY'),\n",
       "  ('XYX', 'YYY', 'X'),\n",
       "  ('X', 'XXX', 'XXX'),\n",
       "  ('XYX', 'Y', 'YYY'),\n",
       "  ('XY', 'YY', 'XXX'),\n",
       "  ('YY', 'YYY', 'YY'),\n",
       "  ('XYX', 'YYY', 'Y')],\n",
       " 2: [('XY', 'YY', 'Y'),\n",
       "  ('XY', 'Y', 'XXX'),\n",
       "  ('YY', 'YYY', 'YYY'),\n",
       "  ('XY', 'X', 'YY'),\n",
       "  ('XXY', 'XXX', 'XXX'),\n",
       "  ('XX', 'XXX', 'XXX'),\n",
       "  ('XXY', '', 'YY'),\n",
       "  ('XYX', 'YY', ''),\n",
       "  ('XXY', 'Y', 'Y'),\n",
       "  ('XY', '', 'YYY')],\n",
       " 4: [('XYX', '', 'YYY'),\n",
       "  ('YY', 'YY', 'YYY'),\n",
       "  ('XY', 'Y', ''),\n",
       "  ('XXY', 'XXX', 'XXX'),\n",
       "  ('XX', 'XXX', 'XXX'),\n",
       "  ('XY', 'YY', 'XXX'),\n",
       "  ('XYX', '', 'YY'),\n",
       "  ('YY', 'YYY', 'YYY'),\n",
       "  ('XXY', 'X', 'X'),\n",
       "  ('XYX', 'YY', '')],\n",
       " 8: [('XXY', 'Y', 'Y'),\n",
       "  ('XX', 'YY', ''),\n",
       "  ('XX', '', 'YY'),\n",
       "  ('XXY', 'XXX', 'XXX'),\n",
       "  ('XX', 'XXX', 'XXX'),\n",
       "  ('XYX', '', 'YY'),\n",
       "  ('XY', 'XXX', ''),\n",
       "  ('YY', 'YYY', 'YYY'),\n",
       "  ('XXY', 'YYY', 'XXX'),\n",
       "  ('XXY', 'X', 'X')],\n",
       " 16: [('XXY', 'Y', 'XXX'),\n",
       "  ('YY', 'YYY', 'YYY'),\n",
       "  ('XX', '', 'YY'),\n",
       "  ('XXY', 'XXX', 'XXX'),\n",
       "  ('XYX', '', 'YY'),\n",
       "  ('XX', 'YY', ''),\n",
       "  ('XXY', 'X', 'X'),\n",
       "  ('XYX', 'YY', ''),\n",
       "  ('XX', 'XXX', 'XXX'),\n",
       "  ('XXY', '', 'YY')],\n",
       " 32: [('XYX', 'Y', 'Y'),\n",
       "  ('XX', 'X', 'X'),\n",
       "  ('XXY', 'YY', ''),\n",
       "  ('XY', 'X', 'YY'),\n",
       "  ('XX', '', 'YY'),\n",
       "  ('XX', 'YY', ''),\n",
       "  ('XXY', 'XXX', 'XXX'),\n",
       "  ('XYX', '', 'YY'),\n",
       "  ('XYX', 'YY', ''),\n",
       "  ('XX', 'XXX', 'XXX')]}"
      ]
     },
     "execution_count": 23,
     "metadata": {},
     "output_type": "execute_result"
    }
   ],
   "source": [
    "edesign_mini "
   ]
  },
  {
   "cell_type": "code",
   "execution_count": 24,
   "metadata": {},
   "outputs": [],
   "source": [
    "minimal_fisher_info = fisher_information_matrix(true_state, edesign_mini)"
   ]
  },
  {
   "cell_type": "code",
   "execution_count": 25,
   "metadata": {},
   "outputs": [],
   "source": [
    "complete_fisher_info = fisher_information_matrix(true_state, edesign_complete)"
   ]
  },
  {
   "cell_type": "code",
   "execution_count": 26,
   "metadata": {},
   "outputs": [
    {
     "data": {
      "text/plain": [
       "array([42004.44255004,    67.23794642,  6729.91193664])"
      ]
     },
     "execution_count": 26,
     "metadata": {},
     "output_type": "execute_result"
    }
   ],
   "source": [
    "np.linalg.eigvals(minimal_fisher_info)"
   ]
  },
  {
   "cell_type": "code",
   "execution_count": 27,
   "metadata": {},
   "outputs": [
    {
     "data": {
      "text/plain": [
       "array([42004.44255004,    67.23794642,  6729.91193664])"
      ]
     },
     "execution_count": 27,
     "metadata": {},
     "output_type": "execute_result"
    }
   ],
   "source": [
    "np.linalg.eigvals(minimal_fisher_info)"
   ]
  },
  {
   "cell_type": "code",
   "execution_count": 28,
   "metadata": {},
   "outputs": [
    {
     "name": "stdout",
     "output_type": "stream",
     "text": [
      "minimal score  23.66808577110517\n",
      "complete score  42.246809380391326\n"
     ]
    }
   ],
   "source": [
    "minimial_fisher_score = np.sum(np.log(np.linalg.eigvals(minimal_fisher_info)))\n",
    "complete_fisher_score = np.sum(np.log(np.linalg.eigvals(complete_fisher_info)))\n",
    "print('minimal score ', minimial_fisher_score)\n",
    "print('complete score ', complete_fisher_score)"
   ]
  },
  {
   "cell_type": "code",
   "execution_count": 29,
   "metadata": {},
   "outputs": [],
   "source": [
    "true_state = np.array([0, 0, 0])\n",
    "covar = 0.1\n",
    "x0 = true_state + np.random.normal(0, covar, 3)\n",
    "P0 = np.eye(3)*covar\n",
    "num_shots = 1000"
   ]
  },
  {
   "cell_type": "code",
   "execution_count": 30,
   "metadata": {},
   "outputs": [],
   "source": [
    "#ekf = KalmanFilter(x0, P0, record_history=True)"
   ]
  },
  {
   "cell_type": "code",
   "execution_count": 31,
   "metadata": {},
   "outputs": [],
   "source": [
    "ukf = MyUKF(3, edesign_mini, num_shots)\n",
    "ukf.x = x0\n",
    "ukf.P = P0\n",
    "ukf.R = (0.25/num_shots)*np.eye(ukf.num_circs)"
   ]
  },
  {
   "cell_type": "code",
   "execution_count": 32,
   "metadata": {},
   "outputs": [],
   "source": [
    "observations = edesign_observation(true_state, edesign_mini, num_shots)"
   ]
  },
  {
   "cell_type": "code",
   "execution_count": 33,
   "metadata": {},
   "outputs": [],
   "source": [
    "ukf.predict()\n",
    "ukf.update(observations, num_shots, tol=1e-4)\n"
   ]
  },
  {
   "cell_type": "code",
   "execution_count": 34,
   "metadata": {},
   "outputs": [],
   "source": [
    "#ekf.iterated_update(observations, edesign, 0.25/num_shots)"
   ]
  },
  {
   "cell_type": "code",
   "execution_count": 35,
   "metadata": {},
   "outputs": [
    {
     "data": {
      "text/plain": [
       "0.11869423842103416"
      ]
     },
     "execution_count": 35,
     "metadata": {},
     "output_type": "execute_result"
    }
   ],
   "source": [
    "# original error\n",
    "np.linalg.norm(x0 - true_state)"
   ]
  },
  {
   "cell_type": "code",
   "execution_count": 36,
   "metadata": {},
   "outputs": [],
   "source": [
    "# ekf error\n",
    "#np.linalg.norm(ekf.x - true_state)"
   ]
  },
  {
   "cell_type": "code",
   "execution_count": 37,
   "metadata": {},
   "outputs": [
    {
     "data": {
      "text/plain": [
       "0.0007465785872364579"
      ]
     },
     "execution_count": 37,
     "metadata": {},
     "output_type": "execute_result"
    }
   ],
   "source": [
    "# ukf error\n",
    "np.linalg.norm(ukf.x - true_state)"
   ]
  },
  {
   "cell_type": "markdown",
   "metadata": {},
   "source": [
    "## tomographic estimation under oscillations in parameters"
   ]
  },
  {
   "cell_type": "code",
   "execution_count": 61,
   "metadata": {},
   "outputs": [],
   "source": [
    "target_state = np.array([0, 0, 0])"
   ]
  },
  {
   "cell_type": "code",
   "execution_count": 73,
   "metadata": {},
   "outputs": [],
   "source": [
    "reduced_edesign = make_reduced_edeisgn(depths)"
   ]
  },
  {
   "cell_type": "code",
   "execution_count": 65,
   "metadata": {},
   "outputs": [],
   "source": [
    "depths = [1, 2, 4, 8]\n",
    "edesign = make_minimal_experiment_design(target_state, depths, 10, germ_list, all_state_preps, all_measurements)"
   ]
  },
  {
   "cell_type": "code",
   "execution_count": 77,
   "metadata": {},
   "outputs": [],
   "source": [
    "Q = np.eye(3)*0.0001\n",
    "covar = 0.000000000001\n",
    "P0 = np.eye(3)*covar\n"
   ]
  },
  {
   "cell_type": "code",
   "execution_count": 78,
   "metadata": {},
   "outputs": [],
   "source": [
    "num_steps = 100\n",
    "num_iterations = 10\n",
    "tol = 1e-4"
   ]
  },
  {
   "cell_type": "code",
   "execution_count": 79,
   "metadata": {},
   "outputs": [],
   "source": [
    "osc_freq = 1/8"
   ]
  },
  {
   "cell_type": "code",
   "execution_count": 81,
   "metadata": {},
   "outputs": [
    {
     "name": "stderr",
     "output_type": "stream",
     "text": [
      " 27%|██▋       | 27/100 [01:53<05:05,  4.19s/it]\n"
     ]
    },
    {
     "ename": "KeyboardInterrupt",
     "evalue": "",
     "output_type": "error",
     "traceback": [
      "\u001b[0;31m---------------------------------------------------------------------------\u001b[0m",
      "\u001b[0;31mKeyboardInterrupt\u001b[0m                         Traceback (most recent call last)",
      "Cell \u001b[0;32mIn[81], line 21\u001b[0m\n\u001b[1;32m     19\u001b[0m observations \u001b[38;5;241m=\u001b[39m edesign_observation(true_state, experiment_design, num_shots)\n\u001b[1;32m     20\u001b[0m ukf\u001b[38;5;241m.\u001b[39mpredict(u\u001b[38;5;241m=\u001b[39mnp\u001b[38;5;241m.\u001b[39mzeros(\u001b[38;5;241m3\u001b[39m))\n\u001b[0;32m---> 21\u001b[0m \u001b[43mukf\u001b[49m\u001b[38;5;241;43m.\u001b[39;49m\u001b[43mupdate\u001b[49m\u001b[43m(\u001b[49m\u001b[43mobservations\u001b[49m\u001b[43m,\u001b[49m\u001b[43m \u001b[49m\u001b[43mnum_shots\u001b[49m\u001b[43m,\u001b[49m\u001b[43m \u001b[49m\u001b[43mmax_iter\u001b[49m\u001b[38;5;241;43m=\u001b[39;49m\u001b[38;5;241;43m5\u001b[39;49m\u001b[43m,\u001b[49m\u001b[43mtol\u001b[49m\u001b[38;5;241;43m=\u001b[39;49m\u001b[38;5;241;43m1e-5\u001b[39;49m\u001b[43m)\u001b[49m\n\u001b[1;32m     22\u001b[0m ukf_history\u001b[38;5;241m.\u001b[39mappend(ukf\u001b[38;5;241m.\u001b[39mx)\n\u001b[1;32m     23\u001b[0m \u001b[38;5;66;03m# ekf.predict()\u001b[39;00m\n\u001b[1;32m     24\u001b[0m \u001b[38;5;66;03m# ekf.iterated_update(observations, edesign, 0.25/num_shots)\u001b[39;00m\n\u001b[1;32m     25\u001b[0m \u001b[38;5;66;03m#ekf_history.append(ekf.x)\u001b[39;00m\n",
      "Cell \u001b[0;32mIn[13], line 95\u001b[0m, in \u001b[0;36mMyUKF.update\u001b[0;34m(self, observations, num_shots, UT, hx, max_iter, tol, **hx_args)\u001b[0m\n\u001b[1;32m     93\u001b[0m sigmas_h \u001b[38;5;241m=\u001b[39m []\n\u001b[1;32m     94\u001b[0m \u001b[38;5;28;01mfor\u001b[39;00m s \u001b[38;5;129;01min\u001b[39;00m \u001b[38;5;28mself\u001b[39m\u001b[38;5;241m.\u001b[39msigmas_f:\n\u001b[0;32m---> 95\u001b[0m     sigmas_h\u001b[38;5;241m.\u001b[39mappend(\u001b[43mhx\u001b[49m\u001b[43m(\u001b[49m\u001b[43ms\u001b[49m\u001b[43m,\u001b[49m\u001b[43m \u001b[49m\u001b[43md\u001b[49m\u001b[43m)\u001b[49m)\n\u001b[1;32m     97\u001b[0m \u001b[38;5;28mself\u001b[39m\u001b[38;5;241m.\u001b[39msigmas_h \u001b[38;5;241m=\u001b[39m np\u001b[38;5;241m.\u001b[39matleast_2d(sigmas_h)\n\u001b[1;32m     99\u001b[0m \u001b[38;5;66;03m# mean and covariance of prediction passed through unscented transform\u001b[39;00m\n",
      "Cell \u001b[0;32mIn[13], line 33\u001b[0m, in \u001b[0;36mMyUKF.hx\u001b[0;34m(self, x, d)\u001b[0m\n\u001b[1;32m     32\u001b[0m \u001b[38;5;28;01mdef\u001b[39;00m \u001b[38;5;21mhx\u001b[39m(\u001b[38;5;28mself\u001b[39m, x, d):\n\u001b[0;32m---> 33\u001b[0m     \u001b[38;5;28;01mreturn\u001b[39;00m np\u001b[38;5;241m.\u001b[39marray(\u001b[43medesign_probability\u001b[49m\u001b[43m(\u001b[49m\u001b[43mx\u001b[49m\u001b[43m,\u001b[49m\u001b[43m \u001b[49m\u001b[43m{\u001b[49m\u001b[43md\u001b[49m\u001b[43m:\u001b[49m\u001b[43m \u001b[49m\u001b[38;5;28;43mself\u001b[39;49m\u001b[38;5;241;43m.\u001b[39;49m\u001b[43medesign\u001b[49m\u001b[43m[\u001b[49m\u001b[43md\u001b[49m\u001b[43m]\u001b[49m\u001b[43m}\u001b[49m\u001b[43m)\u001b[49m[d])\u001b[38;5;241m.\u001b[39mflatten()\n",
      "Cell \u001b[0;32mIn[9], line 6\u001b[0m, in \u001b[0;36medesign_probability\u001b[0;34m(xstate, edesign)\u001b[0m\n\u001b[1;32m      4\u001b[0m     probs[d] \u001b[38;5;241m=\u001b[39m []\n\u001b[1;32m      5\u001b[0m     \u001b[38;5;28;01mfor\u001b[39;00m circ_def \u001b[38;5;129;01min\u001b[39;00m edesign[d]:\n\u001b[0;32m----> 6\u001b[0m         probs[d]\u001b[38;5;241m.\u001b[39mappend( \u001b[43mprobability\u001b[49m\u001b[43m(\u001b[49m\u001b[43mxstate\u001b[49m\u001b[43m,\u001b[49m\u001b[43m \u001b[49m\u001b[43md\u001b[49m\u001b[43m,\u001b[49m\u001b[43m \u001b[49m\u001b[43mcirc_def\u001b[49m\u001b[43m)\u001b[49m )\n\u001b[1;32m      7\u001b[0m \u001b[38;5;28;01mreturn\u001b[39;00m probs\n",
      "Cell \u001b[0;32mIn[7], line 16\u001b[0m, in \u001b[0;36mprobability\u001b[0;34m(xstate, d, circ_def)\u001b[0m\n\u001b[1;32m     13\u001b[0m \u001b[38;5;28;01mdef\u001b[39;00m \u001b[38;5;21mprobability\u001b[39m(xstate, d, circ_def):\n\u001b[1;32m     14\u001b[0m     \u001b[38;5;66;03m# assume a convention where the gates go from left to right in the string\u001b[39;00m\n\u001b[1;32m     15\u001b[0m     Xgate \u001b[38;5;241m=\u001b[39m xgate_model(xstate)\n\u001b[0;32m---> 16\u001b[0m     Ygate \u001b[38;5;241m=\u001b[39m \u001b[43mygate_model\u001b[49m\u001b[43m(\u001b[49m\u001b[43mxstate\u001b[49m\u001b[43m)\u001b[49m\n\u001b[1;32m     17\u001b[0m     germ, prep, meas \u001b[38;5;241m=\u001b[39m circ_def\n\u001b[1;32m     18\u001b[0m     prep_unitary \u001b[38;5;241m=\u001b[39m multiply_sequence(prep, Xgate, Ygate)\n",
      "Cell \u001b[0;32mIn[5], line 14\u001b[0m, in \u001b[0;36mygate_model\u001b[0;34m(xstate)\u001b[0m\n\u001b[1;32m      9\u001b[0m \u001b[38;5;28;01mdef\u001b[39;00m \u001b[38;5;21mygate_model\u001b[39m(xstate):\n\u001b[1;32m     10\u001b[0m \u001b[38;5;250m    \u001b[39m\u001b[38;5;124;03m\"\"\"\u001b[39;00m\n\u001b[1;32m     11\u001b[0m \u001b[38;5;124;03m    xstate = (Delta, Omega, phi)\u001b[39;00m\n\u001b[1;32m     12\u001b[0m \u001b[38;5;124;03m    \"\"\"\u001b[39;00m\n\u001b[1;32m     13\u001b[0m     \u001b[38;5;28;01mreturn\u001b[39;00m expm(\u001b[38;5;241m-\u001b[39m(\u001b[38;5;241m1\u001b[39mj\u001b[38;5;241m/\u001b[39m\u001b[38;5;241m2\u001b[39m)\u001b[38;5;241m*\u001b[39m\n\u001b[0;32m---> 14\u001b[0m                 (xstate[\u001b[38;5;241m0\u001b[39m]\u001b[38;5;241m*\u001b[39m\u001b[43mPauliMatrix\u001b[49m\u001b[43m(\u001b[49m\u001b[38;5;241;43m3\u001b[39;49m\u001b[43m)\u001b[49m \u001b[38;5;241m+\u001b[39m (xstate[\u001b[38;5;241m1\u001b[39m]\u001b[38;5;241m+\u001b[39mnp\u001b[38;5;241m.\u001b[39mpi\u001b[38;5;241m/\u001b[39m\u001b[38;5;241m2\u001b[39m)\u001b[38;5;241m*\u001b[39m(np\u001b[38;5;241m.\u001b[39mcos(xstate[\u001b[38;5;241m2\u001b[39m]\u001b[38;5;241m+\u001b[39mnp\u001b[38;5;241m.\u001b[39mpi\u001b[38;5;241m/\u001b[39m\u001b[38;5;241m2\u001b[39m)\u001b[38;5;241m*\u001b[39mPauliMatrix(\u001b[38;5;241m1\u001b[39m) \u001b[38;5;241m+\u001b[39m np\u001b[38;5;241m.\u001b[39msin(xstate[\u001b[38;5;241m2\u001b[39m]\u001b[38;5;241m+\u001b[39mnp\u001b[38;5;241m.\u001b[39mpi\u001b[38;5;241m/\u001b[39m\u001b[38;5;241m2\u001b[39m)\u001b[38;5;241m*\u001b[39mPauliMatrix(\u001b[38;5;241m2\u001b[39m)))\n\u001b[1;32m     15\u001b[0m             )\n",
      "Cell \u001b[0;32mIn[4], line 9\u001b[0m, in \u001b[0;36mPauliMatrix\u001b[0;34m(i)\u001b[0m\n\u001b[1;32m      7\u001b[0m     \u001b[38;5;28;01mreturn\u001b[39;00m np\u001b[38;5;241m.\u001b[39marray([[\u001b[38;5;241m0\u001b[39m, \u001b[38;5;241m-\u001b[39m\u001b[38;5;241m1\u001b[39mj], [\u001b[38;5;241m1\u001b[39mj, \u001b[38;5;241m0\u001b[39m]])\n\u001b[1;32m      8\u001b[0m \u001b[38;5;28;01melif\u001b[39;00m i \u001b[38;5;241m==\u001b[39m \u001b[38;5;241m3\u001b[39m:\n\u001b[0;32m----> 9\u001b[0m     \u001b[38;5;28;01mreturn\u001b[39;00m \u001b[43mnp\u001b[49m\u001b[38;5;241;43m.\u001b[39;49m\u001b[43marray\u001b[49m\u001b[43m(\u001b[49m\u001b[43m[\u001b[49m\u001b[43m[\u001b[49m\u001b[38;5;241;43m1\u001b[39;49m\u001b[43m,\u001b[49m\u001b[43m \u001b[49m\u001b[38;5;241;43m0\u001b[39;49m\u001b[43m]\u001b[49m\u001b[43m,\u001b[49m\u001b[43m \u001b[49m\u001b[43m[\u001b[49m\u001b[38;5;241;43m0\u001b[39;49m\u001b[43m,\u001b[49m\u001b[43m \u001b[49m\u001b[38;5;241;43m-\u001b[39;49m\u001b[38;5;241;43m1\u001b[39;49m\u001b[43m]\u001b[49m\u001b[43m]\u001b[49m\u001b[43m)\u001b[49m\n\u001b[1;32m     10\u001b[0m \u001b[38;5;28;01melse\u001b[39;00m:\n\u001b[1;32m     11\u001b[0m     \u001b[38;5;28;01mraise\u001b[39;00m \u001b[38;5;167;01mValueError\u001b[39;00m(\u001b[38;5;124m\"\u001b[39m\u001b[38;5;124mi must be 0, 1, 2, or 3.\u001b[39m\u001b[38;5;124m\"\u001b[39m)\n",
      "\u001b[0;31mKeyboardInterrupt\u001b[0m: "
     ]
    }
   ],
   "source": [
    "true_state = target_state + np.random.multivariate_normal(np.zeros(3), P0)\n",
    "\n",
    "experiment_design = reduced_edesign\n",
    "\n",
    "#ekf = KalmanFilter(x0, P0, Q=Q, record_history=True)\n",
    "ukf = MyUKF(3, experiment_design, num_shots)\n",
    "x0 = target_state\n",
    "ukf.x = x0\n",
    "ukf.P = P0\n",
    "ukf.Q = Q\n",
    "\n",
    "ukf_history = []\n",
    "ekf_history = []\n",
    "true_state_history = []\n",
    "for i in tqdm(range(num_steps)):\n",
    "    w = 0.1*np.array([np.cos(2*np.pi*osc_freq*i), 0, 0])\n",
    "    true_state = true_state + w\n",
    "    true_state_history.append(true_state)\n",
    "    observations = edesign_observation(true_state, experiment_design, num_shots)\n",
    "    ukf.predict(u=np.zeros(3))\n",
    "    ukf.update(observations, num_shots, max_iter=5,tol=1e-5)\n",
    "    ukf_history.append(ukf.x)\n",
    "    # ekf.predict()\n",
    "    # ekf.iterated_update(observations, edesign, 0.25/num_shots)\n",
    "    #ekf_history.append(ekf.x)"
   ]
  },
  {
   "cell_type": "code",
   "execution_count": 75,
   "metadata": {},
   "outputs": [],
   "source": [
    "ukf_history = np.array(ukf_history)\n",
    "#ekf_history = np.array(ekf_history)\n",
    "true_state_history = np.array(true_state_history)"
   ]
  },
  {
   "cell_type": "code",
   "execution_count": 76,
   "metadata": {},
   "outputs": [
    {
     "data": {
      "image/png": "[encoded data removed]",
      "text/plain": [
       "<Figure size 1200x400 with 3 Axes>"
      ]
     },
     "metadata": {},
     "output_type": "display_data"
    }
   ],
   "source": [
    "# plot the estimated and true state over time\n",
    "fig, ax = plt.subplots(1, 3, figsize=(12, 4))\n",
    "ax[0].plot(true_state_history[:, 0], label='True Trajectory')\n",
    "ax[0].plot(ukf_history[:, 0], label='Kalman Estimate')\n",
    "#ax[0].plot(ekf_history[:, 0], label='EKF')\n",
    "\n",
    "\n",
    "font_size = 16\n",
    "ax[0].set_xlabel('k (time index)', fontsize=font_size)\n",
    "ax[0].set_ylabel('Error in $\\\\Delta$', fontsize=font_size)\n",
    "ax[0].set_title('x[0]', fontsize=14)\n",
    "ax[1].plot(true_state_history[:, 1], label='True Trajectory')\n",
    "ax[1].plot(ukf_history[:, 1], label='Kalman Estimate')\n",
    "#ax[1].plot(ekf_history[:, 1], label='EKF')\n",
    "ax[1].set_xlabel('k (time index)', fontsize=font_size)\n",
    "ax[1].set_ylabel('Error in $\\\\Omega$', fontsize=font_size)\n",
    "ax[1].set_title('x[1]', fontsize=14)\n",
    "ax[2].plot(true_state_history[:, 2], label='True Trajectory')\n",
    "ax[2].plot(ukf_history[:, 2], label='Kalman Estimate')\n",
    "ax[2].set_xlabel('k (time index)', fontsize=font_size)\n",
    "ax[2].set_ylabel('Error in $\\\\phi$', fontsize=font_size)\n",
    "ax[2].set_title('x[2]', fontsize=font_size)\n",
    "# make the font larger for the labels\n",
    "\n",
    "\n",
    "\n",
    "ax[2].legend(fontsize=font_size)\n",
    "# set tight layout\n",
    "plt.tight_layout()\n"
   ]
  },
  {
   "cell_type": "markdown",
   "metadata": {},
   "source": [
    "(xestimate, depths, num_circs, germ_list, prep_list, meas_list)"
   ]
  },
  {
   "cell_type": "markdown",
   "metadata": {},
   "source": []
  }
 ],
 "metadata": {
  "kernelspec": {
   "display_name": "ErrorGenerators",
   "language": "python",
   "name": "python3"
  },
  "language_info": {
   "codemirror_mode": {
    "name": "ipython",
    "version": 3
   },
   "file_extension": ".py",
   "mimetype": "text/x-python",
   "name": "python",
   "nbconvert_exporter": "python",
   "pygments_lexer": "ipython3",
   "version": "3.10.11"
  }
 },
 "nbformat": 4,
 "nbformat_minor": 2
}
