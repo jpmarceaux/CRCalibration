{
 "cells": [
  {
   "cell_type": "code",
   "execution_count": 307,
   "metadata": {},
   "outputs": [],
   "source": [
    "import pygsti\n",
    "from pygsti.circuits import Circuit\n",
    "import numpy as np"
   ]
  },
  {
   "cell_type": "markdown",
   "metadata": {},
   "source": [
    "$$\n",
    "    R_{ij} = \\frac{1}{d} \\text{Tr}[ \\sigma_i E(\\sigma_j)]\n",
    "$$\n",
    "\n",
    "$$\n",
    "    p_{ij} = \\text{Tr}[\\Lambda_E (\\rho^T \\otimes \\Pi_j)]\n",
    "$$"
   ]
  },
  {
   "cell_type": "code",
   "execution_count": 308,
   "metadata": {},
   "outputs": [],
   "source": [
    "def PauliMatrix(i):\n",
    "    if i == 0:\n",
    "        return np.array([[1, 0], [0, 1]])\n",
    "    elif i == 1:\n",
    "        return np.array([[0, 1], [1, 0]])\n",
    "    elif i == 2:\n",
    "        return np.array([[0, -1j], [1j, 0]])\n",
    "    elif i == 3:\n",
    "        return np.array([[1, 0], [0, -1]])\n",
    "    else:\n",
    "        raise ValueError(\"i must be 0, 1, 2, or 3.\")\n",
    "\n",
    "def PauliTensor(i, j):\n",
    "    return np.kron(PauliMatrix(i), PauliMatrix(j))"
   ]
  },
  {
   "cell_type": "code",
   "execution_count": 309,
   "metadata": {},
   "outputs": [],
   "source": [
    "class ProcessTomographyExperiment_2Q:\n",
    "    def __init__(self, qubit_labels):\n",
    "        self.qubit_labels = qubit_labels\n",
    "        \n",
    "    def all_prep_fiducials(self):\n",
    "        return {'0' : '', \n",
    "                '1' : 'xx',\n",
    "                '+' : 'y', \n",
    "                '-' : 'yyy', \n",
    "                'i' : 'xxx', \n",
    "                '-i' : 'x'}\n",
    "    \n",
    "    def all_meas_fiducials(self):\n",
    "        return {'0' : '', \n",
    "                '1' : 'xx',\n",
    "                '+' : 'y', \n",
    "                '-' : 'yyy', \n",
    "                'i' : 'xxx', \n",
    "                '-i' : 'x'}"
   ]
  },
  {
   "cell_type": "markdown",
   "metadata": {},
   "source": [
    "$$\n",
    "    p_n = \\langle \\langle \\rho^T_n \\otimes \\Pi_n | \\Lambda \\rangle \\rangle \n",
    "$$\n",
    "\n",
    "Find a set $\\{\\langle \\langle \\rho^T_n \\otimes \\Pi_n |\\}_n$ that spans $L(\\mathcal{X} \\otimes \\mathcal{X})$\n",
    "\n",
    "https://github.com/qiskit-community/qiskit-community-tutorials/blob/master/ignis/tomography-overview.ipynb"
   ]
  },
  {
   "cell_type": "code",
   "execution_count": 310,
   "metadata": {},
   "outputs": [],
   "source": [
    "full_pauli_basis = {\n",
    "    '0' : (np.eye(2) + PauliMatrix(3))/2,\n",
    "    '1' : (np.eye(2) - PauliMatrix(3))/2,\n",
    "    '+' : (np.eye(2) + PauliMatrix(1))/2, \n",
    "    '-' : (np.eye(2) - PauliMatrix(1))/2,\n",
    "    'r' : (np.eye(2) + PauliMatrix(2))/2,\n",
    "    'l' : (np.eye(2) - PauliMatrix(2))/2\n",
    "}"
   ]
  },
  {
   "cell_type": "code",
   "execution_count": 372,
   "metadata": {},
   "outputs": [],
   "source": [
    "def make_all_fiducials():\n",
    "    all_fiducials = {}\n",
    "    for prep_fiducial in ['0', '1', '+', '-', 'r', 'l']:\n",
    "        for meas_fiducial in ['0', '1', '+', '-', 'r', 'l']:\n",
    "            all_fiducials[prep_fiducial+'.'+meas_fiducial] = 2*np.kron(full_pauli_basis[prep_fiducial].T, full_pauli_basis[meas_fiducial])\n",
    "    return all_fiducials"
   ]
  },
  {
   "cell_type": "code",
   "execution_count": 373,
   "metadata": {},
   "outputs": [
    {
     "data": {
      "text/plain": [
       "36"
      ]
     },
     "execution_count": 373,
     "metadata": {},
     "output_type": "execute_result"
    }
   ],
   "source": [
    "all_fids = make_all_fiducials()\n",
    "len(all_fids)"
   ]
  },
  {
   "cell_type": "code",
   "execution_count": 374,
   "metadata": {},
   "outputs": [],
   "source": [
    "from pygsti.modelpacks import smq1Q_XYI\n",
    "from pygsti.modelmembers.operations import create_from_unitary_mx\n",
    "from scipy.linalg import expm, logm\n",
    "from pygsti.tools.jamiolkowski import jamiolkowski_iso\n",
    "from pygsti.tools.basistools import change_basis\n",
    "from pygsti.modelmembers.operations import FullArbitraryOp\n",
    "\n",
    "model = smq1Q_XYI.target_model('static')\n",
    "# make a random unitary with some depolarization\n",
    "\n",
    "depol_strength = 0.0\n",
    "def random_unitary():\n",
    "    phases = np.random.rand(3)*2*np.pi\n",
    "    U = expm(-(1j/2)*(phases[0]*PauliMatrix(1) + phases[1]*PauliMatrix(2) + phases[2]*PauliMatrix(3)))\n",
    "    return U\n",
    "\n",
    "U = random_unitary()\n",
    "Gu = create_from_unitary_mx(U, 'full', 'std').to_dense()\n",
    "Gu = change_basis(Gu, 'std', 'pp')\n",
    "model['Gu'] = FullArbitraryOp(Gu, 'pp', 'densitymx')\n",
    "model['Gu'].depolarize(depol_strength)"
   ]
  },
  {
   "cell_type": "code",
   "execution_count": 375,
   "metadata": {},
   "outputs": [
    {
     "data": {
      "text/plain": [
       "array([[ 1.        ,  0.        ,  0.        ,  0.        ],\n",
       "       [ 0.        ,  0.99917673,  0.01558151, -0.03745758],\n",
       "       [ 0.        , -0.00899611,  0.98541342,  0.16993956],\n",
       "       [ 0.        ,  0.03955912, -0.16946268,  0.98474234]])"
      ]
     },
     "execution_count": 375,
     "metadata": {},
     "output_type": "execute_result"
    }
   ],
   "source": [
    "model['Gu'].to_dense()"
   ]
  },
  {
   "cell_type": "code",
   "execution_count": 376,
   "metadata": {},
   "outputs": [],
   "source": [
    "choi_Gu = jamiolkowski_iso(model['Gu'].to_dense(), 'pp')"
   ]
  },
  {
   "cell_type": "code",
   "execution_count": 377,
   "metadata": {},
   "outputs": [],
   "source": [
    "# make design matrix \n",
    "# https://github.com/qiskit-community/qiskit-community-tutorials/blob/master/ignis/tomography-overview.ipynb\n",
    "all_fids = make_all_fiducials()\n",
    "design_matrix = np.zeros((36, 4**2), dtype=complex)\n",
    "for idx, fid in enumerate(all_fids.values()):\n",
    "    design_matrix[idx, :] = fid.flatten()"
   ]
  },
  {
   "cell_type": "code",
   "execution_count": 378,
   "metadata": {},
   "outputs": [
    {
     "data": {
      "text/plain": [
       "(36, 16)"
      ]
     },
     "execution_count": 378,
     "metadata": {},
     "output_type": "execute_result"
    }
   ],
   "source": [
    "design_matrix.shape"
   ]
  },
  {
   "cell_type": "code",
   "execution_count": 379,
   "metadata": {},
   "outputs": [],
   "source": [
    "def prep_name_to_gates(prep_name):\n",
    "    if prep_name == '0':\n",
    "        return []\n",
    "    elif prep_name == '1':\n",
    "        return [('Gxpi2', 0), ('Gxpi2', 0)]\n",
    "    elif prep_name == '+':\n",
    "        return [('Gypi2', 0)]\n",
    "    elif prep_name == '-':\n",
    "        return [('Gypi2', 0), ('Gypi2', 0), ('Gypi2', 0)]\n",
    "    elif prep_name == 'r':\n",
    "        return [('Gxpi2', 0), ('Gxpi2', 0),  ('Gxpi2', 0)]\n",
    "    elif prep_name == 'l':\n",
    "        return [('Gxpi2', 0)]\n",
    "    else:\n",
    "        raise ValueError(\"prep_name must be 0, 1, +, -, r, or l.\")\n",
    "\n",
    "def meas_name_to_gates(meas_name):\n",
    "    if meas_name == '0':\n",
    "        return []\n",
    "    elif meas_name == '+':\n",
    "        return [('Gypi2', 0), ('Gypi2', 0), ('Gypi2', 0)]\n",
    "    elif meas_name == 'r':\n",
    "        return [('Gxpi2', 0)]\n",
    "    else:\n",
    "        raise ValueError(\"prep_name must be 0, 1, +, -, r, or l.\")\n",
    "\n",
    "\n",
    "def make_circuit_map(fiducial_dict):\n",
    "    circuit_map = {}\n",
    "    for prep in ['0', '1', '+', '-', 'r', 'l']:\n",
    "        for meas in ['0', '+', 'r']:\n",
    "            key = prep + '.' + meas\n",
    "            prep_gates = prep_name_to_gates(prep)\n",
    "            meas_gates = meas_name_to_gates(meas)\n",
    "            circuit_map[key] = Circuit(prep_gates + ['Gu'] + meas_gates)\n",
    "    return circuit_map"
   ]
  },
  {
   "cell_type": "code",
   "execution_count": 380,
   "metadata": {},
   "outputs": [
    {
     "data": {
      "text/plain": [
       "18"
      ]
     },
     "execution_count": 380,
     "metadata": {},
     "output_type": "execute_result"
    }
   ],
   "source": [
    "# make the circuits \n",
    "edesign = make_circuit_map(all_fids)\n",
    "len(edesign)"
   ]
  },
  {
   "cell_type": "code",
   "execution_count": 381,
   "metadata": {},
   "outputs": [
    {
     "data": {
      "text/plain": [
       "{'0.0': Circuit(Gu),\n",
       " '0.+': Circuit(GuGypi2:0Gypi2:0Gypi2:0@(0)),\n",
       " '0.r': Circuit(GuGxpi2:0@(0)),\n",
       " '1.0': Circuit(Gxpi2:0Gxpi2:0Gu@(0)),\n",
       " '1.+': Circuit(Gxpi2:0Gxpi2:0GuGypi2:0Gypi2:0Gypi2:0@(0)),\n",
       " '1.r': Circuit(Gxpi2:0Gxpi2:0GuGxpi2:0@(0)),\n",
       " '+.0': Circuit(Gypi2:0Gu@(0)),\n",
       " '+.+': Circuit(Gypi2:0GuGypi2:0Gypi2:0Gypi2:0@(0)),\n",
       " '+.r': Circuit(Gypi2:0GuGxpi2:0@(0)),\n",
       " '-.0': Circuit(Gypi2:0Gypi2:0Gypi2:0Gu@(0)),\n",
       " '-.+': Circuit(Gypi2:0Gypi2:0Gypi2:0GuGypi2:0Gypi2:0Gypi2:0@(0)),\n",
       " '-.r': Circuit(Gypi2:0Gypi2:0Gypi2:0GuGxpi2:0@(0)),\n",
       " 'r.0': Circuit(Gxpi2:0Gxpi2:0Gxpi2:0Gu@(0)),\n",
       " 'r.+': Circuit(Gxpi2:0Gxpi2:0Gxpi2:0GuGypi2:0Gypi2:0Gypi2:0@(0)),\n",
       " 'r.r': Circuit(Gxpi2:0Gxpi2:0Gxpi2:0GuGxpi2:0@(0)),\n",
       " 'l.0': Circuit(Gxpi2:0Gu@(0)),\n",
       " 'l.+': Circuit(Gxpi2:0GuGypi2:0Gypi2:0Gypi2:0@(0)),\n",
       " 'l.r': Circuit(Gxpi2:0GuGxpi2:0@(0))}"
      ]
     },
     "execution_count": 381,
     "metadata": {},
     "output_type": "execute_result"
    }
   ],
   "source": [
    "edesign"
   ]
  },
  {
   "cell_type": "code",
   "execution_count": 382,
   "metadata": {},
   "outputs": [],
   "source": [
    "def simulate_data(model, edesign, n_samples=1000):\n",
    "    data = {}\n",
    "    for key, circuit in edesign.items():\n",
    "        prep, meas = key.split('.')\n",
    "        if meas == '0':\n",
    "            p0 = model.probabilities(circuit)['0']\n",
    "            p0 = np.clip(p0, 0, 1)\n",
    "            counts0 = np.random.binomial(n_samples, p0)\n",
    "            counts1 = n_samples - counts0\n",
    "            data[prep+'.0'] = counts0/n_samples\n",
    "            data[prep+'.1'] = counts1/n_samples\n",
    "        elif meas == '+':\n",
    "            p0 = model.probabilities(circuit)['0']\n",
    "            p0 = np.clip(p0, 0, 1)\n",
    "            counts0 = np.random.binomial(n_samples, p0)\n",
    "            counts1 = n_samples - counts0\n",
    "            data[prep+'.+'] = counts0/n_samples\n",
    "            data[prep+'.-'] = counts1/n_samples\n",
    "        elif meas == 'r':\n",
    "            p0 = model.probabilities(circuit)['0']\n",
    "            p0 = np.clip(p0, 0, 1)\n",
    "            counts0 = np.random.binomial(n_samples, p0)\n",
    "            counts1 = n_samples - counts0\n",
    "            data[prep+'.r'] = counts0/n_samples\n",
    "            data[prep+'.l'] = counts1/n_samples\n",
    "    return data"
   ]
  },
  {
   "cell_type": "code",
   "execution_count": 383,
   "metadata": {},
   "outputs": [],
   "source": [
    "data = simulate_data(model, edesign, n_samples=10**10)"
   ]
  },
  {
   "cell_type": "code",
   "execution_count": 384,
   "metadata": {},
   "outputs": [],
   "source": [
    "data_vector = np.array([data[key] for key in sorted(data.keys())]).flatten()"
   ]
  },
  {
   "cell_type": "code",
   "execution_count": 385,
   "metadata": {},
   "outputs": [
    {
     "name": "stdout",
     "output_type": "stream",
     "text": [
      "(36, 16) (36,)\n"
     ]
    }
   ],
   "source": [
    "print(design_matrix.shape, data_vector.shape)"
   ]
  },
  {
   "cell_type": "code",
   "execution_count": 386,
   "metadata": {},
   "outputs": [],
   "source": [
    "rho = np.linalg.lstsq(design_matrix, data_vector, rcond=None)[0]"
   ]
  },
  {
   "cell_type": "code",
   "execution_count": 387,
   "metadata": {},
   "outputs": [],
   "source": [
    "choi_est = np.reshape(rho, (4, 4))"
   ]
  },
  {
   "cell_type": "code",
   "execution_count": 388,
   "metadata": {},
   "outputs": [
    {
     "data": {
      "text/plain": [
       "array([[ 4.99793858e-01+2.41106354e-18j,  9.89248977e-03+2.24567846e-03j,\n",
       "        -9.36395640e-03+3.89500448e-03j,  4.92539079e-01-8.48528618e-02j],\n",
       "       [ 9.89248977e-03-2.24567846e-03j,  2.06142175e-04+2.03830008e-17j,\n",
       "        -1.67662650e-04+1.17605825e-04j,  9.36395640e-03-3.89500448e-03j],\n",
       "       [-9.36395640e-03-3.89500447e-03j, -1.67662650e-04-1.17605825e-04j,\n",
       "         2.05590475e-04-2.58040117e-17j, -9.89144213e-03-2.24774119e-03j],\n",
       "       [ 4.92539079e-01+8.48528618e-02j,  9.36395640e-03+3.89500447e-03j,\n",
       "        -9.89144213e-03+2.24774119e-03j,  4.99794410e-01+2.92734587e-18j]])"
      ]
     },
     "execution_count": 388,
     "metadata": {},
     "output_type": "execute_result"
    }
   ],
   "source": [
    "choi_est"
   ]
  },
  {
   "cell_type": "code",
   "execution_count": 389,
   "metadata": {},
   "outputs": [
    {
     "data": {
      "text/plain": [
       "(0.9999999999999992-8.260146078438539e-20j)"
      ]
     },
     "execution_count": 389,
     "metadata": {},
     "output_type": "execute_result"
    }
   ],
   "source": [
    "np.trace(choi_est)"
   ]
  },
  {
   "cell_type": "code",
   "execution_count": 390,
   "metadata": {},
   "outputs": [
    {
     "data": {
      "text/plain": [
       "array([[9.92333125e-01+0.j        , 0.00000000e+00-0.08485056j,\n",
       "        0.00000000e+00-0.01925418j, 0.00000000e+00-0.0061444j ],\n",
       "       [0.00000000e+00+0.08485056j, 7.25524226e-03+0.j        ,\n",
       "        1.64634995e-03+0.j        , 5.25384198e-04+0.j        ],\n",
       "       [0.00000000e+00+0.01925418j, 1.64634995e-03+0.j        ,\n",
       "        3.73587546e-04+0.j        , 1.19219485e-04+0.j        ],\n",
       "       [0.00000000e+00+0.0061444j , 5.25384198e-04+0.j        ,\n",
       "        1.19219485e-04+0.j        , 3.80453947e-05+0.j        ]])"
      ]
     },
     "execution_count": 390,
     "metadata": {},
     "output_type": "execute_result"
    }
   ],
   "source": [
    "choi_Gu"
   ]
  },
  {
   "cell_type": "code",
   "execution_count": 391,
   "metadata": {},
   "outputs": [
    {
     "data": {
      "text/plain": [
       "(1+0j)"
      ]
     },
     "execution_count": 391,
     "metadata": {},
     "output_type": "execute_result"
    }
   ],
   "source": [
    "np.trace(choi_Gu)"
   ]
  },
  {
   "cell_type": "code",
   "execution_count": 329,
   "metadata": {},
   "outputs": [],
   "source": [
    "from scipy.linalg import sqrtm"
   ]
  },
  {
   "cell_type": "code",
   "execution_count": 330,
   "metadata": {},
   "outputs": [
    {
     "data": {
      "text/plain": [
       "(2.3135069687484737522-1.4550164755645648577e-13j)"
      ]
     },
     "execution_count": 330,
     "metadata": {},
     "output_type": "execute_result"
    }
   ],
   "source": [
    "np.trace(sqrtm(np.conj(choi_est - choi_Gu).T @ (choi_est - choi_Gu)))"
   ]
  },
  {
   "cell_type": "code",
   "execution_count": null,
   "metadata": {},
   "outputs": [],
   "source": []
  },
  {
   "cell_type": "code",
   "execution_count": null,
   "metadata": {},
   "outputs": [],
   "source": []
  }
 ],
 "metadata": {
  "kernelspec": {
   "display_name": "ErrorGenerators",
   "language": "python",
   "name": "python3"
  },
  "language_info": {
   "codemirror_mode": {
    "name": "ipython",
    "version": 3
   },
   "file_extension": ".py",
   "mimetype": "text/x-python",
   "name": "python",
   "nbconvert_exporter": "python",
   "pygments_lexer": "ipython3",
   "version": "3.10.11"
  }
 },
 "nbformat": 4,
 "nbformat_minor": 2
}
