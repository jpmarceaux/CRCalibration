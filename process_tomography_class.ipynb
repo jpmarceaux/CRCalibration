{
 "cells": [
  {
   "cell_type": "code",
   "execution_count": 1,
   "metadata": {},
   "outputs": [],
   "source": [
    "import pygsti\n",
    "from pygsti.circuits import Circuit\n",
    "import numpy as np\n",
    "from scipy.linalg import expm, sqrtm\n",
    "# import ordered dict\n",
    "from collections import OrderedDict"
   ]
  },
  {
   "cell_type": "code",
   "execution_count": 2,
   "metadata": {},
   "outputs": [],
   "source": [
    "from pygsti.modelpacks import smq1Q_XYI\n",
    "from pygsti.modelmembers.operations import create_from_unitary_mx\n",
    "from scipy.linalg import expm, logm\n",
    "from pygsti.tools.jamiolkowski import jamiolkowski_iso\n",
    "from pygsti.tools.basistools import change_basis\n",
    "from pygsti.modelmembers.operations import FullArbitraryOp\n"
   ]
  },
  {
   "cell_type": "code",
   "execution_count": 3,
   "metadata": {},
   "outputs": [],
   "source": [
    "def PauliMatrix(i):\n",
    "    if i == 0:\n",
    "        return np.array([[1, 0], [0, 1]])\n",
    "    elif i == 1:\n",
    "        return np.array([[0, 1], [1, 0]])\n",
    "    elif i == 2:\n",
    "        return np.array([[0, -1j], [1j, 0]])\n",
    "    elif i == 3:\n",
    "        return np.array([[1, 0], [0, -1]])\n",
    "    else:\n",
    "        raise ValueError(\"i must be 0, 1, 2, or 3.\")\n",
    "\n",
    "def PauliTensor(i, j):\n",
    "    return np.kron(PauliMatrix(i), PauliMatrix(j))"
   ]
  },
  {
   "cell_type": "code",
   "execution_count": 4,
   "metadata": {},
   "outputs": [],
   "source": [
    "single_qubit_projectors = {\n",
    "    '0' : (np.eye(2) + PauliMatrix(3))/2,\n",
    "    '1' : (np.eye(2) - PauliMatrix(3))/2,\n",
    "    '+' : (np.eye(2) + PauliMatrix(1))/2, \n",
    "    '-' : (np.eye(2) - PauliMatrix(1))/2,\n",
    "    'r' : (np.eye(2) + PauliMatrix(2))/2,\n",
    "    'l' : (np.eye(2) - PauliMatrix(2))/2\n",
    "}"
   ]
  },
  {
   "cell_type": "code",
   "execution_count": 5,
   "metadata": {},
   "outputs": [],
   "source": [
    "def prep_name_to_gates(prep_name):\n",
    "    if prep_name == '0':\n",
    "        return []\n",
    "    elif prep_name == '1':\n",
    "        return ['Gx']\n",
    "    elif prep_name == '+':\n",
    "        return ['Gy']\n",
    "    elif prep_name == '-':\n",
    "        return ['Gy']*3\n",
    "    elif prep_name == 'r':\n",
    "        return ['Gx']*3\n",
    "    elif prep_name == 'l':\n",
    "        return ['Gx']\n",
    "    else:\n",
    "        raise ValueError(\"prep_name must be 0, 1, +, -, r, or l.\")\n",
    "\n",
    "def meas_name_to_gates(meas_name):\n",
    "    if meas_name == '0':\n",
    "        return []\n",
    "    elif meas_name == '+':\n",
    "        return ['Gy']*3\n",
    "    elif meas_name == 'r':\n",
    "        return ['Gx']\n",
    "    else:\n",
    "        raise ValueError(\"meas_name must be 0, +, or r.\")\n"
   ]
  },
  {
   "cell_type": "code",
   "execution_count": 6,
   "metadata": {},
   "outputs": [],
   "source": [
    "from pygsti.modelmembers.povms import UnconstrainedPOVM\n",
    "from pygsti.modelmembers.operations import StaticArbitraryOp"
   ]
  },
  {
   "cell_type": "code",
   "execution_count": 144,
   "metadata": {},
   "outputs": [],
   "source": [
    "class ProcessTomography1Q:\n",
    "    def __init__(self, qid, process_name='u'):\n",
    "        self.process_name = process_name\n",
    "        self.qid = qid\n",
    "        self.fiducial_pairs = self._create_fiducial_pairs()\n",
    "        self.edesign_pygsti = self._make_pygsti_circuits(self.process_name)\n",
    "\n",
    "    def _create_fiducial_pairs(self):\n",
    "        all_fiducials = OrderedDict()\n",
    "        for prep_fiducial in ['0', '1', '+', '-', 'r', 'l']:\n",
    "            for meas_fiducial in ['0', '1', '+', '-', 'r', 'l']:\n",
    "                all_fiducials[prep_fiducial+'.'+meas_fiducial] = 2*np.kron(single_qubit_projectors[prep_fiducial].T, single_qubit_projectors[meas_fiducial])\n",
    "        return all_fiducials\n",
    "\n",
    "    def design_rvecs(self):\n",
    "        rvecs = dict()\n",
    "        for lbl, fid in self.fiducial_pairs.items():\n",
    "            rvecs[lbl] = fid.flatten()\n",
    "        return rvecs\n",
    "    \n",
    "    def design_matrix(self):\n",
    "        rvecs = self.design_rvecs()\n",
    "        return np.array(list(rvecs.values()))\n",
    "    \n",
    "    def format_data_dict(self, data):\n",
    "        data_dict = {}\n",
    "        for key, value in data.items():\n",
    "            prep, meas = key.split('.')\n",
    "            if meas == '0':\n",
    "                data_dict[key] = value[0]\n",
    "                data_dict[prep + '.1'] = value[1]\n",
    "            elif meas == '+':\n",
    "                data_dict[key] = value[0]\n",
    "                data_dict[prep + '.-'] = value[1]\n",
    "            elif meas == 'r':\n",
    "                data_dict[key] = value[0]\n",
    "                data_dict[prep + '.l'] = value[1]\n",
    "        return data_dict\n",
    "    \n",
    "    def format_dvec(self, data):\n",
    "        data_dict = self.format_data_dict(data)\n",
    "        dvec = np.array([data_dict[key] for key in self.fiducial_pairs.keys()])\n",
    "    \n",
    "    def _make_pygsti_circuits(self, gate_label):\n",
    "        # create a list of circuits\n",
    "        circuits = {}\n",
    "        for prep in ['0', '1', '+', '-', 'r', 'l']:\n",
    "            for meas in ['0', '+', 'r']:\n",
    "                prep_gates = prep_name_to_gates(prep)\n",
    "                meas_gates = meas_name_to_gates(meas)\n",
    "                key = prep + '.' + meas\n",
    "                circuits[key] = Circuit(prep_gates + ['Gu'] + meas_gates)\n",
    "        return circuits\n",
    "    \n",
    "    def get_pygsti_model(self, gate_label, gate_pmat, gate_pmat_basis='std'):\n",
    "        # create a pygsti model\n",
    "        model = pygsti.models.ExplicitOpModel([self.qid],'std')\n",
    "        # add the gate\n",
    "        model.operations[f'G{gate_label}'] = StaticArbitraryOp(gate_pmat, 'std', 'densitymx')\n",
    "        # add X and Y pi/2 rotations\n",
    "        Xpi2 = expm(-1j*np.pi/4*PauliMatrix(1))\n",
    "        Ypi2 = expm(-1j*np.pi/4*PauliMatrix(2))\n",
    "        model.operations['Gx'] = StaticArbitraryOp(create_from_unitary_mx(Xpi2, 'static', 'std').to_dense(), 'std', 'densitymx')\n",
    "        model.operations['Gy'] = StaticArbitraryOp(create_from_unitary_mx(Ypi2, 'static', 'std').to_dense(), 'std', 'densitymx')\n",
    "        # add the SPAM\n",
    "        model['rho0'] = [1, 0, 0, 0]\n",
    "        model['Mdefault'] = UnconstrainedPOVM({'0': [1, 0, 0, 0], '1': [ 0, 1, 0, 0]}, evotype='densitymx')\n",
    "        return model\n"
   ]
  },
  {
   "cell_type": "code",
   "execution_count": 145,
   "metadata": {},
   "outputs": [
    {
     "data": {
      "text/plain": [
       "array([[ 0.5+0.j, -0.5-0.j, -0.5+0.j,  0.5+0.j],\n",
       "       [ 0.5+0.j,  0.5+0.j, -0.5+0.j, -0.5+0.j],\n",
       "       [ 0.5+0.j, -0.5-0.j,  0.5+0.j, -0.5-0.j],\n",
       "       [ 0.5+0.j,  0.5+0.j,  0.5+0.j,  0.5+0.j]])"
      ]
     },
     "execution_count": 145,
     "metadata": {},
     "output_type": "execute_result"
    }
   ],
   "source": [
    "create_from_unitary_mx(expm(-1j*np.pi/4*PauliMatrix(2)), 'static', 'std').to_dense()"
   ]
  },
  {
   "cell_type": "code",
   "execution_count": 146,
   "metadata": {},
   "outputs": [
    {
     "data": {
      "text/plain": [
       "(36, 16)"
      ]
     },
     "execution_count": 146,
     "metadata": {},
     "output_type": "execute_result"
    }
   ],
   "source": [
    "tomo = ProcessTomography1Q(0)\n",
    "tomo.design_matrix().shape"
   ]
  },
  {
   "cell_type": "code",
   "execution_count": 147,
   "metadata": {},
   "outputs": [],
   "source": [
    "def random_unitary():\n",
    "    phases = np.random.rand(3)*2*np.pi\n",
    "    U = expm(-(1j/2)*(phases[0]*PauliMatrix(1) + phases[1]*PauliMatrix(2) + phases[2]*PauliMatrix(3)))\n",
    "    return U\n",
    "\n",
    "U = random_unitary()\n",
    "Gu = create_from_unitary_mx(U, 'static', 'std')"
   ]
  },
  {
   "cell_type": "code",
   "execution_count": 148,
   "metadata": {},
   "outputs": [],
   "source": [
    "model = tomo.get_pygsti_model('u', Gu.to_dense())"
   ]
  },
  {
   "cell_type": "code",
   "execution_count": 149,
   "metadata": {},
   "outputs": [
    {
     "data": {
      "text/plain": [
       "array([[ 0.77998305+0.j        , -0.3267961 +0.25458555j,\n",
       "        -0.3267961 -0.25458555j,  0.22001695+0.j        ],\n",
       "       [ 0.39095054+0.13699331j,  0.73920499-0.24889663j,\n",
       "        -0.1190854 -0.18500305j, -0.39095054-0.13699331j],\n",
       "       [ 0.39095054-0.13699331j, -0.1190854 +0.18500305j,\n",
       "         0.73920499+0.24889663j, -0.39095054+0.13699331j],\n",
       "       [ 0.22001695+0.j        ,  0.3267961 -0.25458555j,\n",
       "         0.3267961 +0.25458555j,  0.77998305+0.j        ]])"
      ]
     },
     "execution_count": 149,
     "metadata": {},
     "output_type": "execute_result"
    }
   ],
   "source": [
    "Gu.to_dense()"
   ]
  },
  {
   "cell_type": "code",
   "execution_count": 150,
   "metadata": {},
   "outputs": [
    {
     "data": {
      "text/plain": [
       "array([[ 0.77998305+0.j        , -0.3267961 +0.25458555j,\n",
       "        -0.3267961 -0.25458555j,  0.22001695+0.j        ],\n",
       "       [ 0.39095054+0.13699331j,  0.73920499-0.24889663j,\n",
       "        -0.1190854 -0.18500305j, -0.39095054-0.13699331j],\n",
       "       [ 0.39095054-0.13699331j, -0.1190854 +0.18500305j,\n",
       "         0.73920499+0.24889663j, -0.39095054+0.13699331j],\n",
       "       [ 0.22001695+0.j        ,  0.3267961 -0.25458555j,\n",
       "         0.3267961 +0.25458555j,  0.77998305+0.j        ]])"
      ]
     },
     "execution_count": 150,
     "metadata": {},
     "output_type": "execute_result"
    }
   ],
   "source": [
    "model['Gu'].to_dense()"
   ]
  },
  {
   "cell_type": "code",
   "execution_count": 151,
   "metadata": {},
   "outputs": [],
   "source": [
    "def simulate_edesign(model, edesign, num_shots):\n",
    "    emperical_data = {}\n",
    "    for lbl, circ in edesign.items():\n",
    "        probs = model.probabilities(circ)\n",
    "        p0 = probs['0']\n",
    "        p1 = probs['1']\n",
    "        pvec = np.array([p0, p1])\n",
    "        pvec = np.clip(pvec, 0, 1)\n",
    "        emperical_data[lbl] = np.random.multinomial(num_shots, pvec)/num_shots\n",
    "    return emperical_data\n"
   ]
  },
  {
   "cell_type": "code",
   "execution_count": 152,
   "metadata": {},
   "outputs": [],
   "source": [
    "edesign = tomo.edesign_pygsti"
   ]
  },
  {
   "cell_type": "code",
   "execution_count": 153,
   "metadata": {},
   "outputs": [
    {
     "data": {
      "text/plain": [
       "{'0.0': Circuit(Gu),\n",
       " '0.+': Circuit(GuGyGyGy),\n",
       " '0.r': Circuit(GuGx),\n",
       " '1.0': Circuit(GxGu),\n",
       " '1.+': Circuit(GxGuGyGyGy),\n",
       " '1.r': Circuit(GxGuGx),\n",
       " '+.0': Circuit(GyGu),\n",
       " '+.+': Circuit(GyGuGyGyGy),\n",
       " '+.r': Circuit(GyGuGx),\n",
       " '-.0': Circuit(GyGyGyGu),\n",
       " '-.+': Circuit(GyGyGyGuGyGyGy),\n",
       " '-.r': Circuit(GyGyGyGuGx),\n",
       " 'r.0': Circuit(GxGxGxGu),\n",
       " 'r.+': Circuit(GxGxGxGuGyGyGy),\n",
       " 'r.r': Circuit(GxGxGxGuGx),\n",
       " 'l.0': Circuit(GxGu),\n",
       " 'l.+': Circuit(GxGuGyGyGy),\n",
       " 'l.r': Circuit(GxGuGx)}"
      ]
     },
     "execution_count": 153,
     "metadata": {},
     "output_type": "execute_result"
    }
   ],
   "source": [
    "edesign"
   ]
  },
  {
   "cell_type": "code",
   "execution_count": 154,
   "metadata": {},
   "outputs": [
    {
     "name": "stderr",
     "output_type": "stream",
     "text": [
      "/home/jpmarceaux/anaconda3/envs/ErrorGenerators/lib/python3.10/site-packages/pygsti/forwardsims/matrixforwardsim.py:746: ComplexWarning: Casting complex values to real discards the imaginary part\n",
      "  prodCache[iDest] = gate / nG\n"
     ]
    }
   ],
   "source": [
    "data = simulate_edesign(model, edesign, 1000)"
   ]
  },
  {
   "cell_type": "code",
   "execution_count": 155,
   "metadata": {},
   "outputs": [
    {
     "data": {
      "text/plain": [
       "{'0.0': array([0.779, 0.221]),\n",
       " '0.+': array([0.878, 0.122]),\n",
       " '0.r': array([0.508, 0.492]),\n",
       " '1.0': array([0.519, 0.481]),\n",
       " '1.+': array([0.496, 0.504]),\n",
       " '1.r': array([0.505, 0.495]),\n",
       " '+.0': array([0.159, 0.841]),\n",
       " '+.+': array([0.815, 0.185]),\n",
       " '+.r': array([0.519, 0.481]),\n",
       " '-.0': array([0.838, 0.162]),\n",
       " '-.+': array([0.21, 0.79]),\n",
       " '-.r': array([0.489, 0.511]),\n",
       " 'r.0': array([0.513, 0.487]),\n",
       " 'r.+': array([0.501, 0.499]),\n",
       " 'r.r': array([0.496, 0.504]),\n",
       " 'l.0': array([0.505, 0.495]),\n",
       " 'l.+': array([0.51, 0.49]),\n",
       " 'l.r': array([0.477, 0.523])}"
      ]
     },
     "execution_count": 155,
     "metadata": {},
     "output_type": "execute_result"
    }
   ],
   "source": [
    "data"
   ]
  },
  {
   "cell_type": "code",
   "execution_count": 156,
   "metadata": {},
   "outputs": [],
   "source": [
    "formatted_data = tomo.format_data_dict(data)"
   ]
  },
  {
   "cell_type": "code",
   "execution_count": 157,
   "metadata": {},
   "outputs": [
    {
     "data": {
      "text/plain": [
       "{'0.0': 0.779,\n",
       " '0.1': 0.221,\n",
       " '0.+': 0.878,\n",
       " '0.-': 0.122,\n",
       " '0.r': 0.508,\n",
       " '0.l': 0.492,\n",
       " '1.0': 0.519,\n",
       " '1.1': 0.481,\n",
       " '1.+': 0.496,\n",
       " '1.-': 0.504,\n",
       " '1.r': 0.505,\n",
       " '1.l': 0.495,\n",
       " '+.0': 0.159,\n",
       " '+.1': 0.841,\n",
       " '+.+': 0.815,\n",
       " '+.-': 0.185,\n",
       " '+.r': 0.519,\n",
       " '+.l': 0.481,\n",
       " '-.0': 0.838,\n",
       " '-.1': 0.162,\n",
       " '-.+': 0.21,\n",
       " '-.-': 0.79,\n",
       " '-.r': 0.489,\n",
       " '-.l': 0.511,\n",
       " 'r.0': 0.513,\n",
       " 'r.1': 0.487,\n",
       " 'r.+': 0.501,\n",
       " 'r.-': 0.499,\n",
       " 'r.r': 0.496,\n",
       " 'r.l': 0.504,\n",
       " 'l.0': 0.505,\n",
       " 'l.1': 0.495,\n",
       " 'l.+': 0.51,\n",
       " 'l.-': 0.49,\n",
       " 'l.r': 0.477,\n",
       " 'l.l': 0.523}"
      ]
     },
     "execution_count": 157,
     "metadata": {},
     "output_type": "execute_result"
    }
   ],
   "source": [
    "formatted_data"
   ]
  },
  {
   "cell_type": "code",
   "execution_count": null,
   "metadata": {},
   "outputs": [],
   "source": []
  },
  {
   "cell_type": "code",
   "execution_count": null,
   "metadata": {},
   "outputs": [],
   "source": []
  }
 ],
 "metadata": {
  "kernelspec": {
   "display_name": "ErrorGenerators",
   "language": "python",
   "name": "python3"
  },
  "language_info": {
   "codemirror_mode": {
    "name": "ipython",
    "version": 3
   },
   "file_extension": ".py",
   "mimetype": "text/x-python",
   "name": "python",
   "nbconvert_exporter": "python",
   "pygments_lexer": "ipython3",
   "version": "3.10.11"
  }
 },
 "nbformat": 4,
 "nbformat_minor": 2
}
