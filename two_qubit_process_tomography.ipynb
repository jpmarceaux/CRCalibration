{
 "cells": [
  {
   "cell_type": "code",
   "execution_count": 513,
   "metadata": {},
   "outputs": [],
   "source": [
    "import pygsti\n",
    "from pygsti.circuits import Circuit\n",
    "import numpy as np\n",
    "from scipy.linalg import expm, sqrtm\n",
    "# import ordered dict\n",
    "from collections import OrderedDict\n",
    "from matplotlib import pyplot as plt\n",
    "import itertools\n",
    "\n",
    "from pygsti.modelmembers.operations import create_from_unitary_mx\n",
    "from scipy.linalg import expm, logm\n",
    "from pygsti.tools.jamiolkowski import jamiolkowski_iso\n",
    "from pygsti.tools.basistools import change_basis\n",
    "from pygsti.models import modelconstruction as _mc\n",
    "import pygsti.modelmembers as _mm\n",
    "from pygsti.modelmembers.operations import StaticArbitraryOp\n",
    "from pygsti.processors import QubitProcessorSpec\n"
   ]
  },
  {
   "cell_type": "code",
   "execution_count": 514,
   "metadata": {},
   "outputs": [],
   "source": [
    "def PauliMatrix(i):\n",
    "    if i == 0:\n",
    "        return np.array([[1, 0], [0, 1]])\n",
    "    elif i == 1:\n",
    "        return np.array([[0, 1], [1, 0]])\n",
    "    elif i == 2:\n",
    "        return np.array([[0, -1j], [1j, 0]])\n",
    "    elif i == 3:\n",
    "        return np.array([[1, 0], [0, -1]])\n",
    "    else:\n",
    "        raise ValueError(\"i must be 0, 1, 2, or 3.\")\n",
    "\n",
    "def PauliTensor(i, j):\n",
    "    return np.kron(PauliMatrix(i), PauliMatrix(j))\n",
    "\n",
    "single_qubit_projectors = {\n",
    "    '0' : (np.eye(2) + PauliMatrix(3))/2,\n",
    "    '1' : (np.eye(2) - PauliMatrix(3))/2,\n",
    "    '+' : (np.eye(2) + PauliMatrix(1))/2, \n",
    "    '-' : (np.eye(2) - PauliMatrix(1))/2,\n",
    "    'r' : (np.eye(2) + PauliMatrix(2))/2,\n",
    "    'l' : (np.eye(2) - PauliMatrix(2))/2\n",
    "}\n",
    "\n",
    "single_qubit_meas_projector_dict = {\n",
    "    'X' : [single_qubit_projectors['+'], single_qubit_projectors['-']],\n",
    "    'Y' : [single_qubit_projectors['r'], single_qubit_projectors['l']],\n",
    "    'Z' : [single_qubit_projectors['0'], single_qubit_projectors['1']]\n",
    "}\n",
    "\n",
    "# def prep1q_name_to_gates(prep_name):\n",
    "#     if prep_name == '0':\n",
    "#         return []\n",
    "#     elif prep_name == '1':\n",
    "#         return ['Gx']*2\n",
    "#     elif prep_name == '+':\n",
    "#         return ['Gy']\n",
    "#     elif prep_name == '-':\n",
    "#         return ['Gy']*3\n",
    "#     elif prep_name == 'r':\n",
    "#         return ['Gx']*3\n",
    "#     elif prep_name == 'l':\n",
    "#         return ['Gx']\n",
    "#     else:\n",
    "#         raise ValueError(\"prep_name must be 0, 1, +, -, r, or l.\")\n",
    "\n",
    "# def meas1q_name_to_gates(meas_name):\n",
    "#     if meas_name == '0':\n",
    "#         return []\n",
    "#     elif meas_name == '+':\n",
    "#         return ['Gy']*3\n",
    "#     elif meas_name == 'r':\n",
    "#         return ['Gx']\n",
    "#     else:\n",
    "#         raise ValueError(\"meas_name must be 0, +, or r.\")"
   ]
  },
  {
   "cell_type": "code",
   "execution_count": 515,
   "metadata": {},
   "outputs": [],
   "source": [
    "# def compile_pygsti_circ_from_prep_string(prep_string, qubit_labels):\n",
    "#     num_qubits = 1\n",
    "#     prep_circ = Circuit(num_qubits)\n",
    "#     for i in range(num_qubits):\n",
    "#         prep_circ.append((prep1q_name_to_gates(prep_string[i]), qubit_labels[i]))\n",
    "#     return prep_circ\n",
    "\n",
    "# def compile_pygsti_circ_from_meas_string(prep_string, qubit_labels):\n",
    "#     num_qubits = 1\n",
    "#     meas_circ = Circuit(num_qubits)\n",
    "#     for i in range(num_qubits):\n",
    "#         meas_circ.append((meas1q_name_to_gates(prep_string[i]), qubit_labels[i]))\n",
    "#     return meas_circ\n",
    "    \n"
   ]
  },
  {
   "cell_type": "code",
   "execution_count": 516,
   "metadata": {},
   "outputs": [],
   "source": [
    "def generate_all_bit_strings(n):\n",
    "    if n <= 0:\n",
    "        return []\n",
    "\n",
    "    result = ['']\n",
    "    for _ in range(n):\n",
    "        result = [bit_string + bit for bit_string in result for bit in ['0', '1']]\n",
    "\n",
    "    return result"
   ]
  },
  {
   "cell_type": "code",
   "execution_count": 517,
   "metadata": {},
   "outputs": [],
   "source": [
    "class ProcessTomographyExperiment:\n",
    "    def __init__(self, qids, process_name='u'):\n",
    "        self.process_name = process_name\n",
    "        self.num_qubits = len(qids)\n",
    "        self.qids = qids\n",
    "        self.fiducial_dict = self._create_fiducial_dict(self.num_qubits)\n",
    "        self.edesign_pygsti = self._make_pygsti_circuits(self.process_name)\n",
    "        self.design_vecs = self._design_vecs()\n",
    "        self.design_matrix = self._design_matrix()\n",
    "\n",
    "    def _create_fiducial_pairs(self, num_qubits):\n",
    "        all_fiducials = OrderedDict()\n",
    "        all_1q_projector_labels = ['0', '1', '+', '-', 'r', 'l']\n",
    "        # num_qubit-fold cartesian product of all_1q_projector_labels\n",
    "        all_projector_labels = list(itertools.product(all_1q_projector_labels, repeat=num_qubits))\n",
    "        for prep_fiducial in all_projector_labels:\n",
    "            for meas_fiducial in all_projector_labels:\n",
    "                prep_fid = 1\n",
    "                meas_fid = 1\n",
    "                for i in range(num_qubits):\n",
    "                    prep_fid = np.kron(prep_fid, single_qubit_projectors[prep_fiducial[i]])\n",
    "                    meas_fid = np.kron(meas_fid, single_qubit_projectors[meas_fiducial[i]])\n",
    "                all_fiducials[''.join(prep_fiducial)+'.'+''.join(meas_fiducial)] = np.kron(prep_fid.T, meas_fid)\n",
    "        return all_fiducials\n",
    "    \n",
    "    def _create_fiducial_dict(self, num_qubits):\n",
    "        all_fiducials = {}\n",
    "        all_1q_projector_labels = ['0', '1', '+', '-', 'r', 'l']\n",
    "        all_1q_meas_labels = ['X', 'Y', 'Z']\n",
    "        # prep: num_qubit-fold cartesian product of all_1q_projector_labels\n",
    "        # meas: labelled by the projection operator of the measurement\n",
    "        all_projector_labels = list(itertools.product(all_1q_projector_labels, repeat=num_qubits))\n",
    "        all_meas_labels = list(itertools.product(all_1q_meas_labels, repeat=num_qubits))\n",
    "        for prep_fiducial in all_projector_labels:\n",
    "            all_fiducials[''.join(prep_fiducial)] = {}\n",
    "            prep_fid = 1\n",
    "            for i in range(num_qubits):\n",
    "                prep_fid = np.kron(prep_fid, single_qubit_projectors[prep_fiducial[i]])\n",
    "            for meas_fiducial in all_meas_labels:\n",
    "                meas_fids = [1]*(2**num_qubits)\n",
    "                for idx, bits in enumerate(generate_all_bit_strings(num_qubits)):\n",
    "                    for id_b, b in enumerate(bits):\n",
    "                        if b == '0':\n",
    "                            meas_fids[idx] = np.kron(meas_fids[idx], single_qubit_meas_projector_dict[meas_fiducial[id_b]][0])\n",
    "                        elif b == '1':\n",
    "                            meas_fids[idx] = np.kron(meas_fids[idx], single_qubit_meas_projector_dict[meas_fiducial[id_b]][1])\n",
    "                all_fiducials[''.join(prep_fiducial)][''.join(meas_fiducial)] = [2**num_qubits*np.kron(prep_fid, meas_fid) for meas_fid in meas_fids]\n",
    "        return all_fiducials\n",
    "    \n",
    "    \n",
    "    def prep1q_name_to_gates(self, prep_name, qid):\n",
    "        if prep_name == '0':\n",
    "            return Circuit()\n",
    "        elif prep_name == '1':\n",
    "            return Circuit([('Gxpi2', qid)])*2\n",
    "        elif prep_name == '+':\n",
    "            return Circuit([('Gypi2', qid)])\n",
    "        elif prep_name == '-':\n",
    "            return Circuit([('Gypi2', qid)])*3\n",
    "        elif prep_name == 'r':\n",
    "            return Circuit([('Gxpi2', qid)])*3\n",
    "        elif prep_name == 'l':\n",
    "            return Circuit([('Gxpi2', qid)])\n",
    "        else:\n",
    "            raise ValueError(\"prep_name must be 0, 1, +, -, r, or l.\")\n",
    "        \n",
    "    \n",
    "        \n",
    "    def meas1q_name_to_gates(self, meas_name, qid):\n",
    "        if meas_name == 'Z':\n",
    "            return Circuit()\n",
    "        elif meas_name == 'X':\n",
    "            return Circuit([('Gypi2', qid)])*3\n",
    "        elif meas_name == 'Y':\n",
    "            return Circuit([('Gxpi2', qid)])\n",
    "        else:\n",
    "            raise ValueError(\"meas_name must be 0, +, or r.\")\n",
    "\n",
    "    def _design_vecs(self):\n",
    "        vecs = OrderedDict()\n",
    "        for prep_lbl in self.fiducial_dict.keys():\n",
    "            for meas_lbl in self.fiducial_dict[prep_lbl].keys():\n",
    "                for idx, bits in enumerate(generate_all_bit_strings(self.num_qubits)):\n",
    "                    vecs[prep_lbl+'.'+meas_lbl+'.'+bits] = self.fiducial_dict[prep_lbl][meas_lbl][idx].flatten()\n",
    "        return vecs\n",
    "    \n",
    "    def _design_matrix(self):\n",
    "        return np.array([self.design_vecs[key] for key in self.design_vecs.keys()])\n",
    "    \n",
    "    def format_data_dict(self, data):\n",
    "        formatted_data = {}\n",
    "        for prep_obs in data.keys():\n",
    "            for idx, bits in enumerate(generate_all_bit_strings(self.num_qubits)):\n",
    "                formatted_data[prep_obs+'.'+bits] = data[prep_obs][idx]\n",
    "        return formatted_data\n",
    "    \n",
    "    def format_dvec(self, data):\n",
    "        formatted_data = self.format_data_dict(data)\n",
    "        dvec = np.array([formatted_data[key] for key in self.design_vecs.keys()])\n",
    "        return dvec\n",
    "    \n",
    "    def compile_pygsti_circ_from_prep_string(self, prep_string):\n",
    "        prep_circ = Circuit(line_labels=self.qids)\n",
    "        for i in range(self.num_qubits):\n",
    "            c = self.prep1q_name_to_gates(prep_string[i], self.qids[i])\n",
    "            prep_circ += self.prep1q_name_to_gates(prep_string[i], self.qids[i])\n",
    "        return prep_circ\n",
    "    \n",
    "    def compile_pygsti_circ_from_meas_string(self, meas_string):\n",
    "        meas_circ = Circuit(line_labels=self.qids)\n",
    "        for i in range(self.num_qubits):\n",
    "            meas_circ += self.meas1q_name_to_gates(meas_string[i], self.qids[i])\n",
    "        return meas_circ\n",
    "    \n",
    "    def _make_pygsti_circuits(self, gate_label):\n",
    "        # create a list of circuits\n",
    "        circuits = {} \n",
    "        for prep in itertools.product(['0', '1', '+', '-', 'r', 'l'], repeat=self.num_qubits):\n",
    "            for meas in itertools.product(['X', 'Y', 'Z'], repeat=self.num_qubits):\n",
    "                prep_gates = self.compile_pygsti_circ_from_prep_string(prep)\n",
    "                meas_gates = self.compile_pygsti_circ_from_meas_string(meas)\n",
    "                key = ''.join(prep) + '.' + ''.join(meas)\n",
    "                circuits[key] = Circuit(prep_gates + Circuit([['Gu', *self.qids]], line_labels=self.qids) + meas_gates)\n",
    "        return circuits\n",
    "    \n",
    "    def get_target_model(self, gate_label, gate_unitary):\n",
    "        pspec = pygsti.processors.QubitProcessorSpec(num_qubits=self.num_qubits, \n",
    "                                 gate_names=['Gi', 'Gxpi2', 'Gypi2', f'G{gate_label}'],\n",
    "                                 nonstd_gate_unitaries={f'G{gate_label}': gate_unitary},\n",
    "                                 availability={'Gi': [(q, ) for q in self.qids], \n",
    "                                               f'G{gate_label}': [self.qids]},\n",
    "                                 qubit_labels=self.qids)\n",
    "        model =  _mc.create_explicit_model(pspec)\n",
    "        return model\n",
    "    \n",
    "    def prediction_from_choi(self, choi):\n",
    "        dmat = self.design_matrix()\n",
    "        return dmat@choi.flatten()"
   ]
  },
  {
   "cell_type": "code",
   "execution_count": 518,
   "metadata": {},
   "outputs": [],
   "source": [
    "def vector_from_outcomes(outcomes, num_outcomes):\n",
    "    \"\"\"\n",
    "    returns a vector from pygsti probability outcomes\n",
    "    \n",
    "    --- Arguments ---\n",
    "    outcomes: dictionary returned by pygsti.model.probabilities \n",
    "    num_outcomes: dimension of the output hilbert space\n",
    "    \"\"\"\n",
    "    vecout = np.zeros((num_outcomes))\n",
    "    for key in outcomes.keys():\n",
    "        vecout[int(key[0], 2)] = outcomes[key]\n",
    "    return(vecout)\n",
    "\n",
    "def simulate_edesign(model, edesign, num_shots, num_qubits):\n",
    "    emperical_data = {}\n",
    "    for lbl, circ in edesign.items():\n",
    "        probs = model.probabilities(circ)\n",
    "        pvec = vector_from_outcomes(probs, 2**num_qubits)\n",
    "        pvec = np.clip(pvec, 0, 1)\n",
    "        emperical_data[lbl] = np.random.multinomial(num_shots, pvec)/num_shots\n",
    "    return emperical_data\n",
    "\n",
    "def edesign_probabilities(choi, design_vecs):\n",
    "    probs = {}\n",
    "    choi_vec = choi.flatten()\n",
    "    for lbl, vec in design_vecs.items():\n",
    "        probs[lbl] = vec@choi_vec\n",
    "    return probs"
   ]
  },
  {
   "cell_type": "code",
   "execution_count": 519,
   "metadata": {},
   "outputs": [],
   "source": [
    "def random_unitary():\n",
    "    phases = np.random.rand(3)*2*np.pi\n",
    "    U = expm(-(1j/2)*(phases[0]*PauliMatrix(1) + phases[1]*PauliMatrix(2) + phases[2]*PauliMatrix(3)))\n",
    "    return U\n",
    "\n"
   ]
  },
  {
   "cell_type": "code",
   "execution_count": 520,
   "metadata": {},
   "outputs": [],
   "source": [
    "def trace_distance(A, B):\n",
    "    return 0.5*np.trace(sqrtm(np.conj(A-B).T@(A-B)))"
   ]
  },
  {
   "cell_type": "code",
   "execution_count": 521,
   "metadata": {},
   "outputs": [],
   "source": [
    "U = np.kron(np.eye(2), expm(-(1j/4)*np.pi*PauliMatrix(1)))\n",
    "#Gu = create_from_unitary_mx(U, 'static', 'std').to_dense()\n",
    "\n",
    "tomo = ProcessTomographyExperiment(['Q1', 'Q2'])\n",
    "\n",
    "model = tomo.get_target_model('u', U)\n",
    "edesign = tomo._make_pygsti_circuits('u')"
   ]
  },
  {
   "cell_type": "code",
   "execution_count": 522,
   "metadata": {},
   "outputs": [
    {
     "name": "stdout",
     "output_type": "stream",
     "text": [
      "rho0 = Computational Z-basis state vec for 2 qubits w/z-values: [0 0]\n",
      "\n",
      "Mdefault = Computational(Z)-basis POVM on 2 qubits and filter None\n",
      "\n",
      "\n",
      "Gi:Q1 = \n",
      "StaticUnitaryOp with shape (4, 4)\n",
      " 1.00   0   0   0\n",
      "   0 1.00   0   0\n",
      "   0   0 1.00   0\n",
      "   0   0   0 1.00\n",
      "\n",
      "\n",
      "Gi:Q2 = \n",
      "StaticUnitaryOp with shape (4, 4)\n",
      " 1.00   0   0   0\n",
      "   0 1.00   0   0\n",
      "   0   0 1.00   0\n",
      "   0   0   0 1.00\n",
      "\n",
      "\n",
      "Gxpi2:Q1 = \n",
      "StaticUnitaryOp with shape (4, 4)\n",
      " 0.71  +0j   0  +0j   0-0.71j   0  +0j\n",
      "   0  +0j 0.71  +0j   0  +0j   0-0.71j\n",
      "   0-0.71j   0  +0j 0.71  +0j   0  +0j\n",
      "   0  +0j   0-0.71j   0  +0j 0.71  +0j\n",
      "\n",
      "\n",
      "Gxpi2:Q2 = \n",
      "StaticUnitaryOp with shape (4, 4)\n",
      " 0.71  +0j   0-0.71j   0  +0j   0  +0j\n",
      "   0-0.71j 0.71  +0j   0  +0j   0  +0j\n",
      "   0  +0j   0  +0j 0.71  +0j   0-0.71j\n",
      "   0  +0j   0  +0j   0-0.71j 0.71  +0j\n",
      "\n",
      "\n",
      "Gypi2:Q1 = \n",
      "StaticUnitaryOp with shape (4, 4)\n",
      " 0.71   0-0.71   0\n",
      "   0 0.71   0-0.71\n",
      " 0.71   0 0.71   0\n",
      "   0 0.71   0 0.71\n",
      "\n",
      "\n",
      "Gypi2:Q2 = \n",
      "StaticUnitaryOp with shape (4, 4)\n",
      " 0.71-0.71   0   0\n",
      " 0.71 0.71   0   0\n",
      "   0   0 0.71-0.71\n",
      "   0   0 0.71 0.71\n",
      "\n",
      "\n",
      "Gu:Q1:Q2 = \n",
      "StaticUnitaryOp with shape (4, 4)\n",
      " 0.71  +0j   0-0.71j   0  +0j   0  +0j\n",
      "   0-0.71j 0.71  +0j   0  +0j   0  +0j\n",
      "   0  +0j   0  +0j 0.71  +0j   0-0.71j\n",
      "   0  +0j   0  +0j   0-0.71j 0.71  +0j\n",
      "\n",
      "\n",
      "\n",
      "\n"
     ]
    }
   ],
   "source": [
    "print(model)"
   ]
  },
  {
   "cell_type": "code",
   "execution_count": 523,
   "metadata": {},
   "outputs": [],
   "source": [
    "data = simulate_edesign(model, edesign, 1000000000, 2)\n"
   ]
  },
  {
   "cell_type": "code",
   "execution_count": 524,
   "metadata": {},
   "outputs": [],
   "source": [
    "formatted_data = tomo.format_data_dict(data)\n",
    "dvec = tomo.format_dvec(data)"
   ]
  },
  {
   "cell_type": "code",
   "execution_count": 525,
   "metadata": {},
   "outputs": [],
   "source": [
    "dmat = tomo.design_matrix\n",
    "dmat_inv = np.linalg.inv(np.conj(dmat).T@dmat)@np.conj(dmat).T\n",
    "choi_est = (dmat_inv@dvec).reshape(16, 16)\n",
    "Gu = model.operations[('Gu', 'Q1', 'Q2')].to_dense()\n",
    "Gu_std = change_basis(Gu, 'pp', 'std')\n",
    "choi_true = jamiolkowski_iso(Gu_std, 'std', 'std')"
   ]
  },
  {
   "cell_type": "code",
   "execution_count": 526,
   "metadata": {},
   "outputs": [
    {
     "data": {
      "text/plain": [
       "(1.000058814997064745+9.638250025062993829e-12j)"
      ]
     },
     "execution_count": 526,
     "metadata": {},
     "output_type": "execute_result"
    }
   ],
   "source": [
    "trace_distance(choi_true, choi_est)"
   ]
  },
  {
   "cell_type": "code",
   "execution_count": 527,
   "metadata": {},
   "outputs": [
    {
     "name": "stdout",
     "output_type": "stream",
     "text": [
      "0.12500264642708322\n"
     ]
    },
    {
     "data": {
      "image/png": "[encoded data removed]",
      "text/plain": [
       "<Figure size 480x480 with 1 Axes>"
      ]
     },
     "metadata": {},
     "output_type": "display_data"
    },
    {
     "data": {
      "image/png": "[encoded data removed]",
      "text/plain": [
       "<Figure size 480x480 with 1 Axes>"
      ]
     },
     "metadata": {},
     "output_type": "display_data"
    }
   ],
   "source": [
    "plt.matshow(choi_est.real)\n",
    "plt.matshow(choi_est.imag)\n",
    "print(np.amax(choi_est.imag))"
   ]
  },
  {
   "cell_type": "code",
   "execution_count": 528,
   "metadata": {},
   "outputs": [
    {
     "data": {
      "text/plain": [
       "(0.9999999999999996+0j)"
      ]
     },
     "execution_count": 528,
     "metadata": {},
     "output_type": "execute_result"
    }
   ],
   "source": [
    "np.trace(choi_est)"
   ]
  },
  {
   "cell_type": "code",
   "execution_count": 529,
   "metadata": {},
   "outputs": [
    {
     "data": {
      "text/plain": [
       "<matplotlib.image.AxesImage at 0x7f812f78c2b0>"
      ]
     },
     "execution_count": 529,
     "metadata": {},
     "output_type": "execute_result"
    },
    {
     "data": {
      "image/png": "[encoded data removed]",
      "text/plain": [
       "<Figure size 480x480 with 1 Axes>"
      ]
     },
     "metadata": {},
     "output_type": "display_data"
    },
    {
     "data": {
      "image/png": "[encoded data removed]",
      "text/plain": [
       "<Figure size 480x480 with 1 Axes>"
      ]
     },
     "metadata": {},
     "output_type": "display_data"
    }
   ],
   "source": [
    "plt.matshow(choi_true.real)\n",
    "plt.matshow(choi_true.imag)"
   ]
  },
  {
   "cell_type": "code",
   "execution_count": 530,
   "metadata": {},
   "outputs": [
    {
     "data": {
      "text/plain": [
       "(0.2500062481620371+0j)"
      ]
     },
     "execution_count": 530,
     "metadata": {},
     "output_type": "execute_result"
    }
   ],
   "source": [
    "choi_est.flatten()@tomo.design_vecs['00.XZ.00']"
   ]
  },
  {
   "cell_type": "code",
   "execution_count": 531,
   "metadata": {},
   "outputs": [
    {
     "data": {
      "text/plain": [
       "(0.25+0j)"
      ]
     },
     "execution_count": 531,
     "metadata": {},
     "output_type": "execute_result"
    }
   ],
   "source": [
    "choi_true.flatten()@tomo.design_vecs['00.XZ.00']"
   ]
  },
  {
   "cell_type": "code",
   "execution_count": 532,
   "metadata": {},
   "outputs": [
    {
     "data": {
      "text/plain": [
       "0.250001129"
      ]
     },
     "execution_count": 532,
     "metadata": {},
     "output_type": "execute_result"
    }
   ],
   "source": [
    "formatted_data['00.XZ.00']"
   ]
  },
  {
   "cell_type": "code",
   "execution_count": 533,
   "metadata": {},
   "outputs": [
    {
     "data": {
      "text/plain": [
       "array([2., 0., 2., 0., 0., 0., 0., 0., 0., 0., 0., 0., 0., 0., 0., 0., 0.,\n",
       "       0., 0., 0., 0., 0., 0., 0., 0., 0., 0., 0., 0., 0., 0., 0., 2., 0.,\n",
       "       2., 0., 0., 0., 0., 0., 0., 0., 0., 0., 0., 0., 0., 0., 0., 0., 0.,\n",
       "       0., 0., 0., 0., 0., 0., 0., 0., 0., 0., 0., 0., 0., 0., 0., 0., 0.,\n",
       "       0., 0., 0., 0., 0., 0., 0., 0., 0., 0., 0., 0., 0., 0., 0., 0., 0.,\n",
       "       0., 0., 0., 0., 0., 0., 0., 0., 0., 0., 0., 0., 0., 0., 0., 0., 0.,\n",
       "       0., 0., 0., 0., 0., 0., 0., 0., 0., 0., 0., 0., 0., 0., 0., 0., 0.,\n",
       "       0., 0., 0., 0., 0., 0., 0., 0., 0., 0., 0., 0., 0., 0., 0., 0., 0.,\n",
       "       0., 0., 0., 0., 0., 0., 0., 0., 0., 0., 0., 0., 0., 0., 0., 0., 0.,\n",
       "       0., 0., 0., 0., 0., 0., 0., 0., 0., 0., 0., 0., 0., 0., 0., 0., 0.,\n",
       "       0., 0., 0., 0., 0., 0., 0., 0., 0., 0., 0., 0., 0., 0., 0., 0., 0.,\n",
       "       0., 0., 0., 0., 0., 0., 0., 0., 0., 0., 0., 0., 0., 0., 0., 0., 0.,\n",
       "       0., 0., 0., 0., 0., 0., 0., 0., 0., 0., 0., 0., 0., 0., 0., 0., 0.,\n",
       "       0., 0., 0., 0., 0., 0., 0., 0., 0., 0., 0., 0., 0., 0., 0., 0., 0.,\n",
       "       0., 0., 0., 0., 0., 0., 0., 0., 0., 0., 0., 0., 0., 0., 0., 0., 0.,\n",
       "       0.])"
      ]
     },
     "execution_count": 533,
     "metadata": {},
     "output_type": "execute_result"
    }
   ],
   "source": [
    "tomo.design_vecs['00.XZ.00']"
   ]
  },
  {
   "cell_type": "code",
   "execution_count": 534,
   "metadata": {},
   "outputs": [],
   "source": [
    "E00 = np.kron(single_qubit_projectors['0'], single_qubit_projectors['0'])\n",
    "rho00 = np.kron(single_qubit_projectors['0'], single_qubit_projectors['0'])\n",
    "GxQ1 = model[(f'Gxpi2', 'Q1')].to_dense()"
   ]
  },
  {
   "cell_type": "code",
   "execution_count": 535,
   "metadata": {},
   "outputs": [
    {
     "data": {
      "text/plain": [
       "<matplotlib.image.AxesImage at 0x7f81652b5d20>"
      ]
     },
     "execution_count": 535,
     "metadata": {},
     "output_type": "execute_result"
    },
    {
     "data": {
      "image/png": "[encoded data removed]",
      "text/plain": [
       "<Figure size 480x480 with 1 Axes>"
      ]
     },
     "metadata": {},
     "output_type": "display_data"
    }
   ],
   "source": [
    "plt.matshow(GxQ1.real)  "
   ]
  },
  {
   "cell_type": "code",
   "execution_count": null,
   "metadata": {},
   "outputs": [],
   "source": []
  }
 ],
 "metadata": {
  "kernelspec": {
   "display_name": "ErrorGenerators",
   "language": "python",
   "name": "python3"
  },
  "language_info": {
   "codemirror_mode": {
    "name": "ipython",
    "version": 3
   },
   "file_extension": ".py",
   "mimetype": "text/x-python",
   "name": "python",
   "nbconvert_exporter": "python",
   "pygments_lexer": "ipython3",
   "version": "3.10.11"
  }
 },
 "nbformat": 4,
 "nbformat_minor": 2
}
