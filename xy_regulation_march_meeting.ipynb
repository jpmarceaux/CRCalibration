{
 "cells": [
  {
   "cell_type": "code",
   "execution_count": 1,
   "metadata": {},
   "outputs": [],
   "source": [
    "import numpy as np\n",
    "import matplotlib.pyplot as plt\n",
    "from importlib import reload\n",
    "from numpy.linalg import matrix_power\n",
    "from scipy.linalg import expm, expm_frechet\n",
    "import scipy"
   ]
  },
  {
   "cell_type": "code",
   "execution_count": 2,
   "metadata": {},
   "outputs": [],
   "source": [
    "def PauliMatrix(i):\n",
    "    if i == 0:\n",
    "        return np.array([[1, 0], [0, 1]])\n",
    "    elif i == 1:\n",
    "        return np.array([[0, 1], [1, 0]])\n",
    "    elif i == 2:\n",
    "        return np.array([[0, -1j], [1j, 0]])\n",
    "    elif i == 3:\n",
    "        return np.array([[1, 0], [0, -1]])\n",
    "    else:\n",
    "        raise ValueError(\"i must be 0, 1, 2, or 3.\")\n",
    "\n",
    "def PauliTensor(i, j):\n",
    "    return np.kron(PauliMatrix(i), PauliMatrix(j))"
   ]
  },
  {
   "cell_type": "markdown",
   "metadata": {},
   "source": [
    "Geometric model \n",
    "\n",
    "$$\n",
    "    X(x) = \\exp( - \\tfrac{i}{2} ( \\Delta \\sigma_Z + \\Omega \\sigma_X))\n",
    "$$\n",
    "\n",
    "$$\n",
    "    Y(x) = \\exp( - \\tfrac{i}{2} ( \\Delta \\sigma_Z + \\Omega (\\cos \\phi \\sigma_Y + \\sin \\phi \\sigma_X)) )\n",
    "$$\n",
    "\n",
    "$$\n",
    "    Z = \\exp( - \\tfrac{i}{2} ( (\\tfrac{\\pi}{2} + \\Delta) \\sigma_Z))\n",
    "$$"
   ]
  },
  {
   "cell_type": "code",
   "execution_count": 445,
   "metadata": {},
   "outputs": [],
   "source": [
    "def xgate_model(xstate):\n",
    "    \"\"\"\n",
    "    xstate = (Delta, Omega, phi)\n",
    "    \"\"\"\n",
    "    return expm(-(1j/2)*\n",
    "                (xstate[0]*PauliMatrix(3) + (xstate[1]+np.pi/2)*PauliMatrix(1))\n",
    "            )\n",
    "\n",
    "def ygate_model(xstate):\n",
    "    \"\"\"\n",
    "    xstate = (Delta, Omega, phi)\n",
    "    \"\"\"\n",
    "    return expm(-(1j/2)*\n",
    "                (xstate[0]*PauliMatrix(3) + (xstate[1]+np.pi/2)*(np.sin(xstate[2])*PauliMatrix(1) + np.cos(xstate[2])*PauliMatrix(2)))\n",
    "            )\n",
    "\n",
    "def zgate_model(xstate):\n",
    "    \"\"\"\n",
    "    xstate = (Delta, Omega, phi)\n",
    "    \"\"\"\n",
    "    return expm(-(1j/2)*\n",
    "                ((np.pi/2 + xstate[0])*PauliMatrix(3))\n",
    "            )\n",
    "\n",
    "def xgate_grad(xstate):\n",
    "    generator_at_x = -(1j/2)*(xstate[0]*PauliMatrix(3) + (xstate[1]+np.pi/2)*PauliMatrix(1))\n",
    "    dx0 = -(1j/2)*PauliMatrix(3)\n",
    "    dx1 = -(1j/2)*PauliMatrix(1)\n",
    "    dx2 = np.zeros((2, 2), dtype=complex)\n",
    "    grad_x0 = expm_frechet(generator_at_x, dx0, compute_expm=False)\n",
    "    grad_x1 = expm_frechet(generator_at_x, dx1, compute_expm=False)\n",
    "    grad_x2 = expm_frechet(generator_at_x, dx2, compute_expm=False)\n",
    "    return np.array([grad_x0, grad_x1, grad_x2])\n",
    "\n",
    "def ygate_grad(xstate):\n",
    "    generator_at_x = -(1j/2)*(xstate[0]*PauliMatrix(3) + (xstate[1]+np.pi/2)*(np.sin(xstate[2])*PauliMatrix(1) + np.cos(xstate[2])*PauliMatrix(2)))\n",
    "    dx0 = -(1j/2)*PauliMatrix(3)\n",
    "    dx1 = -(1j/2)*(np.sin(xstate[2])*PauliMatrix(1)+ np.cos(xstate[2])*PauliMatrix(2))\n",
    "    dx2 = -(1j/2)*(xstate[1]+np.pi/2)*(np.cos(xstate[2])*PauliMatrix(1) - np.sin(xstate[2])*PauliMatrix(2))\n",
    "    grad_x0 = expm_frechet(generator_at_x, dx0, compute_expm=False)\n",
    "    grad_x1 = expm_frechet(generator_at_x, dx1, compute_expm=False)\n",
    "    grad_x2 = expm_frechet(generator_at_x, dx2, compute_expm=False)\n",
    "    return np.array([grad_x0, grad_x1, grad_x2])\n",
    "\n",
    "def test_xgate_grad(epsilon=1e-8, num_random_samples=10):\n",
    "    \"\"\"Check that the gradient of the xgate is correct on 10 random samples.\"\"\"\n",
    "    x0_states = np.random.rand(num_random_samples, 3)\n",
    "    for x0 in x0_states:\n",
    "        dx0 = np.array([epsilon, 0, 0])\n",
    "        dx1 = np.array([0, epsilon, 0])\n",
    "        dx2 = np.array([0, 0, epsilon])\n",
    "        grad_x0 = (xgate_model(x0 + dx0) - xgate_model(x0 - dx0))/(2*epsilon)\n",
    "        grad_x1 = (xgate_model(x0 + dx1) - xgate_model(x0 - dx1))/(2*epsilon)\n",
    "        grad_x2 = (xgate_model(x0 + dx2) - xgate_model(x0 - dx2))/(2*epsilon)\n",
    "\n",
    "        assert np.allclose(grad_x0, (xgate_grad(x0)[0]))\n",
    "        assert np.allclose(grad_x1, (xgate_grad(x0)[1]))\n",
    "        assert np.allclose(grad_x2, (xgate_grad(x0)[2]))\n",
    "\n",
    "def test_ygate_grad(epsilon=1e-8, num_random_samples=10):\n",
    "    \"\"\"Check that the gradient of the ygate is correct on 10 random samples.\"\"\"\n",
    "    x0_states = np.random.rand(num_random_samples, 3)\n",
    "    for x0 in x0_states:\n",
    "        dx0 = np.array([epsilon, 0, 0])\n",
    "        dx1 = np.array([0, epsilon, 0])\n",
    "        dx2 = np.array([0, 0, epsilon])\n",
    "        grad_x0 = (ygate_model(x0 + dx0) - ygate_model(x0 - dx0))/(2*epsilon)\n",
    "        grad_x1 = (ygate_model(x0 + dx1) - ygate_model(x0 - dx1))/(2*epsilon)\n",
    "        grad_x2 = (ygate_model(x0 + dx2) - ygate_model(x0 - dx2))/(2*epsilon)\n",
    "\n",
    "        assert np.allclose(grad_x0, (ygate_grad(x0)[0]))\n",
    "        assert np.allclose(grad_x1, (ygate_grad(x0)[1]))\n",
    "        assert np.allclose(grad_x2, (ygate_grad(x0)[2]))"
   ]
  },
  {
   "cell_type": "code",
   "execution_count": 446,
   "metadata": {},
   "outputs": [
    {
     "ename": "AssertionError",
     "evalue": "",
     "output_type": "error",
     "traceback": [
      "\u001b[0;31m---------------------------------------------------------------------------\u001b[0m",
      "\u001b[0;31mAssertionError\u001b[0m                            Traceback (most recent call last)",
      "Cell \u001b[0;32mIn[446], line 2\u001b[0m\n\u001b[1;32m      1\u001b[0m test_xgate_grad()\n\u001b[0;32m----> 2\u001b[0m \u001b[43mtest_ygate_grad\u001b[49m\u001b[43m(\u001b[49m\u001b[43m)\u001b[49m\n",
      "Cell \u001b[0;32mIn[445], line 73\u001b[0m, in \u001b[0;36mtest_ygate_grad\u001b[0;34m(epsilon, num_random_samples)\u001b[0m\n\u001b[1;32m     71\u001b[0m \u001b[38;5;28;01massert\u001b[39;00m np\u001b[38;5;241m.\u001b[39mallclose(grad_x0, (ygate_grad(x0)[\u001b[38;5;241m0\u001b[39m]))\n\u001b[1;32m     72\u001b[0m \u001b[38;5;28;01massert\u001b[39;00m np\u001b[38;5;241m.\u001b[39mallclose(grad_x1, (ygate_grad(x0)[\u001b[38;5;241m1\u001b[39m]))\n\u001b[0;32m---> 73\u001b[0m \u001b[38;5;28;01massert\u001b[39;00m np\u001b[38;5;241m.\u001b[39mallclose(grad_x2, (ygate_grad(x0)[\u001b[38;5;241m2\u001b[39m]))\n",
      "\u001b[0;31mAssertionError\u001b[0m: "
     ]
    }
   ],
   "source": [
    "test_xgate_grad()\n",
    "test_ygate_grad()"
   ]
  },
  {
   "cell_type": "markdown",
   "metadata": {},
   "source": [
    "# circuit definition\n",
    "circuit = (germ, prep_sequence, meas_sequence)"
   ]
  },
  {
   "cell_type": "code",
   "execution_count": 463,
   "metadata": {},
   "outputs": [],
   "source": [
    "all_state_preps = ['', 'Y', 'YY', 'YYY', 'X', 'XXX']\n",
    "all_measurements = ['', 'Y', 'YY', 'YYY', 'X', 'XXX']\n",
    "germ_list = ['X', 'Y', 'XX', 'YY', 'XY', 'XXY', 'XYX', 'Z', 'ZZ', 'ZYZ', 'YZY', 'XZX', 'ZXXXXZZXXXXZ']"
   ]
  },
  {
   "cell_type": "code",
   "execution_count": 464,
   "metadata": {},
   "outputs": [],
   "source": [
    "def multiply_sequence(sequence, Xdef, Ydef, Zdef):\n",
    "    \"\"\"Multiply a sequence of X and Y gates together.\"\"\"\n",
    "    circ = np.eye(2)\n",
    "    for c in sequence:\n",
    "        if c == 'X':\n",
    "            circ = Xdef@circ\n",
    "        elif c == 'Y':\n",
    "            circ = Ydef@circ\n",
    "        elif c == 'Z':\n",
    "            circ = Zdef@circ\n",
    "        else:\n",
    "            raise ValueError(\"sequence must only contain 'X', 'Y' and 'Z' characters.\")\n",
    "    return circ\n",
    "\n",
    "def probability(xstate, d, circ_def):\n",
    "    # assume a convention where the gates go from left to right in the string\n",
    "    Xgate = xgate_model(xstate)\n",
    "    Ygate = ygate_model(xstate)\n",
    "    Zgate = zgate_model(xstate)\n",
    "    germ, prep, meas = circ_def\n",
    "    prep_unitary = multiply_sequence(prep, Xgate, Ygate, Zgate)\n",
    "    germ_unitary = multiply_sequence(germ, Xgate, Ygate, Zgate)\n",
    "    meas_unitary = multiply_sequence(meas, Xgate, Ygate, Zgate)\n",
    "    circ_unitary = meas_unitary@np.linalg.matrix_power(germ_unitary, d)@prep_unitary\n",
    "    prob = abs(circ_unitary[0, 0])**2\n",
    "    return prob\n",
    "\n",
    "# def unitary_grad_of_sequence(xstate, sequence, Xdef, Ydef, xgrad_def, ygrad_def):\n",
    "#     tot_unitary_grads = np.zeros((len(xstate), 2, 2), dtype=complex)\n",
    "#     for idx, c in enumerate(sequence):\n",
    "#         pre_subcirc = sequence[:idx]\n",
    "#         post_subcirc = sequence[idx+1:]\n",
    "#         pre_subcirc_unitary = multiply_sequence(pre_subcirc, Xdef, Ydef)\n",
    "#         post_subcirc_unitary = multiply_sequence(post_subcirc, Xdef, Ydef)\n",
    "#         if c == 'X':  \n",
    "#             for k in range(len(xstate)):\n",
    "#                 tot_unitary_grads[k] += post_subcirc_unitary@xgrad_def[k]@pre_subcirc_unitary\n",
    "#         elif c == 'Y':\n",
    "#             for k in range(len(xstate)):\n",
    "#                 tot_unitary_grads[k] += post_subcirc_unitary@ygrad_def[k]@pre_subcirc_unitary\n",
    "#         else:\n",
    "#             raise ValueError(\"sequence must only contain 'X' and 'Y' characters.\")\n",
    "#     return tot_unitary_grads\n",
    "\n",
    "# def probability_grad_of_sequence(xstate, sequence, Xdef, Ydef, xgrad_def, ygrad_def):\n",
    "#     U_grad = unitary_grad_of_sequence(xstate, sequence, Xdef, Ydef, xgrad_def, ygrad_def)\n",
    "#     U_tot = multiply_sequence(sequence, Xdef, Ydef)\n",
    "#     pgrad = np.conj(U_tot[0, 0])*U_grad[:, 0, 0] + U_tot[0, 0]*np.conj(U_grad[:, 0, 0])\n",
    "#     assert np.allclose(pgrad.imag, 0), f\"Imaginary part of probability gradient is not zero: {pgrad.imag}.\"\n",
    "#     return pgrad.real\n",
    "\n",
    "# def unitary_grad_of_germ(xstate, d, germ, Xdef, Ydef, xgrad_def, ygrad_def):\n",
    "#     U_germ = multiply_sequence(germ, Xdef, Ydef)\n",
    "#     total_unitary_grad = np.zeros((3, 2, 2), dtype=complex)\n",
    "#     germ_grad = unitary_grad_of_sequence(xstate, germ, Xdef, Ydef, xgrad_def, ygrad_def)\n",
    "#     for i in range(d):\n",
    "#         for k in range(len(xstate)):\n",
    "#             total_unitary_grad[k] += np.linalg.matrix_power(U_germ, i)@ germ_grad[k]@np.linalg.matrix_power(U_germ, d-i-1)\n",
    "#     return total_unitary_grad\n",
    "\n",
    "# def probability_grad_of_germ(xstate, d, germ, Xdef, Ydef, xgrad_def, ygrad_def):\n",
    "#     U_grad = unitary_grad_of_germ(xstate, d, germ, Xdef, Ydef, xgrad_def, ygrad_def)\n",
    "#     U_tot = multiply_sequence(germ*d, Xdef, Ydef)\n",
    "#     pgrad = np.conj(U_tot[0, 0])*U_grad[:, 0, 0] + U_tot[0, 0]*np.conj(U_grad[:, 0, 0])\n",
    "#     assert np.allclose(pgrad.imag, 0), f\"Imaginary part of probability gradient is not zero: {pgrad.imag}.\"\n",
    "#     return pgrad.real\n",
    "\n",
    "\n",
    "def probability_grad(xstate, d, circ_def, epsilon=1e-8):\n",
    "    # finite difference gradient\n",
    "    grad = np.zeros(3)\n",
    "    for i in range(3):\n",
    "        dx = np.zeros(3)\n",
    "        dx[i] = epsilon\n",
    "        prob_dx = probability(xstate + dx, d, circ_def)\n",
    "        prob_dxm = probability(xstate - dx, d, circ_def)\n",
    "        grad[i] = (prob_dx - prob_dxm)/(2*epsilon)\n",
    "    return grad\n",
    "\n",
    "\n",
    "    # assume a convention where the gates go from left to right in the string\n",
    "    # Xgate = xgate_model(xstate)\n",
    "    # Ygate = ygate_model(xstate)\n",
    "    # Xgrad = xgate_grad(xstate)\n",
    "    # Ygrad = ygate_grad(xstate)\n",
    "    # germ, prep, meas = circ_def\n",
    "\n",
    "    # # state prep and meas U grad and unitaries\n",
    "    # prep_grad = unitary_grad_of_sequence(xstate, prep, Xgate, Ygate, Xgrad, Ygrad)\n",
    "    # meas_grad = unitary_grad_of_sequence(xstate, meas, Xgate, Ygate, Xgrad, Ygrad)\n",
    "    # U_prep = multiply_sequence(prep, Xgate, Ygate)\n",
    "    # U_meas = multiply_sequence(meas, Xgate, Ygate)\n",
    "\n",
    "\n",
    "    # # germ U grad and unitary \n",
    "    # germ_grad = unitary_grad_of_germ(xstate, d, germ, Xgate, Ygate, Xgrad, Ygrad)\n",
    "    # U_germ = multiply_sequence(germ, Xgate, Ygate)\n",
    "\n",
    "    # # total U grad and unitary\n",
    "    # U_tot = U_meas@U_germ@U_prep\n",
    "    # tot_grad = (\n",
    "    #     U_meas@U_germ@prep_grad +\n",
    "    #     U_meas@germ_grad@U_prep +\n",
    "    #     meas_grad@U_germ@U_prep\n",
    "    # )\n",
    "\n",
    "    # pgrad = np.conj(U_tot[0, 0])*tot_grad[:, 0, 0] + U_tot[0, 0]*np.conj(tot_grad[:, 0, 0])\n",
    "    \n",
    "\n",
    "    # G = germ*d\n",
    "    # circ = prep + G + meas\n",
    "    # prob_unitary_grads = np.zeros((3, 2, 2), dtype=complex)\n",
    "    # U_tot = multiply_sequence(circ, Xgate, Ygate)\n",
    "    # for idx, c in enumerate(circ):\n",
    "    #     pre_subcirc = circ[:idx]\n",
    "    #     post_subcirc = circ[idx+1:]\n",
    "    #     pre_subcirc_unitary = multiply_sequence(pre_subcirc, Xgate, Ygate)\n",
    "    #     post_subcirc_unitary = multiply_sequence(post_subcirc, Xgate, Ygate)\n",
    "    #     if c == 'X':  \n",
    "    #         for k in range(3):\n",
    "    #             prob_unitary_grads[k] += post_subcirc_unitary@Xgrad[k]@pre_subcirc_unitary\n",
    "    #     elif c == 'Y':\n",
    "    #         for k in range(3):\n",
    "    #             prob_unitary_grads[k] += post_subcirc_unitary@Ygrad[k]@pre_subcirc_unitary\n",
    "    #     else:\n",
    "    #         raise ValueError(\"circuit string must only contain 'X' and 'Y' characters.\")\n",
    "    # U_tot = multiply_sequence(circ, Xgate, Ygate)\n",
    "    # pgrad = np.conj(U_tot[0, 0])*prob_unitary_grads[:, 0, 0] + U_tot[0, 0]*np.conj(prob_unitary_grads[:, 0, 0])\n",
    "    assert np.allclose(pgrad.imag, 0), f\"Imaginary part of probability gradient is not zero: {pgrad.imag}.\"\n",
    "    return pgrad.real\n",
    "\n",
    "def make_random_circ_def(length, prep_length=3, meas_length=3):\n",
    "    germ_part = ''.join(np.random.choice(germ_list, length))\n",
    "    prep_part = ''.join(np.random.choice(all_state_preps, prep_length))\n",
    "    meas_part = ''.join(np.random.choice(all_measurements, meas_length))\n",
    "    return (germ_part, prep_part, meas_part)\n",
    "\n",
    "def probability_grad_check(num_xstates=10, num_circuits=10, epsilon=1e-8, delta=1e-5):\n",
    "    \"\"\"Check that the gradient of the probability function is correct.\"\"\"\n",
    "    xstates = np.random.rand(num_xstates, 3)\n",
    "    for xstate in xstates:\n",
    "        for _ in range(num_circuits):\n",
    "            d = np.random.randint(1, 2)\n",
    "            circ_def = make_random_circ_def(np.random.randint(1, 10))\n",
    "            grad = probability_grad(xstate, d, circ_def)\n",
    "            dx0 = np.array([epsilon, 0, 0])\n",
    "            dx1 = np.array([0, epsilon, 0])\n",
    "            dx2 = np.array([0, 0, epsilon])\n",
    "            prob_dx0m = probability(xstate - dx0, d, circ_def)\n",
    "            prob_dx1m = probability(xstate - dx1, d, circ_def)\n",
    "            prob_dx2m = probability(xstate - dx2, d, circ_def)\n",
    "            prob_dx0 = probability(xstate + dx0, d, circ_def)\n",
    "            prob_dx1 = probability(xstate + dx1, d, circ_def)\n",
    "            prob_dx2 = probability(xstate + dx2, d, circ_def)\n",
    "            grad_dx0 = (prob_dx0 - prob_dx0m)/(2*epsilon)\n",
    "            grad_dx1 = (prob_dx1 - prob_dx1m)/(2*epsilon)\n",
    "            grad_dx2 = (prob_dx2 - prob_dx2m)/(2*epsilon)\n",
    "            assert np.allclose(grad, np.array([grad_dx0, grad_dx1, grad_dx2]), atol=delta), f\"Analytic grad {grad} does not match numerical grad {np.array([grad_dx0, grad_dx1, grad_dx2])} for xstate {xstate}, d {d}, and circ_def {circ_def}.\"\n",
    "probability_grad_check()"
   ]
  },
  {
   "cell_type": "markdown",
   "metadata": {},
   "source": [
    "Experiment design and fisher information\n",
    "\n",
    "Edesign is a dictionary { d : (germ, prep, meas) }\n",
    "\n",
    "Fisher information of an edesign is the fisher information of the circuits \n",
    "\n",
    "$$\n",
    "    [I(\\theta| \\mathcal{E})]_{i,j} = \\sum_{n} \\frac{1}{P(n|\\theta, \\mathcal{E})} \\left( \\frac{\\partial }{\\partial \\theta_i}P(n|\\theta, \\mathcal{E})  \\right) \\left( \\frac{\\partial }{\\partial \\theta_j}P(n|\\theta, \\mathcal{E})  \\right) \n",
    "$$\n",
    "\n",
    "I'll use the fisher information score\n",
    "\n",
    "$$\n",
    "    S(I) = \\log |I'| = \\sum_j \\log \\lambda'_j(I)\n",
    "$$\n",
    "after clipping the eigenvalues to the range $[\\epsilon, \\infty]$ for small $\\epsilon$. To score new circuits, I'll use\n",
    "$$\n",
    "    S(I_\\text{prior tot} + I_\\text{new}) - S(I_\\text{prior tot})\n",
    "$$"
   ]
  },
  {
   "cell_type": "code",
   "execution_count": 465,
   "metadata": {},
   "outputs": [],
   "source": [
    "def edesign_probability(xstate, edesign):\n",
    "    probs = dict()\n",
    "    for idx, d in enumerate(edesign.keys()):\n",
    "        probs[d] = []\n",
    "        for circ_def in edesign[d]:\n",
    "            probs[d].append( probability(xstate, d, circ_def) )\n",
    "    return probs\n",
    "\n",
    "def edesign_gradients(xstate, edesign):\n",
    "    prob_grads = dict()\n",
    "    for idx, d in enumerate(edesign.keys()):\n",
    "        prob_grads[d] = []\n",
    "        for circ_def in edesign[d]:\n",
    "            prob_grads[d].append( probability_grad(xstate, d, circ_def) )\n",
    "    return prob_grads\n",
    "\n",
    "def edesign_observation(xstate, edesign, num_shots=1000):\n",
    "    probs = edesign_probability(xstate, edesign)\n",
    "    emperical_dists = dict()\n",
    "    for d in edesign.keys():\n",
    "        emperical_dists[d] = []\n",
    "        for prob in probs[d]:\n",
    "            emperical_dists[d].append(np.random.binomial(num_shots, prob))\n",
    "    return emperical_dists"
   ]
  },
  {
   "cell_type": "code",
   "execution_count": 466,
   "metadata": {},
   "outputs": [],
   "source": [
    "def fisher_information_matrix(xstate, edesign):\n",
    "    ed_probs = edesign_probability(xstate, edesign)\n",
    "    ed_grads = edesign_gradients(xstate, edesign)\n",
    "    probs = [value for sublist in ed_probs.values() for value in sublist]\n",
    "    grads = [value for sublist in ed_grads.values() for value in sublist]\n",
    "    fisher_info = np.zeros((len(xstate), len(xstate)))\n",
    "    for idx, p in enumerate(probs):\n",
    "        if p == 0:\n",
    "            fisher_info += np.zeros((len(xstate), len(xstate)))\n",
    "        else:\n",
    "            fisher_info += np.outer(grads[idx], grads[idx])/p\n",
    "    return fisher_info\n",
    "\n",
    "def score_fisher_information_matrix(fmat, clip=1e-19):\n",
    "    evals = np.linalg.eigvals(fmat)\n",
    "    # clip \n",
    "    evals = np.clip(evals, clip, float('inf'))\n",
    "    if np.any(evals <= 0):\n",
    "        print(evals, np.clip(evals, clip, np.max(evals)))\n",
    "    return np.sum(np.log(evals))"
   ]
  },
  {
   "cell_type": "code",
   "execution_count": 467,
   "metadata": {},
   "outputs": [],
   "source": [
    "def find_minimial_circuits_fixed_depth(xestimate, d, num_circs, germ_list, prep_list, meas_list):\n",
    "    \"\"\"Find the minimal circuits for a fixed depth.\"\"\"\n",
    "    all_circuits = dict()\n",
    "    for germ in germ_list:\n",
    "        for prep in prep_list:\n",
    "            for meas in meas_list:\n",
    "                all_circuits[(germ, prep, meas)] = prep + germ*d + meas\n",
    "    \n",
    "    minimal_circuits = []\n",
    "    total_fisher_info = np.zeros((len(xestimate), len(xestimate)))\n",
    "    for r in range(num_circs):\n",
    "        scores = {}\n",
    "        for circ_def, circ in all_circuits.items():\n",
    "            if circ_def in minimal_circuits:\n",
    "                continue\n",
    "            I_circ = fisher_information_matrix(xestimate, {d: [circ_def]})\n",
    "            new_fisher = total_fisher_info + I_circ\n",
    "            score = score_fisher_information_matrix(new_fisher) \n",
    "            scores[circ_def] = score\n",
    "        best_circ_def = max(scores, key=scores.get)\n",
    "        minimal_circuits.append(best_circ_def)\n",
    "        total_fisher_info += fisher_information_matrix(xestimate, {d: [best_circ_def]})\n",
    "    if np.linalg.matrix_rank(total_fisher_info) < len(xestimate):\n",
    "        Warning( np.linalg.matrix_rank(total_fisher_info) )\n",
    "    return minimal_circuits"
   ]
  },
  {
   "cell_type": "code",
   "execution_count": 468,
   "metadata": {},
   "outputs": [],
   "source": [
    "\n",
    "\n",
    "reduced_germ_list = ['X', 'Y', 'XY']\n",
    "reduced_state_preps = ['', 'X']\n",
    "reduced_measurements = ['YYY', 'XXX']"
   ]
  },
  {
   "cell_type": "code",
   "execution_count": 469,
   "metadata": {},
   "outputs": [],
   "source": [
    "def make_complete_experiment_design(depths):\n",
    "    edesign = {}\n",
    "    for d in depths:\n",
    "        edesign[d] = []\n",
    "        for prep in all_state_preps:\n",
    "            for germ in germ_list:\n",
    "                for meas in all_measurements:\n",
    "                    edesign[d].append((germ*d, prep, meas))\n",
    "    return edesign\n",
    "\n",
    "def make_minimal_experiment_design(xestimate, depths, num_circs, germ_list, prep_list, meas_list):\n",
    "    edesign = {}\n",
    "    for d in depths:\n",
    "        edesign[d] = find_minimial_circuits_fixed_depth(xestimate, d, num_circs, germ_list, prep_list, meas_list)\n",
    "    return edesign\n",
    "\n",
    "def make_reduced_edeisgn(depths):\n",
    "    reduced_edesign = {}\n",
    "    for d in depths:\n",
    "        reduced_edesign[d] = []\n",
    "        for prep in all_state_preps:\n",
    "            for germ in reduced_germ_list:\n",
    "                for meas in all_measurements:\n",
    "                    reduced_edesign[d].append((germ*d, prep, meas))\n",
    "    return reduced_edesign"
   ]
  },
  {
   "cell_type": "code",
   "execution_count": 470,
   "metadata": {},
   "outputs": [],
   "source": [
    "custom_circuit_list = [\n",
    "    ('X', '', ''), \n",
    "    ('X', '', 'X'), \n",
    "    ('Y', '', ''), \n",
    "    ('Y', '', 'Y'), \n",
    "    ('XX', 'X', ''),\n",
    "    ('XX', 'X', 'X'),\n",
    "    ('XYX', '', ''),\n",
    "    ('XYX', '', 'X')\n",
    "]\n",
    "\n",
    "def make_custom_experiment_design(depths):\n",
    "    edesign = {}\n",
    "    for d in depths:\n",
    "        edesign[d] = custom_circuit_list\n",
    "    return edesign"
   ]
  },
  {
   "cell_type": "code",
   "execution_count": 492,
   "metadata": {},
   "outputs": [],
   "source": [
    "minimial_edesign = make_minimal_experiment_design(np.array([0, 0, 0]), [16], 6, germ_list, all_state_preps, all_measurements)"
   ]
  },
  {
   "cell_type": "code",
   "execution_count": 493,
   "metadata": {},
   "outputs": [],
   "source": [
    "edesign = make_complete_experiment_design([16])"
   ]
  },
  {
   "cell_type": "code",
   "execution_count": 494,
   "metadata": {},
   "outputs": [
    {
     "data": {
      "text/plain": [
       "{16: [('XY', 'X', 'X'),\n",
       "  ('ZXXXXZZXXXXZ', 'X', 'X'),\n",
       "  ('XX', 'XXX', 'XXX'),\n",
       "  ('XXY', 'X', 'X'),\n",
       "  ('YY', 'YYY', 'YYY'),\n",
       "  ('ZXXXXZZXXXXZ', 'XXX', 'XXX')]}"
      ]
     },
     "execution_count": 494,
     "metadata": {},
     "output_type": "execute_result"
    }
   ],
   "source": [
    "minimial_edesign"
   ]
  },
  {
   "cell_type": "code",
   "execution_count": 495,
   "metadata": {},
   "outputs": [],
   "source": [
    "target_state = np.array([0, 0, 0])\n",
    "covar = 0.01\n",
    "true_state = target_state + np.random.normal(0, covar, 3)"
   ]
  },
  {
   "cell_type": "code",
   "execution_count": 496,
   "metadata": {},
   "outputs": [],
   "source": [
    "minimal_fisher_info = fisher_information_matrix(true_state, minimial_edesign)"
   ]
  },
  {
   "cell_type": "code",
   "execution_count": 500,
   "metadata": {},
   "outputs": [],
   "source": [
    "fisher_info = fisher_information_matrix(true_state, make_complete_experiment_design([16]))"
   ]
  },
  {
   "cell_type": "code",
   "execution_count": 501,
   "metadata": {},
   "outputs": [
    {
     "data": {
      "text/plain": [
       "array([13703503.19069776,  9115421.59249534,  1517517.71304014])"
      ]
     },
     "execution_count": 501,
     "metadata": {},
     "output_type": "execute_result"
    }
   ],
   "source": [
    "np.linalg.eigvals(fisher_info)"
   ]
  },
  {
   "cell_type": "code",
   "execution_count": 502,
   "metadata": {},
   "outputs": [
    {
     "data": {
      "text/plain": [
       "array([5567.70643195, 3217.44063781,  439.3791527 ])"
      ]
     },
     "execution_count": 502,
     "metadata": {},
     "output_type": "execute_result"
    }
   ],
   "source": [
    "np.linalg.eigvals(minimal_fisher_info)"
   ]
  },
  {
   "cell_type": "markdown",
   "metadata": {},
   "source": [
    "## make a Kalman filter"
   ]
  },
  {
   "cell_type": "code",
   "execution_count": 503,
   "metadata": {},
   "outputs": [],
   "source": [
    "from filterpy.kalman import UnscentedKalmanFilter, MerweScaledSigmaPoints"
   ]
  },
  {
   "cell_type": "code",
   "execution_count": 504,
   "metadata": {},
   "outputs": [],
   "source": [
    "from filterpy.kalman import unscented_transform\n",
    "from numpy import eye, zeros, dot, isscalar, outer\n",
    "from copy import deepcopy"
   ]
  },
  {
   "cell_type": "code",
   "execution_count": 505,
   "metadata": {},
   "outputs": [],
   "source": [
    "class KalmanFilter:\n",
    "    def __init__(self, xinitial, Pinitial, Q=None, record_history=True) -> None:\n",
    "        self.x = xinitial\n",
    "        self.P = Pinitial\n",
    "        if Q is None:\n",
    "            self.Q = np.zeros((len(xinitial), len(xinitial)))\n",
    "        else:\n",
    "            self.Q = Q\n",
    "        if record_history:\n",
    "            self.history = {'x': [self.x], 'P': [self.P]}\n",
    "\n",
    "    def predict(self):\n",
    "        # TODO : implmenet controls\n",
    "        self.x = self.x\n",
    "        self.P = self.P + self.Q\n",
    "\n",
    "    def update(self, observation, edesign, r):\n",
    "        jacobian_list = []\n",
    "        prediction_list = []\n",
    "        for d in edesign.keys():\n",
    "            for circ_def in edesign[d]:\n",
    "                jacobian = probability_grad(self.x, d, circ_def)\n",
    "                prediction = probability(self.x, d, circ_def)\n",
    "                jacobian_list.append(jacobian)\n",
    "                prediction_list.append(prediction)\n",
    "        total_jac = np.vstack(jacobian_list)\n",
    "        total_pred = np.vstack(prediction_list).flatten()\n",
    "        S = total_jac@self.P@total_jac.T + np.diag(r*np.ones(len(total_pred)))\n",
    "        K = self.P@total_jac.T@np.linalg.inv(S)\n",
    "        self.x = self.x + K@(observation - total_pred)\n",
    "        self.P = self.P - K@total_jac@self.P\n",
    "        if hasattr(self, 'history'):\n",
    "            self.history['x'].append(self.x)\n",
    "            self.history['P'].append(self.P)\n",
    "\n",
    "    def iterated_update(self, observation, edesign, r, max_iter=10, tol=1e-4, return_iterations=False):\n",
    "        if return_iterations:\n",
    "            iterations = [self.x]\n",
    "        R = np.diag(r*np.ones(len(observation))) \n",
    "        for i in range(max_iter):\n",
    "            jac_list = []\n",
    "            pred_list = []\n",
    "            for d in edesign.keys():\n",
    "                for circ_def in edesign[d]:\n",
    "                    jac = probability_grad(self.x, d, circ_def)\n",
    "                    pred = probability(self.x, d, circ_def)\n",
    "                    jac_list.append(jac)\n",
    "                    pred_list.append(pred)\n",
    "            total_jac = np.vstack(jac_list)\n",
    "            if tol == \"R-dependent\":\n",
    "                tol = np.sqrt(np.trace(total_jac.T @ R @ total_jac))\n",
    "            total_pred = np.vstack(pred_list).flatten()\n",
    "            S = total_jac@self.P@total_jac.T + R\n",
    "            K = self.P@total_jac.T@np.linalg.inv(S)\n",
    "            new_x = self.x + K@(observation - total_pred)\n",
    "            if return_iterations:\n",
    "                iterations.append(new_x)\n",
    "            update_mag = np.linalg.norm(new_x - self.x)\n",
    "            self.x = new_x\n",
    "            if update_mag < tol:\n",
    "                break\n",
    "        self.P = self.P - K@total_jac@self.P\n",
    "        if hasattr(self, 'history'):\n",
    "            self.history['x'].append(self.x)\n",
    "            self.history['P'].append(self.P)\n",
    "        if i == max_iter - 1:\n",
    "            print(f\"WARNING: Max iterations reached without convergence with tolerance {tol}.\")\n",
    "        if return_iterations:\n",
    "            return np.array(iterations)\n",
    "        \n",
    "    def plot_rms_history(self, xtrue, ax=None):\n",
    "        if ax is None:\n",
    "            fig, ax = plt.subplots(1, 1, figsize=(10, 5))\n",
    "        rms_history = np.zeros(len(self.history['x']))\n",
    "        expected_errors = np.zeros(len(self.history['x']))\n",
    "        for idx, x in enumerate(self.history['x']):\n",
    "            rms_history[idx] = np.linalg.norm(x - xtrue)\n",
    "            expected_errors[idx] = np.sqrt(np.trace(self.history['P'][idx]))\n",
    "        ax.plot(rms_history)\n",
    "        # add error bars based on expected errors\n",
    "        ax.errorbar(np.arange(len(rms_history)), rms_history, yerr=expected_errors, fmt='none', ecolor='r')\n",
    "        ax.set_xlabel('Iteration')\n",
    "        ax.set_ylabel('RMS Error')\n",
    "\n",
    "    def plot_residual_history(self, xtrue, axs=None):\n",
    "        # plot the theta, phi, chi resuduals against xtrue\n",
    "        if axs is None:\n",
    "            fig, axs = plt.subplots(1, 3, figsize=(15, 5))\n",
    "        residuals = np.zeros((len(self.history['x']), 3))\n",
    "        for idx, x in enumerate(self.history['x']):\n",
    "            residuals[idx] = x - xtrue\n",
    "        axs[0].plot(residuals[:, 0])\n",
    "        axs[0].set_xlabel('Update index')\n",
    "        axs[0].set_ylabel('Theta Residual')\n",
    "        axs[1].plot(residuals[:, 1])\n",
    "        axs[1].set_xlabel('Update index')\n",
    "        axs[1].set_ylabel('Phi Residual')\n",
    "        axs[2].plot(residuals[:, 2])\n",
    "        axs[2].set_xlabel('Update index')\n",
    "        axs[2].set_ylabel('Chi Residual')\n",
    "        "
   ]
  },
  {
   "cell_type": "code",
   "execution_count": 506,
   "metadata": {},
   "outputs": [],
   "source": [
    "def fx(x, dt, u=None):\n",
    "    if u is None:\n",
    "        u = np.zeros(len(x))\n",
    "    return x + u\n",
    "\n",
    "def hx(x, edesign):\n",
    "    return edesign_probability(x, edesign)\n",
    "def vector_from_dict(d):\n",
    "    # join the arrays in the dictionary into a single array\n",
    "    return np.array([value for sublist in d.values() for value in sublist])\n",
    "\n",
    "class MyUKF(UnscentedKalmanFilter):\n",
    "    def __init__(self, num_params, edesign, num_shots):\n",
    "        self.edesign = edesign\n",
    "        self.dt=1\n",
    "\n",
    "        # calculate number of circuits\n",
    "        num_circs = 0\n",
    "        for d in edesign.keys():\n",
    "            num_circs += len(edesign[d])\n",
    "        self.num_circs = num_circs\n",
    "        self.R = (0.25/num_shots)*np.eye(num_circs)\n",
    "\n",
    "        self.points = MerweScaledSigmaPoints(num_params, alpha=1e-3, beta=2, kappa=0)\n",
    "        super().__init__(num_params, num_circs, dt=1, hx=self.hx, fx=self.fx, points=self.points)\n",
    "\n",
    "    def fx(self, x, dt, u=None):\n",
    "        if u is None:\n",
    "            u = np.zeros(len(x))\n",
    "        return x + u\n",
    "\n",
    "    def hx(self, x, d):\n",
    "        return np.array(edesign_probability(x, {d: self.edesign[d]})[d]).flatten()\n",
    "\n",
    "    def check_consistency_at_d(self, d):\n",
    "        \"\"\"Check that the experiment design at depth d is consistent for the sigma points.\"\"\"\n",
    "        pass\n",
    "\n",
    "\n",
    "        \n",
    "    def update(self, observations, num_shots, UT=None, hx=None, max_iter=10, tol=1e-3, **hx_args):\n",
    "        \"\"\"\n",
    "        Update the UKF with the given measurements. On return,\n",
    "        self.x and self.P contain the new mean and covariance of the filter.\n",
    "\n",
    "        update one generation at a time\n",
    "\n",
    "        Parameters\n",
    "        ----------\n",
    "\n",
    "        z : numpy.array of shape (dim_z)\n",
    "            measurement vector\n",
    "\n",
    "        R : numpy.array((dim_z, dim_z)), optional\n",
    "            Measurement noise. If provided, overrides self.R for\n",
    "            this function call.\n",
    "\n",
    "        UT : function(sigmas, Wm, Wc, noise_cov), optional\n",
    "            Optional function to compute the unscented transform for the sigma\n",
    "            points passed through hx. Typically the default function will\n",
    "            work - you can use x_mean_fn and z_mean_fn to alter the behavior\n",
    "            of the unscented transform.\n",
    "\n",
    "        hx : callable h(x, **hx_args), optional\n",
    "            Measurement function. If not provided, the default\n",
    "            function passed in during construction will be used.\n",
    "\n",
    "        **hx_args : keyword argument\n",
    "            arguments to be passed into h(x) after x -> h(x, **hx_args)\n",
    "        \"\"\"\n",
    "\n",
    "\n",
    "        if hx is None:\n",
    "            hx = self.hx\n",
    "\n",
    "        if UT is None:\n",
    "            UT = unscented_transform\n",
    "\n",
    "        # elif isscalar(R):\n",
    "        #     R = eye(self._dim_z) * R\n",
    "\n",
    "        for d in self.edesign.keys():\n",
    "            counts = np.array(observations[d])\n",
    "            z = counts/num_shots\n",
    "            alpha_vec = (counts + np.ones(len(counts)))/(num_shots + len(counts))\n",
    "            #R = np.diag(alpha_vec*(1-alpha_vec)/(num_shots + len(counts) +1))\n",
    "            R = (0.25/num_shots)*np.eye(len(counts))\n",
    "\n",
    "            for i in range(max_iter):\n",
    "                # pass prior sigmas through h(x) to get measurement sigmas\n",
    "                # the shape of sigmas_h will vary if the shape of z varies, so\n",
    "                # recreate each time\n",
    "                sigmas_h = []\n",
    "                for s in self.sigmas_f:\n",
    "                    sigmas_h.append(hx(s, d))\n",
    "\n",
    "                self.sigmas_h = np.atleast_2d(sigmas_h)\n",
    "\n",
    "                # mean and covariance of prediction passed through unscented transform\n",
    "                zp, self.S = UT(self.sigmas_h, self.Wm, self.Wc, R, self.z_mean, self.residual_z)\n",
    "                self.SI = self.inv(self.S)\n",
    "\n",
    "                # compute cross variance of the state and the measurements\n",
    "                Pxz = self.cross_variance(self.x, zp, self.sigmas_f, self.sigmas_h)\n",
    "                # print(self.sigmas_f, self.sigmas_h)\n",
    "\n",
    "                # print(np.linalg.norm(Pxz), np.linalg.norm(self.S), np.linalg.norm(self.SI))\n",
    "\n",
    "                self.K = dot(Pxz, self.SI)        # Kalman gain\n",
    "                self.y = self.residual_z(z, zp)   # residual\n",
    "\n",
    "\n",
    "                x_new = self.x + dot(self.K, self.y)\n",
    "                # phase unwrapping on x[2]\n",
    "                x_new[2] = np.unwrap([x_new[2]])\n",
    "                if np.linalg.norm(x_new - self.x) < tol:\n",
    "                    break\n",
    "                else:\n",
    "                    self.x = x_new\n",
    "                    self.compute_process_sigmas(self.dt, self.fx)\n",
    "                    #if i == max_iter - 1:\n",
    "                    #    print(f\"WARNING: Max iterations reached without convergence with tolerance {tol}.\")\n",
    "            self.x = x_new\n",
    "            self.P = self.P - self.K@self.S@self.K.T\n",
    "\n",
    "            # save measurement and posterior state\n",
    "            self.x_post = self.x.copy()\n",
    "            self.z = deepcopy(z)\n",
    "            self.P_post = self.P.copy()\n",
    "\n",
    "        # set to None to force recompute\n",
    "        self._log_likelihood = None\n",
    "        self._likelihood = None\n",
    "        self._mahalanobis = None\n",
    "\n",
    "\n",
    "    # def control_update(self, observations, num_shots, UT=None, hx=None, max_iter=10, tol=1e-3, **hx_args):\n",
    "    #     \"\"\"\n",
    "    #     Update the UKF with the given measurements. On return,\n",
    "    #     self.x and self.P contain the new mean and covariance of the filter.\n",
    "\n",
    "    #     update one generation at a time\n",
    "\n",
    "    #     Parameters\n",
    "    #     ----------\n",
    "\n",
    "    #     z : numpy.array of shape (dim_z)\n",
    "    #         measurement vector\n",
    "\n",
    "    #     R : numpy.array((dim_z, dim_z)), optional\n",
    "    #         Measurement noise. If provided, overrides self.R for\n",
    "    #         this function call.\n",
    "\n",
    "    #     UT : function(sigmas, Wm, Wc, noise_cov), optional\n",
    "    #         Optional function to compute the unscented transform for the sigma\n",
    "    #         points passed through hx. Typically the default function will\n",
    "    #         work - you can use x_mean_fn and z_mean_fn to alter the behavior\n",
    "    #         of the unscented transform.\n",
    "\n",
    "    #     hx : callable h(x, **hx_args), optional\n",
    "    #         Measurement function. If not provided, the default\n",
    "    #         function passed in during construction will be used.\n",
    "\n",
    "    #     **hx_args : keyword argument\n",
    "    #         arguments to be passed into h(x) after x -> h(x, **hx_args)\n",
    "    #     \"\"\"\n",
    "\n",
    "\n",
    "    #     if hx is None:\n",
    "    #         hx = self.hx\n",
    "\n",
    "    #     if UT is None:\n",
    "    #         UT = unscented_transform\n",
    "\n",
    "    #     # elif isscalar(R):\n",
    "    #     #     R = eye(self._dim_z) * R\n",
    "\n",
    "    #     for d in self.edesign.keys():\n",
    "    #         counts = np.array(observations[d])\n",
    "    #         z = counts/num_shots\n",
    "    #         alpha_vec = (counts + np.ones(len(counts)))/(num_shots + len(counts))\n",
    "    #         #R = np.diag(alpha_vec*(1-alpha_vec)/(num_shots + len(counts) +1))\n",
    "    #         R = (0.25/num_shots)*np.eye(len(counts))\n",
    "\n",
    "    #         for i in range(max_iter):\n",
    "    #             # pass prior sigmas through h(x) to get measurement sigmas\n",
    "    #             # the shape of sigmas_h will vary if the shape of z varies, so\n",
    "    #             # recreate each time\n",
    "    #             sigmas_h = []\n",
    "    #             for s in self.sigmas_f:\n",
    "    #                 sigmas_h.append(hx(s, d))\n",
    "\n",
    "    #             self.sigmas_h = np.atleast_2d(sigmas_h)\n",
    "\n",
    "    #             # mean and covariance of prediction passed through unscented transform\n",
    "    #             zp, self.S = UT(self.sigmas_h, self.Wm, self.Wc, R, self.z_mean, self.residual_z)\n",
    "    #             self.SI = self.inv(self.S)\n",
    "\n",
    "    #             # compute cross variance of the state and the measurements\n",
    "    #             Pxz = self.cross_variance(self.x, zp, self.sigmas_f, self.sigmas_h)\n",
    "    #             # print(self.sigmas_f, self.sigmas_h)\n",
    "\n",
    "    #             # print(np.linalg.norm(Pxz), np.linalg.norm(self.S), np.linalg.norm(self.SI))\n",
    "\n",
    "    #             self.K = dot(Pxz, self.SI)        # Kalman gain\n",
    "    #             self.y = self.residual_z(z, zp)   # residual\n",
    "\n",
    "\n",
    "    #             u = -dot(self.K, self.y)\n",
    "    #             x_new = self.x + dot(self.K, self.y)\n",
    "    #             # phase unwrapping on x[2]\n",
    "    #             if np.linalg.norm(x_new - self.x) < tol:\n",
    "    #                 break\n",
    "    #             else:\n",
    "    #                 self.x = x_new\n",
    "    #                 self.update()\n",
    "    #                 #if i == max_iter - 1:\n",
    "    #                 #    print(f\"WARNING: Max iterations reached without convergence with tolerance {tol}.\")\n",
    "    #         self.x = x_new\n",
    "    #         self.P = self.P - self.K@self.S@self.K.T\n",
    "\n",
    "    #         # save measurement and posterior state\n",
    "    #         self.x_post = self.x.copy()\n",
    "    #         self.z = deepcopy(z)\n",
    "    #         self.P_post = self.P.copy()\n",
    "\n",
    "        \n",
    "    #     # set to None to force recompute\n",
    "    #     self._log_likelihood = None\n",
    "    #     self._likelihood = None\n",
    "    #     self._mahalanobis = None\n",
    "    #     u = - self.x \n",
    "    #     self.x = np.zeros(len(self.x))\n",
    "    #     return u\n"
   ]
  },
  {
   "cell_type": "code",
   "execution_count": 507,
   "metadata": {},
   "outputs": [],
   "source": [
    "edesign = make_complete_experiment_design([1, 2, 4, 8])"
   ]
  },
  {
   "cell_type": "code",
   "execution_count": 508,
   "metadata": {},
   "outputs": [],
   "source": [
    "true_state = np.array([0, 0, 0])\n",
    "covar = 0.1\n",
    "x0 = true_state + np.random.normal(0, covar, 3)\n",
    "P0 = np.eye(3)*covar\n",
    "num_shots = 1000"
   ]
  },
  {
   "cell_type": "code",
   "execution_count": 509,
   "metadata": {},
   "outputs": [],
   "source": [
    "#ekf = KalmanFilter(x0, P0, record_history=True)"
   ]
  },
  {
   "cell_type": "code",
   "execution_count": 510,
   "metadata": {},
   "outputs": [],
   "source": [
    "ukf = MyUKF(3, edesign, num_shots)\n",
    "ukf.x = x0\n",
    "ukf.P = P0\n",
    "ukf.R = (0.25/num_shots)*np.eye(ukf.num_circs)"
   ]
  },
  {
   "cell_type": "code",
   "execution_count": 511,
   "metadata": {},
   "outputs": [],
   "source": [
    "observations = edesign_observation(true_state, edesign, num_shots)"
   ]
  },
  {
   "cell_type": "code",
   "execution_count": 512,
   "metadata": {},
   "outputs": [],
   "source": [
    "ukf.predict()\n",
    "ukf.update(observations, num_shots, tol=1e-4)\n"
   ]
  },
  {
   "cell_type": "code",
   "execution_count": 513,
   "metadata": {},
   "outputs": [],
   "source": [
    "#ekf.iterated_update(observations, edesign, 0.25/num_shots)"
   ]
  },
  {
   "cell_type": "code",
   "execution_count": 514,
   "metadata": {},
   "outputs": [
    {
     "data": {
      "text/plain": [
       "0.14454145299373858"
      ]
     },
     "execution_count": 514,
     "metadata": {},
     "output_type": "execute_result"
    }
   ],
   "source": [
    "# original error\n",
    "np.linalg.norm(x0 - true_state)"
   ]
  },
  {
   "cell_type": "code",
   "execution_count": 515,
   "metadata": {},
   "outputs": [],
   "source": [
    "# ekf error\n",
    "#np.linalg.norm(ekf.x - true_state)"
   ]
  },
  {
   "cell_type": "code",
   "execution_count": 516,
   "metadata": {},
   "outputs": [
    {
     "data": {
      "text/plain": [
       "6.656803871126872e-05"
      ]
     },
     "execution_count": 516,
     "metadata": {},
     "output_type": "execute_result"
    }
   ],
   "source": [
    "# ukf error\n",
    "np.linalg.norm(ukf.x - true_state)"
   ]
  },
  {
   "cell_type": "markdown",
   "metadata": {},
   "source": [
    "## tomographic estimation under drift"
   ]
  },
  {
   "cell_type": "code",
   "execution_count": 761,
   "metadata": {},
   "outputs": [],
   "source": [
    "custom_circuit_list = [\n",
    "    ('X', '', ''), \n",
    "    ('X', '', 'X'), \n",
    "    ('XYX', '', ''),\n",
    "    ('XYX', '', 'X'), \n",
    "    ('ZXXXXZZXXXXZ', 'Y', 'YYY'),\n",
    "    ('ZXXXXZZXXXXZ', 'Y', 'XXX'),\n",
    "]\n",
    "\n",
    "def make_custom_experiment_design(depths):\n",
    "    edesign = {}\n",
    "    for d in depths:\n",
    "        edesign[d] = custom_circuit_list\n",
    "    return edesign"
   ]
  },
  {
   "cell_type": "code",
   "execution_count": 762,
   "metadata": {},
   "outputs": [],
   "source": [
    "depths = [8, 16, 32, 64, 128, 256]\n",
    "edesign = make_custom_experiment_design(depths)"
   ]
  },
  {
   "cell_type": "code",
   "execution_count": 763,
   "metadata": {},
   "outputs": [],
   "source": [
    "Q = np.eye(3)*0.0005\n",
    "target_state = np.array([0, 0, 0])\n"
   ]
  },
  {
   "cell_type": "code",
   "execution_count": 764,
   "metadata": {},
   "outputs": [
    {
     "data": {
      "text/plain": [
       "18.137993642342177"
      ]
     },
     "execution_count": 764,
     "metadata": {},
     "output_type": "execute_result"
    }
   ],
   "source": [
    "0.5*np.pi/np.sqrt(5*np.trace(Q))"
   ]
  },
  {
   "cell_type": "code",
   "execution_count": 765,
   "metadata": {},
   "outputs": [],
   "source": [
    "num_steps = 100\n",
    "num_iterations = 10\n",
    "tol = 1e-4"
   ]
  },
  {
   "cell_type": "code",
   "execution_count": 766,
   "metadata": {},
   "outputs": [],
   "source": [
    "from tqdm import tqdm"
   ]
  },
  {
   "cell_type": "code",
   "execution_count": 767,
   "metadata": {},
   "outputs": [
    {
     "name": "stderr",
     "output_type": "stream",
     "text": [
      "100%|██████████| 100/100 [00:41<00:00,  2.44it/s]\n"
     ]
    }
   ],
   "source": [
    "#ekf = KalmanFilter(x0, P0, Q=Q, record_history=True)\n",
    "num_shots = 100\n",
    "\n",
    "covar = 0.001\n",
    "x0 = target_state \n",
    "P0 = np.eye(3)*covar\n",
    "\n",
    "true_state = target_state + np.random.normal(0, covar, 3)\n",
    "\n",
    "\n",
    "ukf = MyUKF(3, edesign, num_shots)\n",
    "ukf.x = x0\n",
    "ukf.P = P0\n",
    "ukf.Q = Q\n",
    "\n",
    "\n",
    "ukf_history = [x0]\n",
    "covar_history = [P0]\n",
    "true_state_history = [true_state]\n",
    "for i in tqdm(range(num_steps)):\n",
    "    true_state = true_state + np.random.multivariate_normal(np.zeros(3), Q)\n",
    "    true_state_history.append(true_state)\n",
    "    observations = edesign_observation(true_state, edesign, num_shots)\n",
    "    ukf.predict(u=np.zeros(3))\n",
    "    ukf.update(observations, num_shots, max_iter=5,tol=1e-5)\n",
    "    ukf_history.append(ukf.x)\n",
    "    covar_history.append(ukf.P)\n",
    "    # ekf.predict()\n",
    "    # ekf.iterated_update(observations, edesign, 0.25/num_shots)\n",
    "    #ekf_history.append(ekf.x)"
   ]
  },
  {
   "cell_type": "code",
   "execution_count": 727,
   "metadata": {},
   "outputs": [],
   "source": [
    "ukf_history = np.array(ukf_history)\n",
    "covar_history = np.array(covar_history)\n",
    "#ekf_history = np.array(ekf_history)\n",
    "true_state_history = np.array(true_state_history)"
   ]
  },
  {
   "cell_type": "code",
   "execution_count": 731,
   "metadata": {},
   "outputs": [
    {
     "data": {
      "image/png": "[encoded data removed]",
      "text/plain": [
       "<Figure size 1200x400 with 3 Axes>"
      ]
     },
     "metadata": {},
     "output_type": "display_data"
    }
   ],
   "source": [
    "# plot the estimated and true state over time\n",
    "fig, ax = plt.subplots(1, 3, figsize=(12, 4))\n",
    "\n",
    "ax[0].plot(ukf_history[:, 0], label='Kalman Estimate')\n",
    "# plot the error bars as colored regions\n",
    "# y errors are the diagonal of the square root of the covariance matrix\n",
    "yerr = np.sqrt(covar_history[:, 0, 0])\n",
    "ax[0].fill_between(np.arange(num_steps), ukf_history[:, 0] - yerr, ukf_history[:, 0] + yerr, alpha=0.3)\n",
    "ax[0].plot(true_state_history[:, 0], label='True Trajectory', linestyle='dotted')\n",
    "#ax[0].plot(ekf_history[:, 0], label='EKF')\n",
    "\n",
    "ax[1].plot(ukf_history[:, 1], label='Kalman Estimate')\n",
    "yerr = np.sqrt(covar_history[:, 1, 1])\n",
    "ax[1].fill_between(np.arange(num_steps), ukf_history[:, 1] - yerr, ukf_history[:, 1] + yerr, alpha=0.3)\n",
    "ax[1].plot(true_state_history[:, 1], label='True Trajectory', linestyle='dotted')\n",
    "\n",
    "ax[2].plot(ukf_history[:, 2], label='Kalman Estimate')\n",
    "yerr = np.sqrt(covar_history[:, 2, 2])\n",
    "ax[2].fill_between(np.arange(num_steps), ukf_history[:, 2] - yerr, ukf_history[:, 2] + yerr, alpha=0.3)\n",
    "ax[2].plot(true_state_history[:, 2], label='True Trajectory', linestyle='dotted')\n",
    "\n",
    "# ax[1].plot(true_state_history[:, 1], label='True Trajectory', linewidth=5)\n",
    "# ax[1].plot(ukf_history[:, 1], label='Kalman Estimate')\n",
    "\n",
    "# ax[2].plot(true_state_history[:, 2], label='True Trajectory', linewidth=5)\n",
    "# ax[2].plot(ukf_history[:, 2], label='Kalman Estimate')\n",
    "\n",
    "\n",
    "font_size = 16\n",
    "ax[0].set_xlabel('k (time index)', fontsize=font_size)\n",
    "ax[0].set_title('Error in $\\\\Delta (x[0])$', fontsize=font_size)\n",
    "ax[0].set_ylabel('Error', fontsize=14)\n",
    "\n",
    "#ax[1].plot(ekf_history[:, 1], label='EKF')\n",
    "ax[1].set_title('Error in $\\\\Omega$ (x[1])', fontsize=font_size)\n",
    "\n",
    "ax[2].set_title('Error in $\\\\phi$ (x[2])', fontsize=font_size)\n",
    "# make the font larger for the labels\n",
    "\n",
    "# set the axes to the same range \n",
    "yrange = [-0.2, 0.3]\n",
    "for a in ax:\n",
    "    a.set_ylim(yrange)\n",
    "\n",
    "\n",
    "\n",
    "ax[2].legend(fontsize=font_size)\n",
    "# set tight layout\n",
    "plt.tight_layout()\n"
   ]
  },
  {
   "cell_type": "code",
   "execution_count": 732,
   "metadata": {},
   "outputs": [],
   "source": [
    "# calculate the total uncertainty in the state as a function of time\n",
    "total_uncertainty = np.zeros(num_steps)\n",
    "for i in range(num_steps):\n",
    "    total_uncertainty[i] = np.sqrt(np.trace(covar_history[i]))/3"
   ]
  },
  {
   "cell_type": "code",
   "execution_count": 733,
   "metadata": {},
   "outputs": [
    {
     "data": {
      "text/plain": [
       "array([0.00019081, 0.00019759, 0.00019584, 0.00020283, 0.00019012,\n",
       "       0.00018261, 0.00018567, 0.00020565, 0.00017467, 0.00020007,\n",
       "       0.00018048, 0.00019596, 0.0001797 , 0.00019169, 0.00019713,\n",
       "       0.00018672, 0.00018327, 0.00018262, 0.00018577, 0.00018244,\n",
       "       0.00018687, 0.00018315, 0.0001831 , 0.0001701 , 0.00018736,\n",
       "       0.00017178, 0.00017926, 0.00018524, 0.00017391, 0.00017909,\n",
       "       0.00019638, 0.00017547, 0.00018386, 0.0001703 , 0.00019244,\n",
       "       0.00018541, 0.00019883, 0.00017755, 0.00019451, 0.00018824,\n",
       "       0.00019454, 0.00017942, 0.00019724, 0.0001921 , 0.00018282,\n",
       "       0.00018712, 0.00018672, 0.00019015, 0.00020828, 0.00019396,\n",
       "       0.00020517, 0.0002029 , 0.00021335, 0.00021331, 0.00019993,\n",
       "       0.00019694, 0.00021657, 0.00021008, 0.00020827, 0.00020111,\n",
       "       0.00019623, 0.00020119, 0.00019232, 0.00019362, 0.00018623,\n",
       "       0.00019072, 0.00019091, 0.00020084, 0.00019554, 0.00018639,\n",
       "       0.00018885, 0.00017991, 0.00019175, 0.00018777, 0.00019599,\n",
       "       0.00018034, 0.00018482, 0.00018915, 0.00018651, 0.00017811,\n",
       "       0.0001766 , 0.00017994, 0.00018617, 0.00018091, 0.00019362,\n",
       "       0.00017872, 0.00019376, 0.00016763, 0.00017176, 0.00020692,\n",
       "       0.00016425, 0.00016338, 0.00016921, 0.00019523, 0.00017426,\n",
       "       0.00018793, 0.00019354, 0.0001767 , 0.00020265, 0.00015509])"
      ]
     },
     "execution_count": 733,
     "metadata": {},
     "output_type": "execute_result"
    }
   ],
   "source": [
    "total_uncertainty"
   ]
  },
  {
   "cell_type": "code",
   "execution_count": 734,
   "metadata": {},
   "outputs": [
    {
     "data": {
      "text/plain": [
       "261234153.2562601"
      ]
     },
     "execution_count": 734,
     "metadata": {},
     "output_type": "execute_result"
    }
   ],
   "source": [
    "u = total_uncertainty[-1]\n",
    "2*np.pi/u**2"
   ]
  },
  {
   "cell_type": "markdown",
   "metadata": {},
   "source": [
    "(xestimate, depths, num_circs, germ_list, prep_list, meas_list)"
   ]
  },
  {
   "cell_type": "markdown",
   "metadata": {},
   "source": []
  },
  {
   "cell_type": "markdown",
   "metadata": {},
   "source": [
    "# drift regulation"
   ]
  },
  {
   "cell_type": "code",
   "execution_count": 736,
   "metadata": {},
   "outputs": [
    {
     "data": {
      "text/plain": [
       "20.27889337986806"
      ]
     },
     "execution_count": 736,
     "metadata": {},
     "output_type": "execute_result"
    }
   ],
   "source": [
    "# calculate safe max depth \n",
    "0.25*np.pi/np.sqrt(5*np.trace(Q))"
   ]
  },
  {
   "cell_type": "code",
   "execution_count": 737,
   "metadata": {},
   "outputs": [],
   "source": [
    "def make_lqr_gain(A, B, Q, R):\n",
    "    \"\"\"Solve the continuous time lqr controller.\"\"\"\n",
    "    # first, solve the ricatti equation\n",
    "    P = np.matrix(scipy.linalg.solve_continuous_are(A, B, Q, R))\n",
    "    # compute the LQR gain\n",
    "    K = np.matrix(scipy.linalg.inv(R + B.T@P@B)*B.T@P@A)\n",
    "    return K"
   ]
  },
  {
   "cell_type": "code",
   "execution_count": 738,
   "metadata": {},
   "outputs": [],
   "source": [
    "A = np.eye(3)\n",
    "B = np.eye(3)\n"
   ]
  },
  {
   "cell_type": "code",
   "execution_count": 739,
   "metadata": {},
   "outputs": [],
   "source": [
    "num_steps = 100\n",
    "num_shots = 100\n",
    "theta = 0.6\n",
    "max_iterations = 10\n",
    "tol = 1e-5"
   ]
  },
  {
   "cell_type": "code",
   "execution_count": 740,
   "metadata": {},
   "outputs": [],
   "source": [
    "ukf = MyUKF(3, edesign, num_shots)\n",
    "ukf.x = x0\n",
    "ukf.P = P0\n",
    "ukf.R = (0.25/num_shots)*np.eye(ukf.num_circs)\n",
    "ukf.Q = Q"
   ]
  },
  {
   "cell_type": "code",
   "execution_count": 741,
   "metadata": {},
   "outputs": [],
   "source": [
    "from tqdm import tqdm\n",
    "import control as _control"
   ]
  },
  {
   "cell_type": "code",
   "execution_count": 742,
   "metadata": {},
   "outputs": [
    {
     "name": "stdout",
     "output_type": "stream",
     "text": [
      "[[0.98076211 0.         0.        ]\n",
      " [0.         0.98076211 0.        ]\n",
      " [0.         0.         0.98076211]]\n"
     ]
    }
   ],
   "source": [
    "Q_lqr = 50*np.eye(3)\n",
    "R_lqr = np.diag([1, 1, 1])\n",
    "K, S, E = _control.dlqr(A, B, Q_lqr, R_lqr)\n",
    "print(K)"
   ]
  },
  {
   "cell_type": "code",
   "execution_count": 743,
   "metadata": {},
   "outputs": [
    {
     "name": "stderr",
     "output_type": "stream",
     "text": [
      "100%|██████████| 100/100 [00:57<00:00,  1.75it/s]\n"
     ]
    }
   ],
   "source": [
    "#ekf = KalmanFilter(x0, P0, Q=Q, record_history=True)\n",
    "num_shots = 100\n",
    "\n",
    "covar = 0.001\n",
    "x0 = target_state \n",
    "P0 = np.eye(3)*covar\n",
    "\n",
    "true_state = target_state + np.random.normal(0, covar, 3)\n",
    "\n",
    "\n",
    "ukf = MyUKF(3, edesign, num_shots)\n",
    "ukf.x = x0\n",
    "ukf.P = P0\n",
    "ukf.Q = Q\n",
    "\n",
    "\n",
    "ukf_history = [x0]\n",
    "covar_history = [P0]\n",
    "true_state_history = [true_state]\n",
    "\n",
    "for i in tqdm(range(num_steps)):\n",
    "    ukf.P += Q_add\n",
    "    ukf.predict()\n",
    "   \n",
    "    \n",
    "    observations = edesign_observation(state, edesign, num_shots)\n",
    "    \n",
    "    ukf.update(observations, num_shots, max_iter=max_iterations, tol=tol)\n",
    "    \n",
    "    control =  -np.array(gain@ukf.x).flatten()\n",
    "    new_x = ukf.x + control\n",
    "    ukf.x = new_x\n",
    "    \n",
    "    ukf_history.append(ukf.x)\n",
    "    covar_history.append(ukf.P)\n",
    "\n",
    "    state = state + control\n",
    "    state_history.append(state)\n",
    "    w = np.random.multivariate_normal(np.zeros(3), Q)\n",
    "    state = state + w\n",
    "    unregulated_history.append(unregulated_history[-1] + w)"
   ]
  },
  {
   "cell_type": "code",
   "execution_count": 746,
   "metadata": {},
   "outputs": [],
   "source": [
    "ukf_history = np.array(ukf_history)\n",
    "#ekf_history = np.array(ekf_history)\n",
    "true_state_history = np.array(state_history)\n",
    "unregulated_history = np.array(unregulated_history)"
   ]
  },
  {
   "cell_type": "code",
   "execution_count": 747,
   "metadata": {},
   "outputs": [
    {
     "ename": "ValueError",
     "evalue": "operands could not be broadcast together with shapes (101,) (100,) ",
     "output_type": "error",
     "traceback": [
      "\u001b[0;31m---------------------------------------------------------------------------\u001b[0m",
      "\u001b[0;31mValueError\u001b[0m                                Traceback (most recent call last)",
      "Cell \u001b[0;32mIn[747], line 8\u001b[0m\n\u001b[1;32m      5\u001b[0m \u001b[38;5;66;03m# plot the error bars as colored regions\u001b[39;00m\n\u001b[1;32m      6\u001b[0m \u001b[38;5;66;03m# y errors are the diagonal of the square root of the covariance matrix\u001b[39;00m\n\u001b[1;32m      7\u001b[0m yerr \u001b[38;5;241m=\u001b[39m np\u001b[38;5;241m.\u001b[39msqrt(covar_history[:, \u001b[38;5;241m0\u001b[39m, \u001b[38;5;241m0\u001b[39m])\n\u001b[0;32m----> 8\u001b[0m ax[\u001b[38;5;241m0\u001b[39m]\u001b[38;5;241m.\u001b[39mfill_between(np\u001b[38;5;241m.\u001b[39marange(num_steps), \u001b[43mukf_history\u001b[49m\u001b[43m[\u001b[49m\u001b[43m:\u001b[49m\u001b[43m,\u001b[49m\u001b[43m \u001b[49m\u001b[38;5;241;43m0\u001b[39;49m\u001b[43m]\u001b[49m\u001b[43m \u001b[49m\u001b[38;5;241;43m-\u001b[39;49m\u001b[43m \u001b[49m\u001b[43myerr\u001b[49m, ukf_history[:, \u001b[38;5;241m0\u001b[39m] \u001b[38;5;241m+\u001b[39m yerr, alpha\u001b[38;5;241m=\u001b[39m\u001b[38;5;241m0.3\u001b[39m)\n\u001b[1;32m      9\u001b[0m ax[\u001b[38;5;241m0\u001b[39m]\u001b[38;5;241m.\u001b[39mplot(true_state_history[:, \u001b[38;5;241m0\u001b[39m], label\u001b[38;5;241m=\u001b[39m\u001b[38;5;124m'\u001b[39m\u001b[38;5;124mTrue Trajectory\u001b[39m\u001b[38;5;124m'\u001b[39m, linestyle\u001b[38;5;241m=\u001b[39m\u001b[38;5;124m'\u001b[39m\u001b[38;5;124mdotted\u001b[39m\u001b[38;5;124m'\u001b[39m)\n\u001b[1;32m     10\u001b[0m \u001b[38;5;66;03m#ax[0].plot(ekf_history[:, 0], label='EKF')\u001b[39;00m\n",
      "\u001b[0;31mValueError\u001b[0m: operands could not be broadcast together with shapes (101,) (100,) "
     ]
    },
    {
     "data": {
      "image/png": "[encoded data removed]",
      "text/plain": [
       "<Figure size 1200x400 with 3 Axes>"
      ]
     },
     "metadata": {},
     "output_type": "display_data"
    }
   ],
   "source": [
    "# plot the estimated and true state over time\n",
    "fig, ax = plt.subplots(1, 3, figsize=(12, 4))\n",
    "\n",
    "ax[0].plot(ukf_history[:, 0], label='Kalman Estimate')\n",
    "# plot the error bars as colored regions\n",
    "# y errors are the diagonal of the square root of the covariance matrix\n",
    "yerr = np.sqrt(covar_history[:, 0, 0])\n",
    "ax[0].fill_between(np.arange(num_steps), ukf_history[:, 0] - yerr, ukf_history[:, 0] + yerr, alpha=0.3)\n",
    "ax[0].plot(true_state_history[:, 0], label='True Trajectory', linestyle='dotted')\n",
    "#ax[0].plot(ekf_history[:, 0], label='EKF')\n",
    "\n",
    "ax[1].plot(ukf_history[:, 1], label='Kalman Estimate')\n",
    "yerr = np.sqrt(covar_history[:, 1, 1])\n",
    "ax[1].fill_between(np.arange(num_steps), ukf_history[:, 1] - yerr, ukf_history[:, 1] + yerr, alpha=0.3)\n",
    "ax[1].plot(true_state_history[:, 1], label='True Trajectory', linestyle='dotted')\n",
    "\n",
    "ax[2].plot(ukf_history[:, 2], label='Kalman Estimate')\n",
    "yerr = np.sqrt(covar_history[:, 2, 2])\n",
    "ax[2].fill_between(np.arange(num_steps), ukf_history[:, 2] - yerr, ukf_history[:, 2] + yerr, alpha=0.3)\n",
    "ax[2].plot(true_state_history[:, 2], label='True Trajectory', linestyle='dotted')\n",
    "\n",
    "# ax[1].plot(true_state_history[:, 1], label='True Trajectory', linewidth=5)\n",
    "# ax[1].plot(ukf_history[:, 1], label='Kalman Estimate')\n",
    "\n",
    "# ax[2].plot(true_state_history[:, 2], label='True Trajectory', linewidth=5)\n",
    "# ax[2].plot(ukf_history[:, 2], label='Kalman Estimate')\n",
    "\n",
    "\n",
    "font_size = 16\n",
    "ax[0].set_xlabel('k (time index)', fontsize=font_size)\n",
    "ax[0].set_title('Error in $\\\\Delta (x[0])$', fontsize=font_size)\n",
    "ax[0].set_ylabel('Error', fontsize=14)\n",
    "\n",
    "#ax[1].plot(ekf_history[:, 1], label='EKF')\n",
    "ax[1].set_title('Error in $\\\\Omega$ (x[1])', fontsize=font_size)\n",
    "\n",
    "ax[2].set_title('Error in $\\\\phi$ (x[2])', fontsize=font_size)\n",
    "# make the font larger for the labels\n",
    "\n",
    "# set the axes to the same range \n",
    "yrange = [-0.2, 0.3]\n",
    "for a in ax:\n",
    "    a.set_ylim(yrange)\n",
    "\n",
    "\n",
    "\n",
    "ax[2].legend(fontsize=font_size)\n",
    "# set tight layout\n",
    "plt.tight_layout()\n",
    "\n"
   ]
  },
  {
   "cell_type": "code",
   "execution_count": null,
   "metadata": {},
   "outputs": [],
   "source": []
  },
  {
   "cell_type": "code",
   "execution_count": null,
   "metadata": {},
   "outputs": [],
   "source": []
  }
 ],
 "metadata": {
  "kernelspec": {
   "display_name": "ErrorGenerators",
   "language": "python",
   "name": "python3"
  },
  "language_info": {
   "codemirror_mode": {
    "name": "ipython",
    "version": 3
   },
   "file_extension": ".py",
   "mimetype": "text/x-python",
   "name": "python",
   "nbconvert_exporter": "python",
   "pygments_lexer": "ipython3",
   "version": "3.10.11"
  }
 },
 "nbformat": 4,
 "nbformat_minor": 2
}
